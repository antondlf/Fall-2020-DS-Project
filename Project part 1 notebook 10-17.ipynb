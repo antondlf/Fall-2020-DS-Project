{
 "cells": [
  {
   "cell_type": "code",
   "execution_count": 10,
   "metadata": {},
   "outputs": [],
   "source": [
    "import numpy as np\n",
    "part1 = np.load(\"part1a.npz\")\n",
    "part1.files\n",
    "Ic_0 = part1[\"Ic_0\"]\n",
    "N = part1[\"N\"]\n",
    "gamma = part1[\"gamma\"]\n",
    "Lc = part1[\"Lc\"]\n",
    "Svc_0 = part1[\"Svc_0_pmf\"]"
   ]
  },
  {
   "cell_type": "code",
   "execution_count": 11,
   "metadata": {
    "scrolled": true
   },
   "outputs": [
    {
     "data": {
      "text/html": [
       "<div>\n",
       "<style scoped>\n",
       "    .dataframe tbody tr th:only-of-type {\n",
       "        vertical-align: middle;\n",
       "    }\n",
       "\n",
       "    .dataframe tbody tr th {\n",
       "        vertical-align: top;\n",
       "    }\n",
       "\n",
       "    .dataframe thead th {\n",
       "        text-align: right;\n",
       "    }\n",
       "</style>\n",
       "<table border=\"1\" class=\"dataframe\">\n",
       "  <thead>\n",
       "    <tr style=\"text-align: right;\">\n",
       "      <th></th>\n",
       "      <th>0</th>\n",
       "      <th>1</th>\n",
       "      <th>2</th>\n",
       "      <th>3</th>\n",
       "      <th>Ic_0</th>\n",
       "    </tr>\n",
       "  </thead>\n",
       "  <tbody>\n",
       "    <tr>\n",
       "      <th>0</th>\n",
       "      <td>0.109533</td>\n",
       "      <td>0.033008</td>\n",
       "      <td>0.081790</td>\n",
       "      <td>0.115940</td>\n",
       "      <td>47</td>\n",
       "    </tr>\n",
       "    <tr>\n",
       "      <th>1</th>\n",
       "      <td>0.030898</td>\n",
       "      <td>0.085120</td>\n",
       "      <td>0.045288</td>\n",
       "      <td>0.057183</td>\n",
       "      <td>90</td>\n",
       "    </tr>\n",
       "    <tr>\n",
       "      <th>2</th>\n",
       "      <td>0.074715</td>\n",
       "      <td>0.024956</td>\n",
       "      <td>0.102366</td>\n",
       "      <td>0.042567</td>\n",
       "      <td>51</td>\n",
       "    </tr>\n",
       "    <tr>\n",
       "      <th>3</th>\n",
       "      <td>0.016059</td>\n",
       "      <td>0.081096</td>\n",
       "      <td>0.091582</td>\n",
       "      <td>0.007900</td>\n",
       "      <td>65</td>\n",
       "    </tr>\n",
       "  </tbody>\n",
       "</table>\n",
       "</div>"
      ],
      "text/plain": [
       "          0         1         2         3  Ic_0\n",
       "0  0.109533  0.033008  0.081790  0.115940    47\n",
       "1  0.030898  0.085120  0.045288  0.057183    90\n",
       "2  0.074715  0.024956  0.102366  0.042567    51\n",
       "3  0.016059  0.081096  0.091582  0.007900    65"
      ]
     },
     "execution_count": 11,
     "metadata": {},
     "output_type": "execute_result"
    }
   ],
   "source": [
    "import pandas as pd\n",
    "S_0 = N-(Ic_0.sum())\n",
    "I_0 = Ic_0.sum()\n",
    "R_0 = 0\n",
    "data = pd.DataFrame(Svc_0)\n",
    "data[\"Ic_0\"] = Ic_0\n",
    "data"
   ]
  },
  {
   "cell_type": "code",
   "execution_count": 12,
   "metadata": {},
   "outputs": [],
   "source": [
    "import random \n",
    "from random import Random\n",
    "random.seed(a=None, version=2)\n",
    "B0c = []\n",
    "B1c = []\n",
    "B2c = []\n",
    "B3c = []\n",
    "for i in range(4):\n",
    "    B0c.append(random.uniform(0, 0.25))\n",
    "    B1c.append(random.uniform(0.25, 0.5))\n",
    "    B2c.append(random.uniform(0.5, 0.75))\n",
    "    B3c.append(random.uniform(0.75, 1.0))"
   ]
  },
  {
   "cell_type": "code",
   "execution_count": 13,
   "metadata": {},
   "outputs": [
    {
     "data": {
      "text/html": [
       "<div>\n",
       "<style scoped>\n",
       "    .dataframe tbody tr th:only-of-type {\n",
       "        vertical-align: middle;\n",
       "    }\n",
       "\n",
       "    .dataframe tbody tr th {\n",
       "        vertical-align: top;\n",
       "    }\n",
       "\n",
       "    .dataframe thead th {\n",
       "        text-align: right;\n",
       "    }\n",
       "</style>\n",
       "<table border=\"1\" class=\"dataframe\">\n",
       "  <thead>\n",
       "    <tr style=\"text-align: right;\">\n",
       "      <th></th>\n",
       "      <th>0</th>\n",
       "      <th>1</th>\n",
       "      <th>2</th>\n",
       "      <th>3</th>\n",
       "    </tr>\n",
       "  </thead>\n",
       "  <tbody>\n",
       "    <tr>\n",
       "      <th>0</th>\n",
       "      <td>0.004949</td>\n",
       "      <td>0.083789</td>\n",
       "      <td>0.089729</td>\n",
       "      <td>0.209132</td>\n",
       "    </tr>\n",
       "    <tr>\n",
       "      <th>1</th>\n",
       "      <td>0.276294</td>\n",
       "      <td>0.295756</td>\n",
       "      <td>0.366533</td>\n",
       "      <td>0.440478</td>\n",
       "    </tr>\n",
       "    <tr>\n",
       "      <th>2</th>\n",
       "      <td>0.685224</td>\n",
       "      <td>0.709078</td>\n",
       "      <td>0.724805</td>\n",
       "      <td>0.749249</td>\n",
       "    </tr>\n",
       "    <tr>\n",
       "      <th>3</th>\n",
       "      <td>0.784072</td>\n",
       "      <td>0.834567</td>\n",
       "      <td>0.843017</td>\n",
       "      <td>0.858517</td>\n",
       "    </tr>\n",
       "  </tbody>\n",
       "</table>\n",
       "</div>"
      ],
      "text/plain": [
       "          0         1         2         3\n",
       "0  0.004949  0.083789  0.089729  0.209132\n",
       "1  0.276294  0.295756  0.366533  0.440478\n",
       "2  0.685224  0.709078  0.724805  0.749249\n",
       "3  0.784072  0.834567  0.843017  0.858517"
      ]
     },
     "execution_count": 13,
     "metadata": {},
     "output_type": "execute_result"
    }
   ],
   "source": [
    "Bvc = np.array([B0c, B1c, B2c, B3c])\n",
    "for i in range(4):\n",
    "    Bvc[i].sort()\n",
    "Bvc = pd.DataFrame(Bvc)\n",
    "Bvc"
   ]
  },
  {
   "cell_type": "code",
   "execution_count": 14,
   "metadata": {},
   "outputs": [],
   "source": [
    "def S_rate(Svc, I, N, Bvc, gamma):\n",
    "    \"\"\"Calculate the rate of change of suceptible group split by vulnerability and comorbidity, return a\n",
    "    tuple where the first element is split on both categories, and the second element only split by comorbidity\"\"\"\n",
    "    #create empty data frame to store results\n",
    "    dSvcdt = pd.DataFrame()\n",
    "    #nested for loop, first level iterates through vulnerability\n",
    "    forloop_start = time.time_ns()\n",
    "    for v in range(4):\n",
    "        #create an empty list for each comorbidity level\n",
    "        dScdt = []\n",
    "        for c in range(4):\n",
    "            #here we calculate the value of dSdt for each comorbidity group in this iteration\n",
    "            dScdt.append(-(Bvc[v][c] * (Svc[v][c]) * I) / N)\n",
    "        #assign the list as a column in the data frame, at index c.\n",
    "        dSvcdt[v] = dScdt\n",
    "    forloop_end = time.time_ns()\n",
    "    print(\"forloop\", forloop_end - forloop_start/1000)\n",
    "    sumstart = time.time_ns()\n",
    "    dSdt = dSvcdt.sum(axis = 0)\n",
    "    sumend = time.time_ns()\n",
    "    print(\"sum\", sumend - sumstart/1000)\n",
    "    return dSvcdt, dSdt"
   ]
  },
  {
   "cell_type": "code",
   "execution_count": 20,
   "metadata": {},
   "outputs": [
    {
     "ename": "SyntaxError",
     "evalue": "invalid syntax (<ipython-input-20-ee9128a33741>, line 11)",
     "output_type": "error",
     "traceback": [
      "\u001b[1;36m  File \u001b[1;32m\"<ipython-input-20-ee9128a33741>\"\u001b[1;36m, line \u001b[1;32m11\u001b[0m\n\u001b[1;33m    I_rate(dSdt, Ic, gamma):\u001b[0m\n\u001b[1;37m                            ^\u001b[0m\n\u001b[1;31mSyntaxError\u001b[0m\u001b[1;31m:\u001b[0m invalid syntax\n"
     ]
    }
   ],
   "source": [
    "def I_rate(dSdt, Ic, gamma):\n",
    "    \"\"\"This function takes in the rate of change of S split by comorbidity, I split by comorbidity and gamma.\n",
    "    It returns a tuple, the first element is dIdt split by comorbidity, the second element is the aggregate\"\"\"\n",
    "    dIcdt = []\n",
    "    dIdt = 0\n",
    "    for c in range(4):\n",
    "        #now we implement the rest of the formula\n",
    "        dIcdt.append(-dSdt[c] - gamma*Ic[c])\n",
    "        dIdt += -dSdt[c] - gamma*Ic[c]\n",
    "    return dIcdt, dIdt"
   ]
  },
  {
   "cell_type": "code",
   "execution_count": 16,
   "metadata": {},
   "outputs": [],
   "source": [
    "def R_rate(dIdt, gamma):\n",
    "    dRdt = gamma * dIdt[1]\n",
    "    return dRdt"
   ]
  },
  {
   "cell_type": "code",
   "execution_count": 18,
   "metadata": {},
   "outputs": [
    {
     "name": "stdout",
     "output_type": "stream",
     "text": [
      "forloop 1.6013623684859868e+18\n",
      "sum 1.6013623685230328e+18\n",
      "211553.2\n",
      "-62485.8\n",
      "0.0\n",
      "forloop 1.6013623687644815e+18\n",
      "sum 1.6013623687654623e+18\n",
      "20600.2\n",
      "0.0\n",
      "0.0\n",
      "forloop 1.6013623687694456e+18\n",
      "sum 1.6013623687714368e+18\n",
      "4984.8\n",
      "0.0\n",
      "0.0\n",
      "forloop 1.6013623687764232e+18\n",
      "sum 1.6013623687774172e+18\n",
      "4987.1\n",
      "0.0\n",
      "0.0\n",
      "forloop 1.6013623687863862e+18\n",
      "sum 1.6013623687873795e+18\n",
      "4986.6\n",
      "-997.7\n",
      "0.0\n",
      "forloop 1.6013623687943567e+18\n",
      "sum 1.601362368796347e+18\n",
      "6982.2\n",
      "-999.4\n",
      "0.0\n",
      "forloop 1.6013623688023276e+18\n",
      "sum 1.601362368804318e+18\n",
      "5983.9\n",
      "-996.8\n",
      "0.0\n",
      "forloop 1.6013623688162806e+18\n",
      "sum 1.6013623688202614e+18\n",
      "11968.5\n",
      "-3058.8\n",
      "0.0\n",
      "forloop 1.601362368854562e+18\n",
      "sum 1.6013623688701553e+18\n",
      "46872.3\n",
      "-15617.2\n",
      "15622.0\n",
      "forloop 1.601362369121412e+18\n",
      "sum 1.6013623691764419e+18\n",
      "262683.8\n",
      "-75797.2\n",
      "998.1\n",
      "forloop 1.60136237016726e+18\n",
      "sum 1.6013623703828183e+18\n",
      "1032309.2\n",
      "-322208.3\n",
      "0.0\n",
      "forloop 1.6013623864314688e+18\n",
      "sum 1.6013623918424402e+18\n",
      "20395390.2\n"
     ]
    },
    {
     "ename": "KeyboardInterrupt",
     "evalue": "",
     "output_type": "error",
     "traceback": [
      "\u001b[1;31m---------------------------------------------------------------------------\u001b[0m",
      "\u001b[1;31mKeyboardInterrupt\u001b[0m                         Traceback (most recent call last)",
      "\u001b[1;32m<ipython-input-18-ecbcb2dd24c2>\u001b[0m in \u001b[0;36m<module>\u001b[1;34m\u001b[0m\n\u001b[0;32m     12\u001b[0m     \u001b[0mdSdt_end\u001b[0m \u001b[1;33m=\u001b[0m \u001b[0mtime\u001b[0m\u001b[1;33m.\u001b[0m\u001b[0mtime_ns\u001b[0m\u001b[1;33m(\u001b[0m\u001b[1;33m)\u001b[0m\u001b[1;33m\u001b[0m\u001b[1;33m\u001b[0m\u001b[0m\n\u001b[0;32m     13\u001b[0m     \u001b[0mprint\u001b[0m\u001b[1;33m(\u001b[0m\u001b[1;33m(\u001b[0m\u001b[0mdSdt_end\u001b[0m\u001b[1;33m-\u001b[0m\u001b[0mdSdt_start\u001b[0m\u001b[1;33m)\u001b[0m\u001b[1;33m/\u001b[0m\u001b[1;36m1000\u001b[0m\u001b[1;33m)\u001b[0m\u001b[1;33m\u001b[0m\u001b[1;33m\u001b[0m\u001b[0m\n\u001b[1;32m---> 14\u001b[1;33m     \u001b[0mdIdt\u001b[0m \u001b[1;33m=\u001b[0m \u001b[0mI_rate\u001b[0m\u001b[1;33m(\u001b[0m\u001b[0mdSdt\u001b[0m\u001b[1;33m[\u001b[0m\u001b[1;36m1\u001b[0m\u001b[1;33m]\u001b[0m\u001b[1;33m,\u001b[0m \u001b[0mIc\u001b[0m\u001b[1;33m,\u001b[0m \u001b[0mgamma\u001b[0m\u001b[1;33m)\u001b[0m\u001b[1;33m\u001b[0m\u001b[1;33m\u001b[0m\u001b[0m\n\u001b[0m\u001b[0;32m     15\u001b[0m     \u001b[1;31m#print(dIdt)\u001b[0m\u001b[1;33m\u001b[0m\u001b[1;33m\u001b[0m\u001b[1;33m\u001b[0m\u001b[0m\n\u001b[0;32m     16\u001b[0m     \u001b[0mdRdt_start\u001b[0m \u001b[1;33m=\u001b[0m \u001b[0mtime\u001b[0m\u001b[1;33m.\u001b[0m\u001b[0mtime_ns\u001b[0m\u001b[1;33m(\u001b[0m\u001b[1;33m)\u001b[0m\u001b[1;33m\u001b[0m\u001b[1;33m\u001b[0m\u001b[0m\n",
      "\u001b[1;32m<ipython-input-15-b42b18754972>\u001b[0m in \u001b[0;36mI_rate\u001b[1;34m(dSdt, Ic, gamma)\u001b[0m\n\u001b[0;32m      6\u001b[0m     \u001b[1;32mfor\u001b[0m \u001b[0mc\u001b[0m \u001b[1;32min\u001b[0m \u001b[0mrange\u001b[0m\u001b[1;33m(\u001b[0m\u001b[1;36m4\u001b[0m\u001b[1;33m)\u001b[0m\u001b[1;33m:\u001b[0m\u001b[1;33m\u001b[0m\u001b[1;33m\u001b[0m\u001b[0m\n\u001b[0;32m      7\u001b[0m         \u001b[1;31m#now we implement the rest of the formula\u001b[0m\u001b[1;33m\u001b[0m\u001b[1;33m\u001b[0m\u001b[1;33m\u001b[0m\u001b[0m\n\u001b[1;32m----> 8\u001b[1;33m         \u001b[0mdIcdt\u001b[0m\u001b[1;33m.\u001b[0m\u001b[0mappend\u001b[0m\u001b[1;33m(\u001b[0m\u001b[1;33m-\u001b[0m\u001b[0mdSdt\u001b[0m\u001b[1;33m[\u001b[0m\u001b[0mc\u001b[0m\u001b[1;33m]\u001b[0m \u001b[1;33m-\u001b[0m \u001b[0mgamma\u001b[0m\u001b[1;33m*\u001b[0m\u001b[0mIc\u001b[0m\u001b[1;33m[\u001b[0m\u001b[0mc\u001b[0m\u001b[1;33m]\u001b[0m\u001b[1;33m)\u001b[0m\u001b[1;33m\u001b[0m\u001b[1;33m\u001b[0m\u001b[0m\n\u001b[0m\u001b[0;32m      9\u001b[0m         \u001b[0mdIdt\u001b[0m \u001b[1;33m+=\u001b[0m \u001b[1;33m-\u001b[0m\u001b[0mdSdt\u001b[0m\u001b[1;33m[\u001b[0m\u001b[0mc\u001b[0m\u001b[1;33m]\u001b[0m \u001b[1;33m-\u001b[0m \u001b[0mgamma\u001b[0m\u001b[1;33m*\u001b[0m\u001b[0mIc\u001b[0m\u001b[1;33m[\u001b[0m\u001b[0mc\u001b[0m\u001b[1;33m]\u001b[0m\u001b[1;33m\u001b[0m\u001b[1;33m\u001b[0m\u001b[0m\n\u001b[0;32m     10\u001b[0m     \u001b[1;32mreturn\u001b[0m \u001b[0mdIcdt\u001b[0m\u001b[1;33m,\u001b[0m \u001b[0mdIdt\u001b[0m\u001b[1;33m\u001b[0m\u001b[1;33m\u001b[0m\u001b[0m\n",
      "\u001b[1;31mKeyboardInterrupt\u001b[0m: "
     ]
    }
   ],
   "source": [
    "import time\n",
    "Svc = pd.DataFrame(Svc_0*N)\n",
    "Ic = Ic_0\n",
    "I = I_0\n",
    "S = N - I\n",
    "R = 0\n",
    "simulation = [[S, I, R]]\n",
    "for i in range(20):\n",
    "    dSdt_start = time.time_ns()\n",
    "    dSdt = S_rate(Svc, Ic, N, Bvc, gamma)\n",
    "    #print(dSdt)\n",
    "    dSdt_end = time.time_ns()\n",
    "    print((dSdt_end-dSdt_start)/1000)\n",
    "    dIdt = I_rate(dSdt[1], Ic, gamma)\n",
    "    #print(dIdt)\n",
    "    dRdt_start = time.time_ns()\n",
    "    print((dSdt_end - dRdt_start)/1000)\n",
    "    dRdt = R_rate(dIdt[1], gamma)\n",
    "    #print(dRdt)\n",
    "    dRdt_end = time.time_ns()\n",
    "    print((dRdt_end - dRdt_start)/1000)\n",
    "    Svc = Svc + dSdt[0]\n",
    "    S = S + dSdt[1].sum()\n",
    "    #print(S)\n",
    "    Ic = Ic + dIdt[0]\n",
    "    I = I + dIdt[1].sum()\n",
    "    #print(I)\n",
    "    R = R + dRdt\n",
    "    simulation.append([[S, I, R]])\n",
    "simulation"
   ]
  },
  {
   "cell_type": "code",
   "execution_count": 9,
   "metadata": {},
   "outputs": [
    {
     "name": "stderr",
     "output_type": "stream",
     "text": [
      "<ipython-input-9-61ad8cb34b27>:1: VisibleDeprecationWarning: Creating an ndarray from ragged nested sequences (which is a list-or-tuple of lists-or-tuples-or ndarrays with different lengths or shapes) is deprecated. If you meant to do this, you must specify 'dtype=object' when creating the ndarray\n",
      "  simulation = pd.DataFrame(np.array([[S_0, I, R]]), columns = [\"S\", \"I\", \"R\"])\n"
     ]
    }
   ],
   "source": [
    "simulation = pd.DataFrame(np.array([[S_0, I, R]]), columns = [\"S\", \"I\", \"R\"])"
   ]
  },
  {
   "cell_type": "code",
   "execution_count": null,
   "metadata": {},
   "outputs": [],
   "source": [
    "simulation.append([\"1\", \"2\",\"3\"])\n",
    "simulation"
   ]
  },
  {
   "cell_type": "code",
   "execution_count": null,
   "metadata": {},
   "outputs": [],
   "source": []
  }
 ],
 "metadata": {
  "kernelspec": {
   "display_name": "Python 3",
   "language": "python",
   "name": "python3"
  },
  "language_info": {
   "codemirror_mode": {
    "name": "ipython",
    "version": 3
   },
   "file_extension": ".py",
   "mimetype": "text/x-python",
   "name": "python",
   "nbconvert_exporter": "python",
   "pygments_lexer": "ipython3",
   "version": "3.8.5"
  }
 },
 "nbformat": 4,
 "nbformat_minor": 4
}
