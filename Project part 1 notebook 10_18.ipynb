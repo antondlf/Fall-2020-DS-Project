{
 "cells": [
  {
   "cell_type": "markdown",
   "metadata": {},
   "source": [
    "Monitoring COVID-19 Infections through Wastewater Surveillance\n",
    "CMPSC 190DD/197A Project, Fall 2020\n",
    "Nick Bachelder, Anton de la Fuente, Zoe Holzer "
   ]
  },
  {
   "cell_type": "markdown",
   "metadata": {},
   "source": [
    "PART A: \n",
    "1. Using the model dynamics described in the previous section, and all the given and chosen parameters, simulate the behavior of the disease for 120 days for this single leaf node."
   ]
  },
  {
   "cell_type": "code",
   "execution_count": 1,
   "metadata": {},
   "outputs": [],
   "source": [
    "import numpy as np\n",
    "part1 = np.load(\"part1a.npz\")\n",
    "part1.files\n",
    "Ic_0 = part1[\"Ic_0\"]\n",
    "N = part1[\"N\"]\n",
    "gamma = part1[\"gamma\"]\n",
    "Lc = part1[\"Lc\"]\n",
    "Svc_0 = part1[\"Svc_0_pmf\"]"
   ]
  },
  {
   "cell_type": "code",
   "execution_count": 2,
   "metadata": {
    "scrolled": true
   },
   "outputs": [],
   "source": [
    "import pandas as pd\n",
    "S_0 = N-(Ic_0.sum())\n",
    "I_0 = Ic_0.sum()\n",
    "R_0 = 0\n",
    "data = pd.DataFrame(Svc_0)"
   ]
  },
  {
   "cell_type": "code",
   "execution_count": 3,
   "metadata": {},
   "outputs": [],
   "source": [
    "import random \n",
    "from random import Random\n",
    "random.seed(a=None, version=2)\n",
    "B0c = []\n",
    "B1c = []\n",
    "B2c = []\n",
    "B3c = []\n",
    "for i in range(4):\n",
    "    B0c.append(random.uniform(0, 0.25))\n",
    "    B1c.append(random.uniform(0.25, 0.5))\n",
    "    B2c.append(random.uniform(0.5, 0.75))\n",
    "    B3c.append(random.uniform(0.75, 1.0))"
   ]
  },
  {
   "cell_type": "code",
   "execution_count": 4,
   "metadata": {},
   "outputs": [
    {
     "data": {
      "text/html": [
       "<div>\n",
       "<style scoped>\n",
       "    .dataframe tbody tr th:only-of-type {\n",
       "        vertical-align: middle;\n",
       "    }\n",
       "\n",
       "    .dataframe tbody tr th {\n",
       "        vertical-align: top;\n",
       "    }\n",
       "\n",
       "    .dataframe thead th {\n",
       "        text-align: right;\n",
       "    }\n",
       "</style>\n",
       "<table border=\"1\" class=\"dataframe\">\n",
       "  <thead>\n",
       "    <tr style=\"text-align: right;\">\n",
       "      <th></th>\n",
       "      <th>0</th>\n",
       "      <th>1</th>\n",
       "      <th>2</th>\n",
       "      <th>3</th>\n",
       "    </tr>\n",
       "  </thead>\n",
       "  <tbody>\n",
       "    <tr>\n",
       "      <th>0</th>\n",
       "      <td>0.043450</td>\n",
       "      <td>0.151193</td>\n",
       "      <td>0.162499</td>\n",
       "      <td>0.207748</td>\n",
       "    </tr>\n",
       "    <tr>\n",
       "      <th>1</th>\n",
       "      <td>0.333033</td>\n",
       "      <td>0.374951</td>\n",
       "      <td>0.396858</td>\n",
       "      <td>0.433851</td>\n",
       "    </tr>\n",
       "    <tr>\n",
       "      <th>2</th>\n",
       "      <td>0.563019</td>\n",
       "      <td>0.564898</td>\n",
       "      <td>0.579180</td>\n",
       "      <td>0.599866</td>\n",
       "    </tr>\n",
       "    <tr>\n",
       "      <th>3</th>\n",
       "      <td>0.758004</td>\n",
       "      <td>0.814127</td>\n",
       "      <td>0.844211</td>\n",
       "      <td>0.953585</td>\n",
       "    </tr>\n",
       "  </tbody>\n",
       "</table>\n",
       "</div>"
      ],
      "text/plain": [
       "          0         1         2         3\n",
       "0  0.043450  0.151193  0.162499  0.207748\n",
       "1  0.333033  0.374951  0.396858  0.433851\n",
       "2  0.563019  0.564898  0.579180  0.599866\n",
       "3  0.758004  0.814127  0.844211  0.953585"
      ]
     },
     "execution_count": 4,
     "metadata": {},
     "output_type": "execute_result"
    }
   ],
   "source": [
    "Bvc = np.array([B0c, B1c, B2c, B3c])\n",
    "for i in range(4):\n",
    "    Bvc[i].sort()\n",
    "Bvc = pd.DataFrame(Bvc)\n",
    "Bvc"
   ]
  },
  {
   "cell_type": "code",
   "execution_count": 5,
   "metadata": {},
   "outputs": [],
   "source": [
    "def S_rate(Svc, Ic, N, Bvc, gamma):\n",
    "    \"\"\"Calculate the rate of change of suceptible group split by vulnerability and comorbidity, return a\n",
    "    tuple where the first element is split on both categories, and the second element only split by comorbidity\"\"\"\n",
    "    #This makes sure that once population hits 0 it doesn't affect the differential\n",
    "    Svc[Svc < 0] = 0\n",
    "    dSvcdt = ((Bvc * Svc * Ic)*-1)/N\n",
    "    return dSvcdt"
   ]
  },
  {
   "cell_type": "code",
   "execution_count": 6,
   "metadata": {},
   "outputs": [],
   "source": [
    "def I_rate(dSvcdt, Ic, gamma):\n",
    "    \"\"\"This function takes in the rate of change of S, sums along the vulnerability axis, and subtracts \n",
    "    Ic*gamma\"\"\"\n",
    "    Ic[Ic < 0]= 0\n",
    "    dIcdt = -dSvcdt.sum() - gamma*Ic\n",
    "    return dIcdt"
   ]
  },
  {
   "cell_type": "code",
   "execution_count": 7,
   "metadata": {},
   "outputs": [],
   "source": [
    "def R_rate(Ic, gamma):\n",
    "    Ic[Ic < 0]= 0\n",
    "    dRdt = gamma * Ic.sum()\n",
    "    return dRdt"
   ]
  },
  {
   "cell_type": "code",
   "execution_count": 40,
   "metadata": {},
   "outputs": [],
   "source": [
    "def SIR_rates(Svc, Ic, N, Bvc, gamma):\n",
    "    dSvcdt = S_rate(Svc, Ic, N, Bvc, gamma)\n",
    "    dIcdt = I_rate(dSvcdt, Ic, gamma)\n",
    "    dRdt = R_rate(Ic, gamma)\n",
    "    return dSvcdt, dIcdt, dRdt"
   ]
  },
  {
   "cell_type": "code",
   "execution_count": 41,
   "metadata": {},
   "outputs": [],
   "source": [
    "def L_rate(Ic, Lc, N):\n",
    "    Lrate=(Ic*Lc)/N\n",
    "    return Lrate"
   ]
  },
  {
   "cell_type": "code",
   "execution_count": 42,
   "metadata": {
    "scrolled": true
   },
   "outputs": [],
   "source": [
    "#The Svc data multiplied by the population to get raw population values split in both dimensions\n",
    "Svc = pd.DataFrame(Svc_0) * (N - I_0)\n",
    "Ic = Ic_0\n",
    "I = I_0\n",
    "S = Svc.sum().sum()\n",
    "R = 0\n",
    "SvcOverTime=[]\n",
    "IcOvertime=[]\n",
    "simulation = [[S, I, R]]\n",
    "for i in range(120):\n",
    "    rates = SIR_rates(Svc, Ic, N, Bvc, gamma)\n",
    "    Lrate=L_rate(Ic, Lc, N)\n",
    "    Svc = Svc + rates[0]\n",
    "    S = Svc.sum().sum()\n",
    "    Ic = Ic + rates[1]\n",
    "    I = Ic.sum()\n",
    "    R = R + rates[2]\n",
    "    L=Lrate.sum()\n",
    "    simulation.append([S, I, R])\n",
    "    SvcOverTime.insert(i,Svc)\n",
    "    IcOvertime.insert(i,Ic)\n",
    "results = pd.DataFrame(simulation, columns = [\"S\", \"I\", \"R\"])"
   ]
  },
  {
   "cell_type": "code",
   "execution_count": 43,
   "metadata": {
    "scrolled": true
   },
   "outputs": [
    {
     "data": {
      "text/html": [
       "<div>\n",
       "<style scoped>\n",
       "    .dataframe tbody tr th:only-of-type {\n",
       "        vertical-align: middle;\n",
       "    }\n",
       "\n",
       "    .dataframe tbody tr th {\n",
       "        vertical-align: top;\n",
       "    }\n",
       "\n",
       "    .dataframe thead th {\n",
       "        text-align: right;\n",
       "    }\n",
       "</style>\n",
       "<table border=\"1\" class=\"dataframe\">\n",
       "  <thead>\n",
       "    <tr style=\"text-align: right;\">\n",
       "      <th></th>\n",
       "      <th>S</th>\n",
       "      <th>I</th>\n",
       "      <th>R</th>\n",
       "      <th>Total</th>\n",
       "    </tr>\n",
       "  </thead>\n",
       "  <tbody>\n",
       "    <tr>\n",
       "      <th>0</th>\n",
       "      <td>99747.000000</td>\n",
       "      <td>253.000000</td>\n",
       "      <td>0.000000</td>\n",
       "      <td>100000.0</td>\n",
       "    </tr>\n",
       "    <tr>\n",
       "      <th>1</th>\n",
       "      <td>99719.392323</td>\n",
       "      <td>262.536249</td>\n",
       "      <td>18.071429</td>\n",
       "      <td>100000.0</td>\n",
       "    </tr>\n",
       "    <tr>\n",
       "      <th>2</th>\n",
       "      <td>99690.453265</td>\n",
       "      <td>272.722718</td>\n",
       "      <td>36.824018</td>\n",
       "      <td>100000.0</td>\n",
       "    </tr>\n",
       "    <tr>\n",
       "      <th>3</th>\n",
       "      <td>99660.085224</td>\n",
       "      <td>283.610564</td>\n",
       "      <td>56.304212</td>\n",
       "      <td>100000.0</td>\n",
       "    </tr>\n",
       "    <tr>\n",
       "      <th>4</th>\n",
       "      <td>99628.182705</td>\n",
       "      <td>295.255186</td>\n",
       "      <td>76.562109</td>\n",
       "      <td>100000.0</td>\n",
       "    </tr>\n",
       "    <tr>\n",
       "      <th>...</th>\n",
       "      <td>...</td>\n",
       "      <td>...</td>\n",
       "      <td>...</td>\n",
       "      <td>...</td>\n",
       "    </tr>\n",
       "    <tr>\n",
       "      <th>116</th>\n",
       "      <td>65703.517491</td>\n",
       "      <td>3248.746979</td>\n",
       "      <td>31047.735531</td>\n",
       "      <td>100000.0</td>\n",
       "    </tr>\n",
       "    <tr>\n",
       "      <th>117</th>\n",
       "      <td>65551.143916</td>\n",
       "      <td>3169.067197</td>\n",
       "      <td>31279.788886</td>\n",
       "      <td>100000.0</td>\n",
       "    </tr>\n",
       "    <tr>\n",
       "      <th>118</th>\n",
       "      <td>65402.719064</td>\n",
       "      <td>3091.130107</td>\n",
       "      <td>31506.150829</td>\n",
       "      <td>100000.0</td>\n",
       "    </tr>\n",
       "    <tr>\n",
       "      <th>119</th>\n",
       "      <td>65258.138953</td>\n",
       "      <td>3014.915210</td>\n",
       "      <td>31726.945837</td>\n",
       "      <td>100000.0</td>\n",
       "    </tr>\n",
       "    <tr>\n",
       "      <th>120</th>\n",
       "      <td>65117.302233</td>\n",
       "      <td>2940.400843</td>\n",
       "      <td>31942.296923</td>\n",
       "      <td>100000.0</td>\n",
       "    </tr>\n",
       "  </tbody>\n",
       "</table>\n",
       "<p>121 rows × 4 columns</p>\n",
       "</div>"
      ],
      "text/plain": [
       "                S            I             R     Total\n",
       "0    99747.000000   253.000000      0.000000  100000.0\n",
       "1    99719.392323   262.536249     18.071429  100000.0\n",
       "2    99690.453265   272.722718     36.824018  100000.0\n",
       "3    99660.085224   283.610564     56.304212  100000.0\n",
       "4    99628.182705   295.255186     76.562109  100000.0\n",
       "..            ...          ...           ...       ...\n",
       "116  65703.517491  3248.746979  31047.735531  100000.0\n",
       "117  65551.143916  3169.067197  31279.788886  100000.0\n",
       "118  65402.719064  3091.130107  31506.150829  100000.0\n",
       "119  65258.138953  3014.915210  31726.945837  100000.0\n",
       "120  65117.302233  2940.400843  31942.296923  100000.0\n",
       "\n",
       "[121 rows x 4 columns]"
      ]
     },
     "execution_count": 43,
     "metadata": {},
     "output_type": "execute_result"
    }
   ],
   "source": [
    "results[\"Total\"] = results.sum(axis=1)\n",
    "results"
   ]
  },
  {
   "cell_type": "markdown",
   "metadata": {},
   "source": [
    "2. Plot Sv,c and Ic values over time. (You can plot all Sv,c on the same plot. Same for Ic.). Also plot the overall S, I, R and L values."
   ]
  },
  {
   "cell_type": "code",
   "execution_count": 44,
   "metadata": {},
   "outputs": [
    {
     "data": {
      "image/png": "[encoded data removed]",
      "text/plain": [
       "<Figure size 432x288 with 1 Axes>"
      ]
     },
     "metadata": {
      "needs_background": "light"
     },
     "output_type": "display_data"
    }
   ],
   "source": [
    "import matplotlib.pyplot as plt\n",
    "fig,ax=plt.subplots(sharex=True)\n",
    "for a in range(0,120,8):\n",
    "    for b in range(0,4):\n",
    "        ax.scatter(a,SvcOverTime[a][b][0],c='black',s=10)\n",
    "        ax.scatter(a,SvcOverTime[a][b][1],c='red',s=10)\n",
    "        ax.scatter(a,SvcOverTime[a][b][2],c='blue',s=10)\n",
    "        ax.scatter(a,SvcOverTime[a][b][3],c='green',s=10)\n",
    "plt.show()"
   ]
  },
  {
   "cell_type": "code",
   "execution_count": 45,
   "metadata": {},
   "outputs": [
    {
     "data": {
      "image/png": "[encoded data removed]",
      "text/plain": [
       "<Figure size 432x288 with 1 Axes>"
      ]
     },
     "metadata": {
      "needs_background": "light"
     },
     "output_type": "display_data"
    }
   ],
   "source": [
    "fig,ax=plt.subplots(sharex=True)\n",
    "for a in range(0,120,8):\n",
    "    ax.scatter(a,IcOvertime[a][0],c='black',s=10)\n",
    "    ax.scatter(a,IcOvertime[a][1],c='red',s=10)\n",
    "    ax.scatter(a,IcOvertime[a][2],c='blue',s=10)\n",
    "    ax.scatter(a,IcOvertime[a][3],c='yellow',s=10)\n",
    "plt.show()"
   ]
  },
  {
   "cell_type": "code",
   "execution_count": 47,
   "metadata": {},
   "outputs": [
    {
     "data": {
      "image/png": "[encoded data removed]",
      "text/plain": [
       "<Figure size 432x288 with 1 Axes>"
      ]
     },
     "metadata": {
      "needs_background": "light"
     },
     "output_type": "display_data"
    }
   ],
   "source": [
    "fig,ax=plt.subplots(sharex=True)\n",
    "for a in range(0,120,8):\n",
    "    ax.scatter(a,simulation[a][0],c='black',s=10)\n",
    "    ax.scatter(a,simulation[a][1],c='red',s=10)\n",
    "    ax.scatter(a,simulation[a][2],c='blue',s=10)\n",
    "    ax.scatter(a,L,c='yellow',s=10)\n",
    "plt.show()"
   ]
  },
  {
   "cell_type": "markdown",
   "metadata": {},
   "source": [
    "3. Do the shapes of S, I, R look similar to what you expected? Which of these plots is the “curve” people refer to when they say “flatten the curve”?\n",
    "The shapes of the model look about right except that we were not expecting the huge difference in scale between S and I or R after 120 days. The overall shape however is what we expected based off of what we learned in class and off of over COVID models currently available."
   ]
  },
  {
   "cell_type": "markdown",
   "metadata": {},
   "source": [
    "4. Do you observe that some Sv,c compartments converged to zero while others converged to a positive value? Why do you think that is?\n",
    "Yes, we did observe some compartments converging to positive values other then zero. We believe that is because specific βv,c values have a large affect on the overall model, especially because it is the reciprocal of the typical time until an infected person recovers, making it play a large part on a time series."
   ]
  }
 ],
 "metadata": {
  "kernelspec": {
   "display_name": "Python 3",
   "language": "python",
   "name": "python3"
  },
  "language_info": {
   "codemirror_mode": {
    "name": "ipython",
    "version": 3
   },
   "file_extension": ".py",
   "mimetype": "text/x-python",
   "name": "python",
   "nbconvert_exporter": "python",
   "pygments_lexer": "ipython3",
   "version": "3.8.5"
  }
 },
 "nbformat": 4,
 "nbformat_minor": 4
}
