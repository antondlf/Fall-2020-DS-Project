{
 "cells": [
  {
   "cell_type": "markdown",
   "metadata": {},
   "source": [
    "Monitoring COVID-19 Infections through Wastewater Surveillance\n",
    "CMPSC 190DD/197A Project, Fall 2020\n",
    "Nick Bachelder, Anton de la Fuente, Zoe Holzer "
   ]
  },
  {
   "cell_type": "markdown",
   "metadata": {},
   "source": [
    "PART A: \n",
    "1. Using the model dynamics described in the previous section, and all the given and chosen parameters, simulate the behavior of the disease for 120 days for this single leaf node."
   ]
  },
  {
   "cell_type": "code",
   "execution_count": 178,
   "metadata": {},
   "outputs": [],
   "source": [
    "import numpy as np\n",
    "part1 = np.load(\"part1a.npz\")\n",
    "part1.files\n",
    "Ic_0 = part1[\"Ic_0\"]\n",
    "N = part1[\"N\"]\n",
    "gamma = part1[\"gamma\"]\n",
    "Lc = part1[\"Lc\"]\n",
    "Svc_0 = part1[\"Svc_0_pmf\"]"
   ]
  },
  {
   "cell_type": "code",
   "execution_count": 179,
   "metadata": {
    "scrolled": true
   },
   "outputs": [],
   "source": [
    "import pandas as pd\n",
    "S_0 = N-(Ic_0.sum())\n",
    "I_0 = Ic_0.sum()\n",
    "R_0 = 0\n",
    "data = pd.DataFrame(Svc_0)"
   ]
  },
  {
   "cell_type": "code",
   "execution_count": 180,
   "metadata": {},
   "outputs": [],
   "source": [
    "import random \n",
    "from random import Random\n",
    "random.seed(a=None, version=2)\n",
    "B0c = []\n",
    "B1c = []\n",
    "B2c = []\n",
    "B3c = []\n",
    "for i in range(4):\n",
    "    B0c.append(random.uniform(0, 0.25))\n",
    "    B1c.append(random.uniform(0.25, 0.5))\n",
    "    B2c.append(random.uniform(0.5, 0.75))\n",
    "    B3c.append(random.uniform(0.75, 1.0))\n",
    "    Bvc = np.array([B0c, B1c, B2c, B3c])\n",
    "for i in range(4):\n",
    "    Bvc[i].sort()\n",
    "Bvc = pd.DataFrame(Bvc)"
   ]
  },
  {
   "cell_type": "code",
   "execution_count": 181,
   "metadata": {},
   "outputs": [],
   "source": [
    "def S_rate(Svc, Ic, N, Bvc, gamma):\n",
    "    \"\"\"Calculate the rate of change of suceptible group split by vulnerability and comorbidity, return a\n",
    "    tuple where the first element is split on both categories, and the second element only split by comorbidity\"\"\"\n",
    "    #This makes sure that once population hits 0 it doesn't affect the differential\n",
    "    Svc[Svc < 0] = 0\n",
    "    dSvcdt = ((Bvc * Svc * Ic)*-1)/N\n",
    "    return dSvcdt"
   ]
  },
  {
   "cell_type": "code",
   "execution_count": 182,
   "metadata": {},
   "outputs": [],
   "source": [
    "def I_rate(dSvcdt, Ic, gamma):\n",
    "    \"\"\"This function takes in the rate of change of S, sums along the vulnerability axis, and subtracts \n",
    "    Ic*gamma\"\"\"\n",
    "    Ic[Ic < 0]= 0\n",
    "    dIcdt = -dSvcdt.sum() - gamma*Ic\n",
    "    return dIcdt"
   ]
  },
  {
   "cell_type": "code",
   "execution_count": 183,
   "metadata": {},
   "outputs": [],
   "source": [
    "def R_rate(Ic, gamma):\n",
    "    Ic[Ic < 0]= 0\n",
    "    dRdt = gamma * Ic.sum()\n",
    "    return dRdt"
   ]
  },
  {
   "cell_type": "code",
   "execution_count": 184,
   "metadata": {},
   "outputs": [],
   "source": [
    "def SIR_rates(Svc, Ic, N, Bvc, gamma):\n",
    "    dSvcdt = S_rate(Svc, Ic, N, Bvc, gamma)\n",
    "    dIcdt = I_rate(dSvcdt, Ic, gamma)\n",
    "    dRdt = R_rate(Ic, gamma)\n",
    "    return dSvcdt, dIcdt, dRdt"
   ]
  },
  {
   "cell_type": "code",
   "execution_count": 185,
   "metadata": {},
   "outputs": [],
   "source": [
    "def L_rate(Ic, Lc, N):\n",
    "    Lrate=(Ic*Lc)/N\n",
    "    return Lrate"
   ]
  },
  {
   "cell_type": "code",
   "execution_count": 186,
   "metadata": {},
   "outputs": [],
   "source": [
    "def simulation(t, Svc, Ic, N, Bvc, gamma, Lc):\n",
    "    I = I_0\n",
    "    R = 0\n",
    "    S = Svc.sum().sum()\n",
    "    SvcOverTime=[]\n",
    "    IcOvertime=[]\n",
    "    LOverTime=[]\n",
    "    simulation = [[S, I, R]]\n",
    "    for i in range(t):\n",
    "        rates = SIR_rates(Svc, Ic, N, Bvc, gamma)\n",
    "        Lrate=L_rate(Ic, Lc, N)\n",
    "        Svc = Svc + rates[0]\n",
    "        S = Svc.sum().sum()\n",
    "        Ic = Ic + rates[1]\n",
    "        I = Ic.sum()\n",
    "        R = R + rates[2]\n",
    "        L=Lrate.sum()\n",
    "        simulation.append([S, I, R])\n",
    "        SvcOverTime.insert(i,Svc)\n",
    "        IcOvertime.insert(i,Ic)\n",
    "        LOverTime.insert(i,L)\n",
    "    results = pd.DataFrame(simulation, columns = [\"S\", \"I\", \"R\"])\n",
    "    return results, SvcOverTime, IcOvertime, LOverTime"
   ]
  },
  {
   "cell_type": "code",
   "execution_count": 188,
   "metadata": {
    "scrolled": true
   },
   "outputs": [],
   "source": [
    "#The Svc data multiplied by the population to get raw population values split in both dimensions\n",
    "t=120\n",
    "Svc = pd.DataFrame(Svc_0) * (N - I_0)\n",
    "Ic = Ic_0\n",
    "sim = simulation(t, Svc, Ic, N, Bvc, gamma, Lc)"
   ]
  },
  {
   "cell_type": "markdown",
   "metadata": {},
   "source": [
    "2. Plot Sv,c and Ic values over time. (You can plot all Sv,c on the same plot. Same for Ic.). Also plot the overall S, I, R and L values."
   ]
  },
  {
   "cell_type": "code",
   "execution_count": 189,
   "metadata": {},
   "outputs": [
    {
     "data": {
      "image/png": "[encoded data removed]",
      "text/plain": [
       "<Figure size 432x288 with 1 Axes>"
      ]
     },
     "metadata": {
      "needs_background": "light"
     },
     "output_type": "display_data"
    }
   ],
   "source": [
    "import matplotlib.pyplot as plt\n",
    "fig,ax=plt.subplots(sharex=True)\n",
    "for a in range(0,120,8):\n",
    "    for b in range(0,4):\n",
    "        ax.scatter(a,sim[1][a][b][0],c='black',s=10)\n",
    "        ax.scatter(a,sim[1][a][b][1],c='red',s=10)\n",
    "        ax.scatter(a,sim[1][a][b][2],c='blue',s=10)\n",
    "        ax.scatter(a,sim[1][a][b][3],c='green',s=10)\n",
    "plt.title('Suseptable people over time by Vulnerability and Comorbidity Groups')\n",
    "plt.ylabel('Number of People')\n",
    "plt.xlabel('Day')\n",
    "plt.show()"
   ]
  },
  {
   "cell_type": "code",
   "execution_count": 190,
   "metadata": {},
   "outputs": [
    {
     "data": {
      "image/png": "[encoded data removed]",
      "text/plain": [
       "<Figure size 432x288 with 1 Axes>"
      ]
     },
     "metadata": {
      "needs_background": "light"
     },
     "output_type": "display_data"
    }
   ],
   "source": [
    "fig,ax=plt.subplots(sharex=True)\n",
    "for a in range(0,120,8):\n",
    "    ax.scatter(a,sim[2][a][0],c='black',s=10)\n",
    "    ax.scatter(a,sim[2][a][1],c='red',s=10)\n",
    "    ax.scatter(a,sim[2][a][2],c='blue',s=10)\n",
    "    ax.scatter(a,sim[2][a][3],c='yellow',s=10) \n",
    "plt.title('Infected People Over Time by Comorbidity Group')\n",
    "plt.ylabel('Number of People')\n",
    "plt.xlabel('Day')\n",
    "plt.show()"
   ]
  },
  {
   "cell_type": "code",
   "execution_count": 191,
   "metadata": {},
   "outputs": [
    {
     "data": {
      "image/png": "[encoded data removed]",
      "text/plain": [
       "<Figure size 432x288 with 1 Axes>"
      ]
     },
     "metadata": {
      "needs_background": "light"
     },
     "output_type": "display_data"
    }
   ],
   "source": [
    "fig,ax=plt.subplots(sharex=True)\n",
    "SIR=np.array(sim[0])\n",
    "for a in range(0,120,8):\n",
    "    ax.scatter(a,SIR[a][0],c='black',s=10)\n",
    "    ax.scatter(a,SIR[a][1],c='red',s=10)\n",
    "    ax.scatter(a,SIR[a][2],c='blue',s=10)\n",
    "    ax.scatter(a,sim[3][a],c='yellow',s=10)\n",
    "plt.title('Suseptable, Infected, Recovered, and Viral Load Over Time')\n",
    "plt.ylabel('Number of People')\n",
    "plt.xlabel('Day')\n",
    "plt.show()"
   ]
  },
  {
   "cell_type": "markdown",
   "metadata": {},
   "source": [
    "**3. Do the shapes of S, I, R look similar to what you expected? Which of these plots is the “curve” people refer to when they say “flatten the curve”?**\n",
    "\n",
    "The shapes of the model look about right except that we were not expecting the huge difference in scale between S and I or R after 120 days. The overall shape however is what we expected based off of what we learned in class and off of over COVID models currently available. Moreover, it is clear that the comorbidity groups largely impact the infected population over time, which makes perfect sense. When people say 'flatten the curve,' they are refering to the infected population curve (in blue on the last plot)."
   ]
  },
  {
   "cell_type": "markdown",
   "metadata": {},
   "source": [
    "**4. Do you observe that some Sv,c compartments converged to zero while others converged to a positive value? Why do you think that is?**\n",
    "\n",
    "Yes, we did observe some compartments converging to positive values other then zero. We believe that is because specific βv,c values have a large affect on the overall model, especially because it is the reciprocal of the typical time until an infected person recovers, making it play a large part on the time series."
   ]
  },
  {
   "cell_type": "code",
   "execution_count": 192,
   "metadata": {},
   "outputs": [
    {
     "data": {
      "text/html": [
       "<div>\n",
       "<style scoped>\n",
       "    .dataframe tbody tr th:only-of-type {\n",
       "        vertical-align: middle;\n",
       "    }\n",
       "\n",
       "    .dataframe tbody tr th {\n",
       "        vertical-align: top;\n",
       "    }\n",
       "\n",
       "    .dataframe thead th {\n",
       "        text-align: right;\n",
       "    }\n",
       "</style>\n",
       "<table border=\"1\" class=\"dataframe\">\n",
       "  <thead>\n",
       "    <tr style=\"text-align: right;\">\n",
       "      <th></th>\n",
       "      <th>0</th>\n",
       "      <th>1</th>\n",
       "      <th>2</th>\n",
       "      <th>3</th>\n",
       "    </tr>\n",
       "  </thead>\n",
       "  <tbody>\n",
       "    <tr>\n",
       "      <th>0</th>\n",
       "      <td>0.999811</td>\n",
       "      <td>0.916554</td>\n",
       "      <td>0.662678</td>\n",
       "      <td>0.964126</td>\n",
       "    </tr>\n",
       "    <tr>\n",
       "      <th>1</th>\n",
       "      <td>0.991073</td>\n",
       "      <td>0.712698</td>\n",
       "      <td>0.232421</td>\n",
       "      <td>0.917470</td>\n",
       "    </tr>\n",
       "    <tr>\n",
       "      <th>2</th>\n",
       "      <td>0.984277</td>\n",
       "      <td>0.561276</td>\n",
       "      <td>0.099722</td>\n",
       "      <td>0.876047</td>\n",
       "    </tr>\n",
       "    <tr>\n",
       "      <th>3</th>\n",
       "      <td>0.976756</td>\n",
       "      <td>0.452301</td>\n",
       "      <td>0.043053</td>\n",
       "      <td>0.834367</td>\n",
       "    </tr>\n",
       "  </tbody>\n",
       "</table>\n",
       "</div>"
      ],
      "text/plain": [
       "          0         1         2         3\n",
       "0  0.999811  0.916554  0.662678  0.964126\n",
       "1  0.991073  0.712698  0.232421  0.917470\n",
       "2  0.984277  0.561276  0.099722  0.876047\n",
       "3  0.976756  0.452301  0.043053  0.834367"
      ]
     },
     "execution_count": 192,
     "metadata": {},
     "output_type": "execute_result"
    }
   ],
   "source": [
    "## Print the percentages of population that never got infected for all compartments (i.e. all values\n",
    "## of v and c)\n",
    "\n",
    "OriginalSvcPopulations = pd.DataFrame(Svc_0) * (N - I_0)\n",
    "SvcFinalDay = sim[1][119]\n",
    "PercentNotInfectedvc = SvcFinalDay / OriginalSvcPopulations\n",
    "PercentNotInfectedvc"
   ]
  },
  {
   "cell_type": "code",
   "execution_count": 193,
   "metadata": {},
   "outputs": [],
   "source": [
    "## Redo but multiply all Beta values by 1/4. How does this change plots?\n",
    "\n",
    "BvcRedo = Bvc * (1/4)\n",
    "\n",
    "Svc = pd.DataFrame(Svc_0) * (N - I_0)\n",
    "Ic = Ic_0\n",
    "I = I_0\n",
    "S = Svc.sum().sum()\n",
    "R = 0\n",
    "simRedo = simulation(t, Svc, Ic, N, BvcRedo, gamma, Lc)"
   ]
  },
  {
   "cell_type": "code",
   "execution_count": 163,
   "metadata": {},
   "outputs": [
    {
     "data": {
      "image/png": "[encoded data removed]",
      "text/plain": [
       "<Figure size 432x288 with 1 Axes>"
      ]
     },
     "metadata": {
      "needs_background": "light"
     },
     "output_type": "display_data"
    }
   ],
   "source": [
    "import matplotlib.pyplot as plt\n",
    "fig,ax=plt.subplots(sharex=True)\n",
    "for a in range(0,120,8):\n",
    "    for b in range(0,4):\n",
    "        ax.scatter(a,simRedo[1][a][b][0],c='black',s=10)\n",
    "        ax.scatter(a,simRedo[1][a][b][1],c='red',s=10)\n",
    "        ax.scatter(a,simRedo[1][a][b][2],c='blue',s=10)\n",
    "        ax.scatter(a,simRedo[1][a][b][3],c='green',s=10)\n",
    "plt.title('Suseptable people over time by Vulnerability and Comorbidity Groups')\n",
    "plt.ylabel('Number of People')\n",
    "plt.xlabel('Day')\n",
    "\n",
    "plt.show()"
   ]
  },
  {
   "cell_type": "code",
   "execution_count": 164,
   "metadata": {},
   "outputs": [
    {
     "data": {
      "image/png": "[encoded data removed]",
      "text/plain": [
       "<Figure size 432x288 with 1 Axes>"
      ]
     },
     "metadata": {
      "needs_background": "light"
     },
     "output_type": "display_data"
    }
   ],
   "source": [
    "fig,ax=plt.subplots(sharex=True)\n",
    "for a in range(0,120,8):\n",
    "    ax.scatter(a,simRedo[2][a][0],c='black',s=10)\n",
    "    ax.scatter(a,simRedo[2][a][1],c='red',s=10)\n",
    "    ax.scatter(a,simRedo[2][a][2],c='blue',s=10)\n",
    "    ax.scatter(a,simRedo[2][a][3],c='yellow',s=10) \n",
    "plt.ylim(0, 1000)\n",
    "\n",
    "plt.title('Infected People Over Time by Comorbidity Group')\n",
    "plt.ylabel('Number of People')\n",
    "plt.xlabel('Day')\n",
    "\n",
    "plt.show()"
   ]
  },
  {
   "cell_type": "code",
   "execution_count": 165,
   "metadata": {
    "scrolled": true
   },
   "outputs": [
    {
     "data": {
      "image/png": "[encoded data removed]",
      "text/plain": [
       "<Figure size 432x288 with 1 Axes>"
      ]
     },
     "metadata": {
      "needs_background": "light"
     },
     "output_type": "display_data"
    }
   ],
   "source": [
    "fig,ax=plt.subplots(sharex=True)\n",
    "SIRRedo=simRedo[0]\n",
    "for a in range(0,120,8):\n",
    "    ax.scatter(a,SIR[a][0],c='black',s=10)\n",
    "    ax.scatter(a,SIR[a][1],c='red',s=10)\n",
    "    ax.scatter(a,SIR[a][2],c='blue',s=10)\n",
    "    ax.scatter(a,simRedo[3][a],c='yellow',s=10)\n",
    "    \n",
    "plt.title('Suseptable, Infected, Recovered, and Viral Load Over Time')\n",
    "plt.ylabel('Number of People')\n",
    "plt.xlabel('Day')\n",
    "plt.show()"
   ]
  },
  {
   "cell_type": "markdown",
   "metadata": {},
   "source": [
    "What happened to the S, I, R plots? Did the “curve” flatten compared to the previous case?\n",
    "\n",
    "The plots changed drastically dy reducing the beta rate. Since the disease was being spread at a much slower rate, all v,c groups declined in cases over time, and the curve most definetly 'flattened.'"
   ]
  },
  {
   "cell_type": "code",
   "execution_count": 166,
   "metadata": {},
   "outputs": [],
   "source": [
    "## Print the percentages of population that never got infected withthese βv,c values.\n",
    "\n",
    "OriginalSvcPopulations = pd.DataFrame(Svc_0) * (N - I_0)\n",
    "SvcFinalDay = simRedo[1][119]\n",
    "PercentNotInfectedvcRedo = SvcFinalDay / OriginalSvcPopulations"
   ]
  },
  {
   "cell_type": "code",
   "execution_count": 167,
   "metadata": {},
   "outputs": [
    {
     "data": {
      "text/html": [
       "<div>\n",
       "<style scoped>\n",
       "    .dataframe tbody tr th:only-of-type {\n",
       "        vertical-align: middle;\n",
       "    }\n",
       "\n",
       "    .dataframe tbody tr th {\n",
       "        vertical-align: top;\n",
       "    }\n",
       "\n",
       "    .dataframe thead th {\n",
       "        text-align: right;\n",
       "    }\n",
       "</style>\n",
       "<table border=\"1\" class=\"dataframe\">\n",
       "  <thead>\n",
       "    <tr style=\"text-align: right;\">\n",
       "      <th></th>\n",
       "      <th>0</th>\n",
       "      <th>1</th>\n",
       "      <th>2</th>\n",
       "      <th>3</th>\n",
       "    </tr>\n",
       "  </thead>\n",
       "  <tbody>\n",
       "    <tr>\n",
       "      <th>0</th>\n",
       "      <td>0.995257</td>\n",
       "      <td>0.887004</td>\n",
       "      <td>0.560262</td>\n",
       "      <td>0.958985</td>\n",
       "    </tr>\n",
       "    <tr>\n",
       "      <th>1</th>\n",
       "      <td>0.984411</td>\n",
       "      <td>0.807242</td>\n",
       "      <td>0.222218</td>\n",
       "      <td>0.904468</td>\n",
       "    </tr>\n",
       "    <tr>\n",
       "      <th>2</th>\n",
       "      <td>0.963957</td>\n",
       "      <td>0.606538</td>\n",
       "      <td>0.119911</td>\n",
       "      <td>0.853057</td>\n",
       "    </tr>\n",
       "    <tr>\n",
       "      <th>3</th>\n",
       "      <td>0.950195</td>\n",
       "      <td>0.499280</td>\n",
       "      <td>0.032314</td>\n",
       "      <td>0.808314</td>\n",
       "    </tr>\n",
       "  </tbody>\n",
       "</table>\n",
       "</div>"
      ],
      "text/plain": [
       "          0         1         2         3\n",
       "0  0.995257  0.887004  0.560262  0.958985\n",
       "1  0.984411  0.807242  0.222218  0.904468\n",
       "2  0.963957  0.606538  0.119911  0.853057\n",
       "3  0.950195  0.499280  0.032314  0.808314"
      ]
     },
     "execution_count": 167,
     "metadata": {},
     "output_type": "execute_result"
    }
   ],
   "source": [
    "PercentNotInfectedvc ## Many less people in each group were infected at a lower beta value"
   ]
  },
  {
   "cell_type": "code",
   "execution_count": 197,
   "metadata": {},
   "outputs": [
    {
     "name": "stdout",
     "output_type": "stream",
     "text": [
      "[[47 90 51 65]\n",
      " [82 31 64 86]\n",
      " [30 66 39 47]\n",
      " [59 26 77 38]\n",
      " [20 63 70 15]\n",
      " [35 31 78 11]\n",
      " [50 55 93 26]\n",
      " [17 89 65 25]\n",
      " [70 27 66 97]\n",
      " [20 18 32 31]\n",
      " [76 13 61 15]\n",
      " [86 48 36 89]\n",
      " [96 15 44 71]\n",
      " [81 53 19 36]\n",
      " [29 44 99 36]\n",
      " [25 34 16 28]\n",
      " [23 84 71 31]\n",
      " [91 70 90 90]\n",
      " [32 11 68 81]\n",
      " [34 37 48 41]]\n"
     ]
    }
   ],
   "source": [
    "part2 = np.load(\"part1b.npz\")\n",
    "part2.files\n",
    "Ic_0 = part2[\"Ic_0\"]\n",
    "N = part2[\"N\"]\n",
    "gamma = part2[\"gamma\"]\n",
    "Lc = part2[\"Lc\"]\n",
    "L_validation = part2[\"L_validation\"]\n",
    "L_test = part2[\"L_test\"]\n",
    "betas_validation = part2[\"betas_validation\"]\n",
    "SVC0=np.array([[0.5, 0.3, 0.1, 0.1]*5,[0.4, 0.3, 0.2, 0.1]*5,[0.3, 0.3, 0.3, 0.2]*5,[0.1, 0.2, 0.3, 0.4]*5])\n",
    "SVC = pd.DataFrame(SVC0) * (N - I_0)"
   ]
  },
  {
   "cell_type": "code",
   "execution_count": 195,
   "metadata": {},
   "outputs": [
    {
     "ename": "ValueError",
     "evalue": "Unable to coerce to DataFrame, shape must be (4, 20): given (4, 4)",
     "output_type": "error",
     "traceback": [
      "\u001b[1;31m---------------------------------------------------------------------------\u001b[0m",
      "\u001b[1;31mValueError\u001b[0m                                Traceback (most recent call last)",
      "\u001b[1;32m<ipython-input-195-cd98a9ae5b55>\u001b[0m in \u001b[0;36m<module>\u001b[1;34m\u001b[0m\n\u001b[0;32m      5\u001b[0m \u001b[0mt\u001b[0m\u001b[1;33m=\u001b[0m\u001b[1;36m20\u001b[0m\u001b[1;33m\u001b[0m\u001b[1;33m\u001b[0m\u001b[0m\n\u001b[0;32m      6\u001b[0m \u001b[0mIc\u001b[0m \u001b[1;33m=\u001b[0m \u001b[0mIc_0\u001b[0m\u001b[1;33m\u001b[0m\u001b[1;33m\u001b[0m\u001b[0m\n\u001b[1;32m----> 7\u001b[1;33m \u001b[0msimulation\u001b[0m\u001b[1;33m(\u001b[0m\u001b[0mt\u001b[0m\u001b[1;33m,\u001b[0m \u001b[0mSVC\u001b[0m\u001b[1;33m,\u001b[0m \u001b[0mIc\u001b[0m\u001b[1;33m,\u001b[0m \u001b[0mN\u001b[0m\u001b[1;33m,\u001b[0m \u001b[0mrandBeta\u001b[0m\u001b[1;33m,\u001b[0m \u001b[0mgamma\u001b[0m\u001b[1;33m,\u001b[0m \u001b[0mLc\u001b[0m\u001b[1;33m)\u001b[0m\u001b[1;33m\u001b[0m\u001b[1;33m\u001b[0m\u001b[0m\n\u001b[0m\u001b[0;32m      8\u001b[0m \u001b[1;31m#def residuals(p):\u001b[0m\u001b[1;33m\u001b[0m\u001b[1;33m\u001b[0m\u001b[1;33m\u001b[0m\u001b[0m\n\u001b[0;32m      9\u001b[0m  \u001b[1;31m#   p = tuple(p)\u001b[0m\u001b[1;33m\u001b[0m\u001b[1;33m\u001b[0m\u001b[1;33m\u001b[0m\u001b[0m\n",
      "\u001b[1;32m<ipython-input-186-8ae1b13203c0>\u001b[0m in \u001b[0;36msimulation\u001b[1;34m(t, Svc, Ic, N, Bvc, gamma, Lc)\u001b[0m\n\u001b[0;32m      8\u001b[0m     \u001b[0msimulation\u001b[0m \u001b[1;33m=\u001b[0m \u001b[1;33m[\u001b[0m\u001b[1;33m[\u001b[0m\u001b[0mS\u001b[0m\u001b[1;33m,\u001b[0m \u001b[0mI\u001b[0m\u001b[1;33m,\u001b[0m \u001b[0mR\u001b[0m\u001b[1;33m]\u001b[0m\u001b[1;33m]\u001b[0m\u001b[1;33m\u001b[0m\u001b[1;33m\u001b[0m\u001b[0m\n\u001b[0;32m      9\u001b[0m     \u001b[1;32mfor\u001b[0m \u001b[0mi\u001b[0m \u001b[1;32min\u001b[0m \u001b[0mrange\u001b[0m\u001b[1;33m(\u001b[0m\u001b[0mt\u001b[0m\u001b[1;33m)\u001b[0m\u001b[1;33m:\u001b[0m\u001b[1;33m\u001b[0m\u001b[1;33m\u001b[0m\u001b[0m\n\u001b[1;32m---> 10\u001b[1;33m         \u001b[0mrates\u001b[0m \u001b[1;33m=\u001b[0m \u001b[0mSIR_rates\u001b[0m\u001b[1;33m(\u001b[0m\u001b[0mSvc\u001b[0m\u001b[1;33m,\u001b[0m \u001b[0mIc\u001b[0m\u001b[1;33m,\u001b[0m \u001b[0mN\u001b[0m\u001b[1;33m,\u001b[0m \u001b[0mBvc\u001b[0m\u001b[1;33m,\u001b[0m \u001b[0mgamma\u001b[0m\u001b[1;33m)\u001b[0m\u001b[1;33m\u001b[0m\u001b[1;33m\u001b[0m\u001b[0m\n\u001b[0m\u001b[0;32m     11\u001b[0m         \u001b[0mLrate\u001b[0m\u001b[1;33m=\u001b[0m\u001b[0mL_rate\u001b[0m\u001b[1;33m(\u001b[0m\u001b[0mIc\u001b[0m\u001b[1;33m,\u001b[0m \u001b[0mLc\u001b[0m\u001b[1;33m,\u001b[0m \u001b[0mN\u001b[0m\u001b[1;33m)\u001b[0m\u001b[1;33m\u001b[0m\u001b[1;33m\u001b[0m\u001b[0m\n\u001b[0;32m     12\u001b[0m         \u001b[0mSvc\u001b[0m \u001b[1;33m=\u001b[0m \u001b[0mSvc\u001b[0m \u001b[1;33m+\u001b[0m \u001b[0mrates\u001b[0m\u001b[1;33m[\u001b[0m\u001b[1;36m0\u001b[0m\u001b[1;33m]\u001b[0m\u001b[1;33m\u001b[0m\u001b[1;33m\u001b[0m\u001b[0m\n",
      "\u001b[1;32m<ipython-input-184-808b60da9c98>\u001b[0m in \u001b[0;36mSIR_rates\u001b[1;34m(Svc, Ic, N, Bvc, gamma)\u001b[0m\n\u001b[0;32m      1\u001b[0m \u001b[1;32mdef\u001b[0m \u001b[0mSIR_rates\u001b[0m\u001b[1;33m(\u001b[0m\u001b[0mSvc\u001b[0m\u001b[1;33m,\u001b[0m \u001b[0mIc\u001b[0m\u001b[1;33m,\u001b[0m \u001b[0mN\u001b[0m\u001b[1;33m,\u001b[0m \u001b[0mBvc\u001b[0m\u001b[1;33m,\u001b[0m \u001b[0mgamma\u001b[0m\u001b[1;33m)\u001b[0m\u001b[1;33m:\u001b[0m\u001b[1;33m\u001b[0m\u001b[1;33m\u001b[0m\u001b[0m\n\u001b[1;32m----> 2\u001b[1;33m     \u001b[0mdSvcdt\u001b[0m \u001b[1;33m=\u001b[0m \u001b[0mS_rate\u001b[0m\u001b[1;33m(\u001b[0m\u001b[0mSvc\u001b[0m\u001b[1;33m,\u001b[0m \u001b[0mIc\u001b[0m\u001b[1;33m,\u001b[0m \u001b[0mN\u001b[0m\u001b[1;33m,\u001b[0m \u001b[0mBvc\u001b[0m\u001b[1;33m,\u001b[0m \u001b[0mgamma\u001b[0m\u001b[1;33m)\u001b[0m\u001b[1;33m\u001b[0m\u001b[1;33m\u001b[0m\u001b[0m\n\u001b[0m\u001b[0;32m      3\u001b[0m     \u001b[0mdIcdt\u001b[0m \u001b[1;33m=\u001b[0m \u001b[0mI_rate\u001b[0m\u001b[1;33m(\u001b[0m\u001b[0mdSvcdt\u001b[0m\u001b[1;33m,\u001b[0m \u001b[0mIc\u001b[0m\u001b[1;33m,\u001b[0m \u001b[0mgamma\u001b[0m\u001b[1;33m)\u001b[0m\u001b[1;33m\u001b[0m\u001b[1;33m\u001b[0m\u001b[0m\n\u001b[0;32m      4\u001b[0m     \u001b[0mdRdt\u001b[0m \u001b[1;33m=\u001b[0m \u001b[0mR_rate\u001b[0m\u001b[1;33m(\u001b[0m\u001b[0mIc\u001b[0m\u001b[1;33m,\u001b[0m \u001b[0mgamma\u001b[0m\u001b[1;33m)\u001b[0m\u001b[1;33m\u001b[0m\u001b[1;33m\u001b[0m\u001b[0m\n\u001b[0;32m      5\u001b[0m     \u001b[1;32mreturn\u001b[0m \u001b[0mdSvcdt\u001b[0m\u001b[1;33m,\u001b[0m \u001b[0mdIcdt\u001b[0m\u001b[1;33m,\u001b[0m \u001b[0mdRdt\u001b[0m\u001b[1;33m\u001b[0m\u001b[1;33m\u001b[0m\u001b[0m\n",
      "\u001b[1;32m<ipython-input-181-aed23b44ef49>\u001b[0m in \u001b[0;36mS_rate\u001b[1;34m(Svc, Ic, N, Bvc, gamma)\u001b[0m\n\u001b[0;32m      4\u001b[0m     \u001b[1;31m#This makes sure that once population hits 0 it doesn't affect the differential\u001b[0m\u001b[1;33m\u001b[0m\u001b[1;33m\u001b[0m\u001b[1;33m\u001b[0m\u001b[0m\n\u001b[0;32m      5\u001b[0m     \u001b[0mSvc\u001b[0m\u001b[1;33m[\u001b[0m\u001b[0mSvc\u001b[0m \u001b[1;33m<\u001b[0m \u001b[1;36m0\u001b[0m\u001b[1;33m]\u001b[0m \u001b[1;33m=\u001b[0m \u001b[1;36m0\u001b[0m\u001b[1;33m\u001b[0m\u001b[1;33m\u001b[0m\u001b[0m\n\u001b[1;32m----> 6\u001b[1;33m     \u001b[0mdSvcdt\u001b[0m \u001b[1;33m=\u001b[0m \u001b[1;33m(\u001b[0m\u001b[1;33m(\u001b[0m\u001b[0mBvc\u001b[0m \u001b[1;33m*\u001b[0m \u001b[0mSvc\u001b[0m \u001b[1;33m*\u001b[0m \u001b[0mIc\u001b[0m\u001b[1;33m)\u001b[0m\u001b[1;33m*\u001b[0m\u001b[1;33m-\u001b[0m\u001b[1;36m1\u001b[0m\u001b[1;33m)\u001b[0m\u001b[1;33m/\u001b[0m\u001b[0mN\u001b[0m\u001b[1;33m\u001b[0m\u001b[1;33m\u001b[0m\u001b[0m\n\u001b[0m\u001b[0;32m      7\u001b[0m     \u001b[1;32mreturn\u001b[0m \u001b[0mdSvcdt\u001b[0m\u001b[1;33m\u001b[0m\u001b[1;33m\u001b[0m\u001b[0m\n",
      "\u001b[1;32m~\\Miniconda\\envs\\zmholzerenv\\lib\\site-packages\\pandas\\core\\ops\\__init__.py\u001b[0m in \u001b[0;36mf\u001b[1;34m(self, other, axis, level, fill_value)\u001b[0m\n\u001b[0;32m    645\u001b[0m         \u001b[1;31m# TODO: why are we passing flex=True instead of flex=not special?\u001b[0m\u001b[1;33m\u001b[0m\u001b[1;33m\u001b[0m\u001b[1;33m\u001b[0m\u001b[0m\n\u001b[0;32m    646\u001b[0m         \u001b[1;31m#  15 tests fail if we pass flex=not special instead\u001b[0m\u001b[1;33m\u001b[0m\u001b[1;33m\u001b[0m\u001b[1;33m\u001b[0m\u001b[0m\n\u001b[1;32m--> 647\u001b[1;33m         \u001b[0mself\u001b[0m\u001b[1;33m,\u001b[0m \u001b[0mother\u001b[0m \u001b[1;33m=\u001b[0m \u001b[0m_align_method_FRAME\u001b[0m\u001b[1;33m(\u001b[0m\u001b[0mself\u001b[0m\u001b[1;33m,\u001b[0m \u001b[0mother\u001b[0m\u001b[1;33m,\u001b[0m \u001b[0maxis\u001b[0m\u001b[1;33m,\u001b[0m \u001b[0mflex\u001b[0m\u001b[1;33m=\u001b[0m\u001b[1;32mTrue\u001b[0m\u001b[1;33m,\u001b[0m \u001b[0mlevel\u001b[0m\u001b[1;33m=\u001b[0m\u001b[0mlevel\u001b[0m\u001b[1;33m)\u001b[0m\u001b[1;33m\u001b[0m\u001b[1;33m\u001b[0m\u001b[0m\n\u001b[0m\u001b[0;32m    648\u001b[0m \u001b[1;33m\u001b[0m\u001b[0m\n\u001b[0;32m    649\u001b[0m         \u001b[1;32mif\u001b[0m \u001b[0misinstance\u001b[0m\u001b[1;33m(\u001b[0m\u001b[0mother\u001b[0m\u001b[1;33m,\u001b[0m \u001b[0mABCDataFrame\u001b[0m\u001b[1;33m)\u001b[0m\u001b[1;33m:\u001b[0m\u001b[1;33m\u001b[0m\u001b[1;33m\u001b[0m\u001b[0m\n",
      "\u001b[1;32m~\\Miniconda\\envs\\zmholzerenv\\lib\\site-packages\\pandas\\core\\ops\\__init__.py\u001b[0m in \u001b[0;36m_align_method_FRAME\u001b[1;34m(left, right, axis, flex, level)\u001b[0m\n\u001b[0;32m    488\u001b[0m \u001b[1;33m\u001b[0m\u001b[0m\n\u001b[0;32m    489\u001b[0m             \u001b[1;32melse\u001b[0m\u001b[1;33m:\u001b[0m\u001b[1;33m\u001b[0m\u001b[1;33m\u001b[0m\u001b[0m\n\u001b[1;32m--> 490\u001b[1;33m                 raise ValueError(\n\u001b[0m\u001b[0;32m    491\u001b[0m                     \u001b[1;34m\"Unable to coerce to DataFrame, shape \"\u001b[0m\u001b[1;33m\u001b[0m\u001b[1;33m\u001b[0m\u001b[0m\n\u001b[0;32m    492\u001b[0m                     \u001b[1;34mf\"must be {left.shape}: given {right.shape}\"\u001b[0m\u001b[1;33m\u001b[0m\u001b[1;33m\u001b[0m\u001b[0m\n",
      "\u001b[1;31mValueError\u001b[0m: Unable to coerce to DataFrame, shape must be (4, 20): given (4, 4)"
     ]
    }
   ],
   "source": [
    "#grid search\n",
    "from sklearn.metrics import mean_squared_error\n",
    "randBeta = np.random.rand(4, 4)\n",
    "randBeta.sort()\n",
    "t=20\n",
    "Ic = Ic_0\n",
    "simulation(t, SVC, Ic, N, randBeta, gamma, Lc)\n",
    "#def residuals(p):\n",
    " #   p = tuple(p)\n",
    "   # sim_P = odeint(michelis_menten, P_0, t, args = p).flatten()\n",
    "  #  res = sim_P[::5] - exp_P\n",
    "  #  return res.flatten()"
   ]
  },
  {
   "cell_type": "code",
   "execution_count": null,
   "metadata": {},
   "outputs": [],
   "source": []
  },
  {
   "cell_type": "code",
   "execution_count": null,
   "metadata": {},
   "outputs": [],
   "source": []
  }
 ],
 "metadata": {
  "kernelspec": {
   "display_name": "Python 3",
   "language": "python",
   "name": "python3"
  },
  "language_info": {
   "codemirror_mode": {
    "name": "ipython",
    "version": 3
   },
   "file_extension": ".py",
   "mimetype": "text/x-python",
   "name": "python",
   "nbconvert_exporter": "python",
   "pygments_lexer": "ipython3",
   "version": "3.8.5"
  }
 },
 "nbformat": 4,
 "nbformat_minor": 4
}
