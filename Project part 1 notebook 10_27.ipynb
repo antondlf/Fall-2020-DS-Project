{
 "cells": [
  {
   "cell_type": "markdown",
   "metadata": {},
   "source": [
    "Monitoring COVID-19 Infections through Wastewater Surveillance\n",
    "CMPSC 190DD/197A Project, Fall 2020\n",
    "Nick Bachelder, Anton de la Fuente, Zoe Holzer "
   ]
  },
  {
   "cell_type": "markdown",
   "metadata": {},
   "source": [
    "PART A: \n",
    "1. Using the model dynamics described in the previous section, and all the given and chosen parameters, simulate the behavior of the disease for 120 days for this single leaf node."
   ]
  },
  {
   "cell_type": "code",
   "execution_count": 1,
   "metadata": {},
   "outputs": [],
   "source": [
    "import numpy as np\n",
    "part1 = np.load(\"part1a.npz\")\n",
    "part1.files\n",
    "Ic_0 = part1[\"Ic_0\"]\n",
    "N = part1[\"N\"]\n",
    "gamma = part1[\"gamma\"]\n",
    "Lc = part1[\"Lc\"]\n",
    "Svc_0 = part1[\"Svc_0_pmf\"]"
   ]
  },
  {
   "cell_type": "code",
   "execution_count": 2,
   "metadata": {
    "scrolled": true
   },
   "outputs": [],
   "source": [
    "import pandas as pd\n",
    "S_0 = N-(Ic_0.sum())\n",
    "I_0 = Ic_0.sum()\n",
    "R_0 = 0\n",
    "data = pd.DataFrame(Svc_0)"
   ]
  },
  {
   "cell_type": "code",
   "execution_count": 3,
   "metadata": {},
   "outputs": [],
   "source": [
    "import random \n",
    "from random import Random\n",
    "random.seed(a=None, version=2)\n",
    "B0c = []\n",
    "B1c = []\n",
    "B2c = []\n",
    "B3c = []\n",
    "for i in range(4):\n",
    "    B0c.append(random.uniform(0, 0.25))\n",
    "    B1c.append(random.uniform(0.25, 0.5))\n",
    "    B2c.append(random.uniform(0.5, 0.75))\n",
    "    B3c.append(random.uniform(0.75, 1.0))\n",
    "    Bvc = np.array([B0c, B1c, B2c, B3c])\n",
    "for i in range(4):\n",
    "    Bvc[i].sort()\n",
    "Bvc = pd.DataFrame(Bvc)"
   ]
  },
  {
   "cell_type": "code",
   "execution_count": 4,
   "metadata": {},
   "outputs": [],
   "source": [
    "def S_rate(Svc, Ic, N, Bvc, gamma):\n",
    "    \"\"\"Calculate the rate of change of suceptible group split by vulnerability and comorbidity, return a\n",
    "    tuple where the first element is split on both categories, and the second element only split by comorbidity\"\"\"\n",
    "    #This makes sure that once population hits 0 it doesn't affect the differential\n",
    "    Svc[Svc < 0] = 0\n",
    "    dSvcdt = ((Bvc * Svc * Ic)*-1)/N\n",
    "    return dSvcdt"
   ]
  },
  {
   "cell_type": "code",
   "execution_count": 5,
   "metadata": {},
   "outputs": [],
   "source": [
    "def I_rate(dSvcdt, Ic, gamma):\n",
    "    \"\"\"This function takes in the rate of change of S, sums along the vulnerability axis, and subtracts \n",
    "    Ic*gamma\"\"\"\n",
    "    Ic[Ic < 0]= 0\n",
    "    dIcdt = -dSvcdt.sum() - gamma*Ic\n",
    "    return dIcdt"
   ]
  },
  {
   "cell_type": "code",
   "execution_count": 6,
   "metadata": {},
   "outputs": [],
   "source": [
    "def R_rate(Ic, gamma):\n",
    "    Ic[Ic < 0]= 0\n",
    "    dRdt = gamma * Ic.sum()\n",
    "    return dRdt"
   ]
  },
  {
   "cell_type": "code",
   "execution_count": 7,
   "metadata": {},
   "outputs": [],
   "source": [
    "def SIR_rates(Svc, Ic, N, Bvc, gamma):\n",
    "    dSvcdt = S_rate(Svc, Ic, N, Bvc, gamma)\n",
    "    dIcdt = I_rate(dSvcdt, Ic, gamma)\n",
    "    dRdt = R_rate(Ic, gamma)\n",
    "    return dSvcdt, dIcdt, dRdt"
   ]
  },
  {
   "cell_type": "code",
   "execution_count": 8,
   "metadata": {},
   "outputs": [],
   "source": [
    "def L_rate(Ic, Lc, N):\n",
    "    Lrate=(Ic*Lc)/N\n",
    "    return Lrate"
   ]
  },
  {
   "cell_type": "code",
   "execution_count": 9,
   "metadata": {},
   "outputs": [],
   "source": [
    "def simulation(t, Svc, Ic, N, Bvc, gamma, Lc, I_0):\n",
    "    I = I_0\n",
    "    R = 0\n",
    "    S = Svc.sum().sum()\n",
    "    SvcOverTime=[]\n",
    "    IcOvertime=[]\n",
    "    LOverTime=[]\n",
    "    simulation = [[S, I, R]]\n",
    "    for i in range(t):\n",
    "        rates = SIR_rates(Svc, Ic, N, Bvc, gamma)\n",
    "        Lrate=L_rate(Ic, Lc, N)\n",
    "        Svc = Svc + rates[0]\n",
    "        S = Svc.sum().sum()\n",
    "        Ic = Ic + rates[1]\n",
    "        I = Ic.sum()\n",
    "        R = R + rates[2]\n",
    "        L=Lrate.sum()\n",
    "        simulation.append([S, I, R])\n",
    "        SvcOverTime.insert(i,Svc)\n",
    "        IcOvertime.insert(i,Ic)\n",
    "        LOverTime.insert(i,L)\n",
    "    results = pd.DataFrame(simulation, columns = [\"S\", \"I\", \"R\"])\n",
    "    return results, SvcOverTime, IcOvertime, LOverTime"
   ]
  },
  {
   "cell_type": "code",
   "execution_count": 10,
   "metadata": {
    "scrolled": true
   },
   "outputs": [],
   "source": [
    "#The Svc data multiplied by the population to get raw population values split in both dimensions\n",
    "t=120\n",
    "Svc = pd.DataFrame(Svc_0) * (N - I_0)\n",
    "Ic = Ic_0\n",
    "sim = simulation(t, Svc, Ic, N, Bvc, gamma, Lc,I_0)"
   ]
  },
  {
   "cell_type": "code",
   "execution_count": 51,
   "metadata": {},
   "outputs": [
    {
     "data": {
      "text/plain": [
       "[0.001508,\n",
       " 0.0015603355324094225,\n",
       " 0.0016163665465399198,\n",
       " 0.0016763922669776055,\n",
       " 0.0017407368474437266,\n",
       " 0.0018097513370211025,\n",
       " 0.0018838157704286302,\n",
       " 0.0019633413832965203,\n",
       " 0.0020487729516178842,\n",
       " 0.0021405912523042524,\n",
       " 0.002239315638967171,\n",
       " 0.002345506723587117,\n",
       " 0.0024597691505045035,\n",
       " 0.002582754444053058,\n",
       " 0.002715163905019159,\n",
       " 0.0028577515238068204,\n",
       " 0.0030113268695635097,\n",
       " 0.0031767579044187006,\n",
       " 0.0033549736602472794,\n",
       " 0.0035469667018447164,\n",
       " 0.003753795284960502,\n",
       " 0.003976585100184845,\n",
       " 0.004216530474178053,\n",
       " 0.004474894878206011,\n",
       " 0.004753010570539443,\n",
       " 0.005052277174273035,\n",
       " 0.0053741589659933855,\n",
       " 0.005720180624179154,\n",
       " 0.006091921160251045,\n",
       " 0.006491005731153447,\n",
       " 0.006919095012003478,\n",
       " 0.007377871792911745,\n",
       " 0.007869024458292453,\n",
       " 0.008394227013092462,\n",
       " 0.00895511534213673,\n",
       " 0.009553259430399003,\n",
       " 0.010190131337933239,\n",
       " 0.010867068817958726,\n",
       " 0.011585234594388519,\n",
       " 0.012345571479347787,\n",
       " 0.0131487537139702,\n",
       " 0.013995135156881692,\n",
       " 0.014884695221228452,\n",
       " 0.015816983766037223,\n",
       " 0.016791066469708238,\n",
       " 0.017805472536018038,\n",
       " 0.01885814688433608,\n",
       " 0.0199464092291061,\n",
       " 0.021066922628478937,\n",
       " 0.022215674145959582,\n",
       " 0.023387970190765252,\n",
       " 0.024578448855759473,\n",
       " 0.02578111113877753,\n",
       " 0.026989372309581934,\n",
       " 0.028196133883200296,\n",
       " 0.029393875712903115,\n",
       " 0.030574766674074424,\n",
       " 0.03173079134253482,\n",
       " 0.03285388905857398,\n",
       " 0.033936100896783415,\n",
       " 0.03496971941282399,\n",
       " 0.0359474356780638,\n",
       " 0.0368624780847403,\n",
       " 0.03770873772133322,\n",
       " 0.03848087576110946,\n",
       " 0.039174409226340676,\n",
       " 0.039785772611281675,\n",
       " 0.04031235407709904,\n",
       " 0.04075250617441175,\n",
       " 0.041105532212038755,\n",
       " 0.0413716503966065,\n",
       " 0.04155193866074328,\n",
       " 0.04164826364609031,\n",
       " 0.04166319760417646,\n",
       " 0.041599927037781786,\n",
       " 0.04146215675888373,\n",
       " 0.041254012728595205,\n",
       " 0.040979946616559376,\n",
       " 0.04064464451871216,\n",
       " 0.04025294174556327,\n",
       " 0.039809745073681145,\n",
       " 0.039319963368177877,\n",
       " 0.03878844705252444,\n",
       " 0.03821993653502371,\n",
       " 0.03761901940312207,\n",
       " 0.0369900959666081,\n",
       " 0.03633735256401206,\n",
       " 0.03566474193613385,\n",
       " 0.03497596990825239,\n",
       " 0.03427448759947738,\n",
       " 0.03356348838543404,\n",
       " 0.032845908871265685,\n",
       " 0.03212443317899195,\n",
       " 0.03140149991083592,\n",
       " 0.030679311213557353,\n",
       " 0.029959843434437174,\n",
       " 0.029244858924579776,\n",
       " 0.028535918607638208,\n",
       " 0.02783439499056532,\n",
       " 0.027141485346711614,\n",
       " 0.026458224850088127,\n",
       " 0.02578549948275564,\n",
       " 0.025124058575174853,\n",
       " 0.024474526872193862,\n",
       " 0.02383741604549725,\n",
       " 0.02321313559718983,\n",
       " 0.02260200311915968,\n",
       " 0.02200425388938488,\n",
       " 0.02142004979983036,\n",
       " 0.02084948762141676,\n",
       " 0.020292606620094605,\n",
       " 0.019749395544655764,\n",
       " 0.019219799011856407,\n",
       " 0.01870372331797665,\n",
       " 0.018201041708334063,\n",
       " 0.017711599137705192,\n",
       " 0.017235216555266407,\n",
       " 0.016771694747695753,\n",
       " 0.016320817773609532,\n",
       " 0.015882356021651868]"
      ]
     },
     "execution_count": 51,
     "metadata": {},
     "output_type": "execute_result"
    }
   ],
   "source": [
    "sim[3]"
   ]
  },
  {
   "cell_type": "markdown",
   "metadata": {},
   "source": [
    "2. Plot Sv,c and Ic values over time. (You can plot all Sv,c on the same plot. Same for Ic.). Also plot the overall S, I, R and L values."
   ]
  },
  {
   "cell_type": "code",
   "execution_count": 11,
   "metadata": {},
   "outputs": [
    {
     "data": {
      "image/png": "[encoded data removed]",
      "text/plain": [
       "<Figure size 432x288 with 1 Axes>"
      ]
     },
     "metadata": {
      "needs_background": "light"
     },
     "output_type": "display_data"
    }
   ],
   "source": [
    "import matplotlib.pyplot as plt\n",
    "fig,ax=plt.subplots(sharex=True)\n",
    "for a in range(0,120,8):\n",
    "    for b in range(0,4):\n",
    "        ax.scatter(a,sim[1][a][b][0],c='black',s=10)\n",
    "        ax.scatter(a,sim[1][a][b][1],c='red',s=10)\n",
    "        ax.scatter(a,sim[1][a][b][2],c='blue',s=10)\n",
    "        ax.scatter(a,sim[1][a][b][3],c='green',s=10)\n",
    "plt.title('Suseptable people over time by Vulnerability and Comorbidity Groups')\n",
    "plt.ylabel('Number of People')\n",
    "plt.xlabel('Day')\n",
    "plt.show()"
   ]
  },
  {
   "cell_type": "code",
   "execution_count": 12,
   "metadata": {},
   "outputs": [
    {
     "data": {
      "image/png": "[encoded data removed]",
      "text/plain": [
       "<Figure size 432x288 with 1 Axes>"
      ]
     },
     "metadata": {
      "needs_background": "light"
     },
     "output_type": "display_data"
    }
   ],
   "source": [
    "fig,ax=plt.subplots(sharex=True)\n",
    "for a in range(0,120,8):\n",
    "    ax.scatter(a,sim[2][a][0],c='black',s=10)\n",
    "    ax.scatter(a,sim[2][a][1],c='red',s=10)\n",
    "    ax.scatter(a,sim[2][a][2],c='blue',s=10)\n",
    "    ax.scatter(a,sim[2][a][3],c='yellow',s=10) \n",
    "plt.title('Infected People Over Time by Comorbidity Group')\n",
    "plt.ylabel('Number of People')\n",
    "plt.xlabel('Day')\n",
    "plt.show()"
   ]
  },
  {
   "cell_type": "code",
   "execution_count": 13,
   "metadata": {},
   "outputs": [
    {
     "data": {
      "image/png": "[encoded data removed]",
      "text/plain": [
       "<Figure size 432x288 with 1 Axes>"
      ]
     },
     "metadata": {
      "needs_background": "light"
     },
     "output_type": "display_data"
    }
   ],
   "source": [
    "fig,ax=plt.subplots(sharex=True)\n",
    "SIR=np.array(sim[0])\n",
    "for a in range(0,120,8):\n",
    "    ax.scatter(a,SIR[a][0],c='black',s=10)\n",
    "    ax.scatter(a,SIR[a][1],c='red',s=10)\n",
    "    ax.scatter(a,SIR[a][2],c='blue',s=10)\n",
    "    ax.scatter(a,sim[3][a],c='yellow',s=10)\n",
    "plt.title('Suseptable, Infected, Recovered, and Viral Load Over Time')\n",
    "plt.ylabel('Number of People')\n",
    "plt.xlabel('Day')\n",
    "plt.show()"
   ]
  },
  {
   "cell_type": "markdown",
   "metadata": {},
   "source": [
    "**3. Do the shapes of S, I, R look similar to what you expected? Which of these plots is the “curve” people refer to when they say “flatten the curve”?**\n",
    "\n",
    "The shapes of the model look about right except that we were not expecting the huge difference in scale between S and I or R after 120 days. The overall shape however is what we expected based off of what we learned in class and off of over COVID models currently available. Moreover, it is clear that the comorbidity groups largely impact the infected population over time, which makes perfect sense. When people say 'flatten the curve,' they are refering to the infected population curve (in blue on the last plot)."
   ]
  },
  {
   "cell_type": "markdown",
   "metadata": {},
   "source": [
    "**4. Do you observe that some Sv,c compartments converged to zero while others converged to a positive value? Why do you think that is?**\n",
    "\n",
    "Yes, we did observe some compartments converging to positive values other then zero. We believe that is because specific βv,c values have a large affect on the overall model, especially because it is the reciprocal of the typical time until an infected person recovers, making it play a large part on the time series."
   ]
  },
  {
   "cell_type": "code",
   "execution_count": 14,
   "metadata": {},
   "outputs": [
    {
     "data": {
      "text/html": [
       "<div>\n",
       "<style scoped>\n",
       "    .dataframe tbody tr th:only-of-type {\n",
       "        vertical-align: middle;\n",
       "    }\n",
       "\n",
       "    .dataframe tbody tr th {\n",
       "        vertical-align: top;\n",
       "    }\n",
       "\n",
       "    .dataframe thead th {\n",
       "        text-align: right;\n",
       "    }\n",
       "</style>\n",
       "<table border=\"1\" class=\"dataframe\">\n",
       "  <thead>\n",
       "    <tr style=\"text-align: right;\">\n",
       "      <th></th>\n",
       "      <th>0</th>\n",
       "      <th>1</th>\n",
       "      <th>2</th>\n",
       "      <th>3</th>\n",
       "    </tr>\n",
       "  </thead>\n",
       "  <tbody>\n",
       "    <tr>\n",
       "      <th>0</th>\n",
       "      <td>0.999067</td>\n",
       "      <td>0.901656</td>\n",
       "      <td>0.714975</td>\n",
       "      <td>0.979382</td>\n",
       "    </tr>\n",
       "    <tr>\n",
       "      <th>1</th>\n",
       "      <td>0.990843</td>\n",
       "      <td>0.728813</td>\n",
       "      <td>0.380576</td>\n",
       "      <td>0.956880</td>\n",
       "    </tr>\n",
       "    <tr>\n",
       "      <th>2</th>\n",
       "      <td>0.982303</td>\n",
       "      <td>0.594462</td>\n",
       "      <td>0.198211</td>\n",
       "      <td>0.916200</td>\n",
       "    </tr>\n",
       "    <tr>\n",
       "      <th>3</th>\n",
       "      <td>0.972580</td>\n",
       "      <td>0.435938</td>\n",
       "      <td>0.068826</td>\n",
       "      <td>0.887877</td>\n",
       "    </tr>\n",
       "  </tbody>\n",
       "</table>\n",
       "</div>"
      ],
      "text/plain": [
       "          0         1         2         3\n",
       "0  0.999067  0.901656  0.714975  0.979382\n",
       "1  0.990843  0.728813  0.380576  0.956880\n",
       "2  0.982303  0.594462  0.198211  0.916200\n",
       "3  0.972580  0.435938  0.068826  0.887877"
      ]
     },
     "execution_count": 14,
     "metadata": {},
     "output_type": "execute_result"
    }
   ],
   "source": [
    "## Print the percentages of population that never got infected for all compartments (i.e. all values\n",
    "## of v and c)\n",
    "\n",
    "OriginalSvcPopulations = pd.DataFrame(Svc_0) * (N - I_0)\n",
    "SvcFinalDay = sim[1][119]\n",
    "PercentNotInfectedvc = SvcFinalDay / OriginalSvcPopulations\n",
    "PercentNotInfectedvc"
   ]
  },
  {
   "cell_type": "code",
   "execution_count": 15,
   "metadata": {},
   "outputs": [],
   "source": [
    "## Redo but multiply all Beta values by 1/4. How does this change plots?\n",
    "\n",
    "BvcRedo = Bvc * (1/4)\n",
    "\n",
    "Svc = pd.DataFrame(Svc_0) * (N - I_0)\n",
    "Ic = Ic_0\n",
    "I = I_0\n",
    "S = Svc.sum().sum()\n",
    "R = 0\n",
    "simRedo = simulation(t, Svc, Ic, N, BvcRedo, gamma, Lc,I_0)"
   ]
  },
  {
   "cell_type": "code",
   "execution_count": 16,
   "metadata": {},
   "outputs": [
    {
     "data": {
      "image/png": "[encoded data removed]",
      "text/plain": [
       "<Figure size 432x288 with 1 Axes>"
      ]
     },
     "metadata": {
      "needs_background": "light"
     },
     "output_type": "display_data"
    }
   ],
   "source": [
    "import matplotlib.pyplot as plt\n",
    "fig,ax=plt.subplots(sharex=True)\n",
    "for a in range(0,120,8):\n",
    "    for b in range(0,4):\n",
    "        ax.scatter(a,simRedo[1][a][b][0],c='black',s=10)\n",
    "        ax.scatter(a,simRedo[1][a][b][1],c='red',s=10)\n",
    "        ax.scatter(a,simRedo[1][a][b][2],c='blue',s=10)\n",
    "        ax.scatter(a,simRedo[1][a][b][3],c='green',s=10)\n",
    "plt.title('Suseptible people over time by Vulnerability and Comorbidity Groups')\n",
    "plt.ylabel('Number of People')\n",
    "plt.xlabel('Day')\n",
    "\n",
    "plt.show()"
   ]
  },
  {
   "cell_type": "code",
   "execution_count": 17,
   "metadata": {},
   "outputs": [
    {
     "data": {
      "image/png": "[encoded data removed]",
      "text/plain": [
       "<Figure size 432x288 with 1 Axes>"
      ]
     },
     "metadata": {
      "needs_background": "light"
     },
     "output_type": "display_data"
    }
   ],
   "source": [
    "fig,ax=plt.subplots(sharex=True)\n",
    "for a in range(0,120,8):\n",
    "    ax.scatter(a,simRedo[2][a][0],c='black',s=10)\n",
    "    ax.scatter(a,simRedo[2][a][1],c='red',s=10)\n",
    "    ax.scatter(a,simRedo[2][a][2],c='blue',s=10)\n",
    "    ax.scatter(a,simRedo[2][a][3],c='yellow',s=10) \n",
    "plt.ylim(0, 1000)\n",
    "\n",
    "plt.title('Infected People Over Time by Comorbidity Group')\n",
    "plt.ylabel('Number of People')\n",
    "plt.xlabel('Day')\n",
    "\n",
    "plt.show()"
   ]
  },
  {
   "cell_type": "code",
   "execution_count": 18,
   "metadata": {
    "scrolled": true
   },
   "outputs": [
    {
     "data": {
      "image/png": "[encoded data removed]",
      "text/plain": [
       "<Figure size 432x288 with 1 Axes>"
      ]
     },
     "metadata": {
      "needs_background": "light"
     },
     "output_type": "display_data"
    }
   ],
   "source": [
    "fig,ax=plt.subplots(sharex=True)\n",
    "SIRRedo=simRedo[0]\n",
    "for a in range(0,120,8):\n",
    "    ax.scatter(a,SIR[a][0],c='black',s=10)\n",
    "    ax.scatter(a,SIR[a][1],c='red',s=10)\n",
    "    ax.scatter(a,SIR[a][2],c='blue',s=10)\n",
    "    ax.scatter(a,simRedo[3][a],c='yellow',s=10)\n",
    "    \n",
    "plt.title('Suseptable, Infected, Recovered, and Viral Load Over Time')\n",
    "plt.ylabel('Number of People')\n",
    "plt.xlabel('Day')\n",
    "plt.show()"
   ]
  },
  {
   "cell_type": "markdown",
   "metadata": {},
   "source": [
    "What happened to the S, I, R plots? Did the “curve” flatten compared to the previous case?\n",
    "\n",
    "The plots changed drastically dy reducing the beta rate. Since the disease was being spread at a much slower rate, all v,c groups declined in cases over time, and the curve most definetly 'flattened.'"
   ]
  },
  {
   "cell_type": "code",
   "execution_count": 19,
   "metadata": {},
   "outputs": [],
   "source": [
    "## Print the percentages of population that never got infected withthese βv,c values.\n",
    "\n",
    "OriginalSvcPopulations = pd.DataFrame(Svc_0) * (N - I_0)\n",
    "SvcFinalDay = simRedo[1][119]\n",
    "PercentNotInfectedvcRedo = SvcFinalDay / OriginalSvcPopulations"
   ]
  },
  {
   "cell_type": "code",
   "execution_count": 20,
   "metadata": {},
   "outputs": [
    {
     "data": {
      "text/html": [
       "<div>\n",
       "<style scoped>\n",
       "    .dataframe tbody tr th:only-of-type {\n",
       "        vertical-align: middle;\n",
       "    }\n",
       "\n",
       "    .dataframe tbody tr th {\n",
       "        vertical-align: top;\n",
       "    }\n",
       "\n",
       "    .dataframe thead th {\n",
       "        text-align: right;\n",
       "    }\n",
       "</style>\n",
       "<table border=\"1\" class=\"dataframe\">\n",
       "  <thead>\n",
       "    <tr style=\"text-align: right;\">\n",
       "      <th></th>\n",
       "      <th>0</th>\n",
       "      <th>1</th>\n",
       "      <th>2</th>\n",
       "      <th>3</th>\n",
       "    </tr>\n",
       "  </thead>\n",
       "  <tbody>\n",
       "    <tr>\n",
       "      <th>0</th>\n",
       "      <td>0.999067</td>\n",
       "      <td>0.901656</td>\n",
       "      <td>0.714975</td>\n",
       "      <td>0.979382</td>\n",
       "    </tr>\n",
       "    <tr>\n",
       "      <th>1</th>\n",
       "      <td>0.990843</td>\n",
       "      <td>0.728813</td>\n",
       "      <td>0.380576</td>\n",
       "      <td>0.956880</td>\n",
       "    </tr>\n",
       "    <tr>\n",
       "      <th>2</th>\n",
       "      <td>0.982303</td>\n",
       "      <td>0.594462</td>\n",
       "      <td>0.198211</td>\n",
       "      <td>0.916200</td>\n",
       "    </tr>\n",
       "    <tr>\n",
       "      <th>3</th>\n",
       "      <td>0.972580</td>\n",
       "      <td>0.435938</td>\n",
       "      <td>0.068826</td>\n",
       "      <td>0.887877</td>\n",
       "    </tr>\n",
       "  </tbody>\n",
       "</table>\n",
       "</div>"
      ],
      "text/plain": [
       "          0         1         2         3\n",
       "0  0.999067  0.901656  0.714975  0.979382\n",
       "1  0.990843  0.728813  0.380576  0.956880\n",
       "2  0.982303  0.594462  0.198211  0.916200\n",
       "3  0.972580  0.435938  0.068826  0.887877"
      ]
     },
     "execution_count": 20,
     "metadata": {},
     "output_type": "execute_result"
    }
   ],
   "source": [
    "PercentNotInfectedvc ## Many less people in each group were infected at a lower beta value"
   ]
  },
  {
   "cell_type": "code",
   "execution_count": 45,
   "metadata": {},
   "outputs": [],
   "source": [
    "part2 = np.load(\"part1b.npz\")\n",
    "part2.files\n",
    "Ic_0 = part2[\"Ic_0\"]\n",
    "N = part2[\"N\"]\n",
    "gamma = part2[\"gamma\"]\n",
    "Lc = part2[\"Lc\"]\n",
    "L_validation = part2[\"L_validation\"]\n",
    "L_test = part2[\"L_test\"]\n",
    "betas_validation = part2[\"betas_validation\"]\n",
    "pmfs = [[0.5, 0.3, 0.1, 0.1],[0.4, 0.3, 0.2, 0.1],[0.3, 0.3, 0.3, 0.2],[0.1, 0.2, 0.3, 0.4]]\n",
    "SVC0 = []\n",
    "for item in pmfs:\n",
    "    for i in range(5):\n",
    "        SVC0.append(item)\n",
    "SVC0 = np.array(SVC0)\n",
    "SVC = pd.DataFrame(SVC0) * (N - I_0)\n",
    "Ic = pd.DataFrame(Ic_0)\n",
    "Lc = pd.DataFrame([Lc]*20)\n",
    "I_0 = Ic_0.sum()"
   ]
  },
  {
   "cell_type": "code",
   "execution_count": 78,
   "metadata": {},
   "outputs": [
    {
     "data": {
      "text/plain": [
       "(88054934.03228398, 0.8421052631578947)"
      ]
     },
     "execution_count": 78,
     "metadata": {},
     "output_type": "execute_result"
    }
   ],
   "source": [
    "#grid search\n",
    "from sklearn.metrics import mean_squared_error\n",
    "beta_grid=np.linspace(0,1,20)\n",
    "#print(beta_grid)\n",
    "mmse=np.inf\n",
    "beta_mmse=np.nan\n",
    "for beta in beta_grid:\n",
    "    #print(beta)\n",
    "    t=20\n",
    "    simTrial=simulation(t, SVC, Ic, N, beta, gamma, Lc.sum(axis=1), I_0)\n",
    "    local_mmse=np.inf\n",
    "    #print(simTrial[3])\n",
    "    for L in simTrial[3]:\n",
    "        mse = mean_squared_error(L_validation, simTrial[3])\n",
    "        local_mmse = mse if mse < local_mmse else local_mmse\n",
    "    (mmse, optimal_beta) = (local_mmse, beta) if (local_mmse < mmse) else (mmse,optimal_beta)\n",
    "    #print(\"Error for iteration:\")\n",
    "    #print(mmse)\n",
    "    #print(\"Optimal Beta for iteration\")\n",
    "    #print(optimal_beta)\n",
    "(mmse, optimal_beta)"
   ]
  }
 ],
 "metadata": {
  "kernelspec": {
   "display_name": "Python 3",
   "language": "python",
   "name": "python3"
  },
  "language_info": {
   "codemirror_mode": {
    "name": "ipython",
    "version": 3
   },
   "file_extension": ".py",
   "mimetype": "text/x-python",
   "name": "python",
   "nbconvert_exporter": "python",
   "pygments_lexer": "ipython3",
   "version": "3.7.6"
  }
 },
 "nbformat": 4,
 "nbformat_minor": 4
}
