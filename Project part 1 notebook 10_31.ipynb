{
 "cells": [
  {
   "cell_type": "markdown",
   "metadata": {},
   "source": [
    "Monitoring COVID-19 Infections through Wastewater Surveillance\n",
    "CMPSC 190DD/197A Project, Fall 2020\n",
    "Nick Bachelder, Anton de la Fuente, Zoe Holzer "
   ]
  },
  {
   "cell_type": "markdown",
   "metadata": {},
   "source": [
    "PART A: \n",
    "1. Using the model dynamics described in the previous section, and all the given and chosen parameters, simulate the behavior of the disease for 120 days for this single leaf node."
   ]
  },
  {
   "cell_type": "code",
   "execution_count": 50,
   "metadata": {},
   "outputs": [],
   "source": [
    "import numpy as np\n",
    "part1 = np.load(\"part1a.npz\")\n",
    "part1.files\n",
    "Ic_0 = part1[\"Ic_0\"]\n",
    "N = part1[\"N\"]\n",
    "gamma = part1[\"gamma\"]\n",
    "Lc = part1[\"Lc\"]\n",
    "Svc_0 = part1[\"Svc_0_pmf\"]"
   ]
  },
  {
   "cell_type": "code",
   "execution_count": 51,
   "metadata": {
    "scrolled": true
   },
   "outputs": [],
   "source": [
    "import pandas as pd\n",
    "S_0 = N-(Ic_0.sum())\n",
    "I_0 = Ic_0.sum()\n",
    "R_0 = 0\n",
    "data = pd.DataFrame(Svc_0)"
   ]
  },
  {
   "cell_type": "code",
   "execution_count": 52,
   "metadata": {},
   "outputs": [],
   "source": [
    "import random \n",
    "from random import Random\n",
    "random.seed(a=None, version=2)\n",
    "B0c = []\n",
    "B1c = []\n",
    "B2c = []\n",
    "B3c = []\n",
    "for i in range(4):\n",
    "    B0c.append(random.uniform(0, 0.25))\n",
    "    B1c.append(random.uniform(0.25, 0.5))\n",
    "    B2c.append(random.uniform(0.5, 0.75))\n",
    "    B3c.append(random.uniform(0.75, 1.0))\n",
    "    Bvc = np.array([B0c, B1c, B2c, B3c])\n",
    "for i in range(4):\n",
    "    Bvc[i].sort()\n",
    "Bvc = pd.DataFrame(Bvc)"
   ]
  },
  {
   "cell_type": "code",
   "execution_count": 53,
   "metadata": {},
   "outputs": [],
   "source": [
    "def S_rate(Svc, Ic, N, Bvc, gamma):\n",
    "    \"\"\"Calculate the rate of change of suceptible group split by vulnerability and comorbidity, return a\n",
    "    tuple where the first element is split on both categories, and the second element only split by comorbidity\"\"\"\n",
    "    #This makes sure that once population hits 0 it doesn't affect the differential\n",
    "    Svc[Svc < 0] = 0\n",
    "    dSvcdt = ((Bvc * Svc * Ic)*-1)/N\n",
    "    return dSvcdt"
   ]
  },
  {
   "cell_type": "code",
   "execution_count": 54,
   "metadata": {},
   "outputs": [],
   "source": [
    "def I_rate(dSvcdt, Ic, gamma):\n",
    "    \"\"\"This function takes in the rate of change of S, sums along the vulnerability axis, and subtracts \n",
    "    Ic*gamma\"\"\"\n",
    "    Ic[Ic < 0]= 0\n",
    "    dIcdt = -dSvcdt.sum() - gamma*Ic\n",
    "    return dIcdt"
   ]
  },
  {
   "cell_type": "code",
   "execution_count": 55,
   "metadata": {},
   "outputs": [],
   "source": [
    "def R_rate(Ic, gamma):\n",
    "    Ic[Ic < 0]= 0\n",
    "    dRdt = gamma * Ic.sum()\n",
    "    return dRdt"
   ]
  },
  {
   "cell_type": "code",
   "execution_count": 56,
   "metadata": {},
   "outputs": [],
   "source": [
    "def SIR_rates(Svc, Ic, N, Bvc, gamma):\n",
    "    dSvcdt = S_rate(Svc, Ic, N, Bvc, gamma)\n",
    "    dIcdt = I_rate(dSvcdt, Ic, gamma)\n",
    "    dRdt = R_rate(Ic, gamma)\n",
    "    return dSvcdt, dIcdt, dRdt"
   ]
  },
  {
   "cell_type": "code",
   "execution_count": 60,
   "metadata": {},
   "outputs": [],
   "source": [
    "def L_rate(Ic, Lc, N):\n",
    "    Lrate= (Ic*Lc).sum()\n",
    "    return Lrate"
   ]
  },
  {
   "cell_type": "code",
   "execution_count": 61,
   "metadata": {},
   "outputs": [],
   "source": [
    "def simulation(t, Svc, Ic, N, Bvc, gamma, Lc, I_0):\n",
    "    I = I_0\n",
    "    R = 0\n",
    "    S = Svc.sum().sum()\n",
    "    SvcOverTime=[]\n",
    "    IcOvertime=[]\n",
    "    LOverTime=[]\n",
    "    simulation = [[S, I, R]]\n",
    "    for i in range(t):\n",
    "        rates = SIR_rates(Svc, Ic, N, Bvc, gamma)\n",
    "        Lrate= L_rate(Ic, Lc, N)\n",
    "        Svc = Svc + rates[0]\n",
    "        S = Svc.sum().sum()\n",
    "        Ic = Ic + rates[1]\n",
    "        I = Ic.sum()\n",
    "        R = R + rates[2]\n",
    "        L=Lrate.sum()\n",
    "        simulation.append([S, I, R])\n",
    "        SvcOverTime.insert(i,Svc)\n",
    "        IcOvertime.insert(i,Ic)\n",
    "        LOverTime.insert(i,L)\n",
    "    results = pd.DataFrame(simulation, columns = [\"S\", \"I\", \"R\"])\n",
    "    return results, SvcOverTime, IcOvertime, LOverTime"
   ]
  },
  {
   "cell_type": "code",
   "execution_count": 62,
   "metadata": {
    "scrolled": true
   },
   "outputs": [],
   "source": [
    "#The Svc data multiplied by the population to get raw population values split in both dimensions\n",
    "t=120\n",
    "Svc = pd.DataFrame(Svc_0) * (N - I_0)\n",
    "Ic = Ic_0\n",
    "sim = simulation(t, Svc, Ic, N, Bvc, gamma, Lc,I_0)"
   ]
  },
  {
   "cell_type": "code",
   "execution_count": 63,
   "metadata": {},
   "outputs": [
    {
     "data": {
      "text/plain": [
       "[150.8,\n",
       " 157.00891625787347,\n",
       " 163.68655586412254,\n",
       " 170.8754200889988,\n",
       " 178.6220312494076,\n",
       " 186.97729765538895,\n",
       " 195.99690622662854,\n",
       " 205.74174352193577,\n",
       " 216.27834556891486,\n",
       " 227.67937640617407,\n",
       " 240.02413463036663,\n",
       " 253.3990864448723,\n",
       " 267.8984227011601,\n",
       " 283.6246361681453,\n",
       " 300.6891137146358,\n",
       " 319.21273619609633,\n",
       " 339.32647654634434,\n",
       " 361.17198383162065,\n",
       " 384.90213777233356,\n",
       " 410.68155442274116,\n",
       " 438.6870192740762,\n",
       " 469.1078189786814,\n",
       " 502.14593717005044,\n",
       " 538.016073497715,\n",
       " 576.9454380752434,\n",
       " 619.173266187314,\n",
       " 664.9499905362247,\n",
       " 714.5360008567288,\n",
       " 768.199913853173,\n",
       " 826.2162707385521,\n",
       " 888.8625759907753,\n",
       " 956.415590299714,\n",
       " 1029.146794279574,\n",
       " 1107.3169487766238,\n",
       " 1191.1696940692577,\n",
       " 1280.9241555501055,\n",
       " 1376.7665591296623,\n",
       " 1478.8409068539363,\n",
       " 1587.2388227786878,\n",
       " 1701.9887508035815,\n",
       " 1823.0447685061295,\n",
       " 1950.2753709733963,\n",
       " 2083.452671222931,\n",
       " 2222.242551943368,\n",
       " 2366.196377844095,\n",
       " 2514.7449281304007,\n",
       " 2667.195222968169,\n",
       " 2822.7308852099486,\n",
       " 2980.4165902274453,\n",
       " 3139.2070076152786,\n",
       " 3297.9604299091116,\n",
       " 3455.4570237597673,\n",
       " 3610.421344599402,\n",
       " 3761.5484503697207,\n",
       " 3907.5326622275893,\n",
       " 4047.097781062155,\n",
       " 4179.027406579232,\n",
       " 4302.193942325462,\n",
       " 4415.584916560215,\n",
       " 4518.325403845514,\n",
       " 4609.6955811931875,\n",
       " 4689.142770178794,\n",
       " 4756.287669962347,\n",
       " 4810.924840571553,\n",
       " 4853.017818505541,\n",
       " 4882.689511686185,\n",
       " 4900.208711221348,\n",
       " 4905.973666671696,\n",
       " 4900.493702242983,\n",
       " 4884.369813709229,\n",
       " 4858.275094882014,\n",
       " 4822.93571515661,\n",
       " 4779.113022899937,\n",
       " 4727.587197988163,\n",
       " 4669.142732368711,\n",
       " 4604.555888361748,\n",
       " 4534.584175435756,\n",
       " 4459.957799420626,\n",
       " 4381.37297335292,\n",
       " 4299.486934616794,\n",
       " 4214.914486047048,\n",
       " 4128.225866069813,\n",
       " 4039.945751599383,\n",
       " 3950.55320433141,\n",
       " 3860.482383684467,\n",
       " 3770.1238657911063,\n",
       " 3679.8264259167468,\n",
       " 3589.8991601949606,\n",
       " 3500.6138406781065,\n",
       " 3412.207414781996,\n",
       " 3324.884575862473,\n",
       " 3238.8203456953634,\n",
       " 3154.1626219696946,\n",
       " 3071.034654573423,\n",
       " 2989.537423539631,\n",
       " 2909.7518991562283,\n",
       " 2831.741171069891,\n",
       " 2755.5524383882002,\n",
       " 2681.218856953103,\n",
       " 2608.76124326601,\n",
       " 2538.189637120702,\n",
       " 2469.504726961952,\n",
       " 2402.699143439039,\n",
       " 2337.7586276543702,\n",
       " 2274.663081295845,\n",
       " 2213.3875062536717,\n",
       " 2153.902841514002,\n",
       " 2096.1767051399015,\n",
       " 2040.1740490339912,\n",
       " 1985.857733958806,\n",
       " 1933.1890319972783,\n",
       " 1882.1280632883818,\n",
       " 1832.6341734895493,\n",
       " 1784.6662580122597,\n",
       " 1738.183038661406,\n",
       " 1693.143297891785,\n",
       " 1649.5060754831798,\n",
       " 1607.2308320344478,\n",
       " 1566.2775832907605,\n",
       " 1526.6070089495893]"
      ]
     },
     "execution_count": 63,
     "metadata": {},
     "output_type": "execute_result"
    }
   ],
   "source": [
    "sim[3]"
   ]
  },
  {
   "cell_type": "markdown",
   "metadata": {},
   "source": [
    "2. Plot Sv,c and Ic values over time. (You can plot all Sv,c on the same plot. Same for Ic.). Also plot the overall S, I, R and L values."
   ]
  },
  {
   "cell_type": "code",
   "execution_count": 64,
   "metadata": {},
   "outputs": [
    {
     "data": {
      "image/png": "[encoded data removed]",
      "text/plain": [
       "<Figure size 432x288 with 1 Axes>"
      ]
     },
     "metadata": {
      "needs_background": "light"
     },
     "output_type": "display_data"
    }
   ],
   "source": [
    "import matplotlib.pyplot as plt\n",
    "fig,ax=plt.subplots(sharex=True)\n",
    "for a in range(0,120,8):\n",
    "    for b in range(0,4):\n",
    "        ax.scatter(a,sim[1][a][b][0],c='black',s=10)\n",
    "        ax.scatter(a,sim[1][a][b][1],c='red',s=10)\n",
    "        ax.scatter(a,sim[1][a][b][2],c='blue',s=10)\n",
    "        ax.scatter(a,sim[1][a][b][3],c='green',s=10)\n",
    "plt.title('Suseptable people over time by Vulnerability and Comorbidity Groups')\n",
    "plt.ylabel('Number of People')\n",
    "plt.xlabel('Day')\n",
    "plt.show()"
   ]
  },
  {
   "cell_type": "code",
   "execution_count": 13,
   "metadata": {},
   "outputs": [
    {
     "data": {
      "image/png": "[encoded data removed]",
      "text/plain": [
       "<Figure size 432x288 with 1 Axes>"
      ]
     },
     "metadata": {
      "needs_background": "light"
     },
     "output_type": "display_data"
    }
   ],
   "source": [
    "fig,ax=plt.subplots(sharex=True)\n",
    "for a in range(0,120,8):\n",
    "    ax.scatter(a,sim[2][a][0],c='black',s=10)\n",
    "    ax.scatter(a,sim[2][a][1],c='red',s=10)\n",
    "    ax.scatter(a,sim[2][a][2],c='blue',s=10)\n",
    "    ax.scatter(a,sim[2][a][3],c='yellow',s=10) \n",
    "plt.title('Infected People Over Time by Comorbidity Group')\n",
    "plt.ylabel('Number of People')\n",
    "plt.xlabel('Day')\n",
    "plt.show()"
   ]
  },
  {
   "cell_type": "code",
   "execution_count": 65,
   "metadata": {},
   "outputs": [
    {
     "data": {
      "image/png": "[encoded data removed]",
      "text/plain": [
       "<Figure size 432x288 with 1 Axes>"
      ]
     },
     "metadata": {
      "needs_background": "light"
     },
     "output_type": "display_data"
    }
   ],
   "source": [
    "fig,ax=plt.subplots(sharex=True)\n",
    "SIR=np.array(sim[0])\n",
    "for a in range(0,120,8):\n",
    "    ax.scatter(a,SIR[a][0],c='black',s=10)\n",
    "    ax.scatter(a,SIR[a][1],c='red',s=10)\n",
    "    ax.scatter(a,SIR[a][2],c='blue',s=10)\n",
    "    ax.scatter(a,sim[3][a],c='yellow',s=10)\n",
    "plt.title('Suseptable, Infected, Recovered, and Viral Load Over Time')\n",
    "plt.ylabel('Number of People')\n",
    "plt.xlabel('Day')\n",
    "plt.show()"
   ]
  },
  {
   "cell_type": "markdown",
   "metadata": {},
   "source": [
    "**3. Do the shapes of S, I, R look similar to what you expected? Which of these plots is the “curve” people refer to when they say “flatten the curve”?**\n",
    "\n",
    "The shapes of the model look about right except that we were not expecting the huge difference in scale between S and I or R after 120 days. The overall shape however is what we expected based off of what we learned in class and off of over COVID models currently available. Moreover, it is clear that the comorbidity groups largely impact the infected population over time, which makes perfect sense. When people say 'flatten the curve,' they are refering to the infected population curve (in blue on the last plot)."
   ]
  },
  {
   "cell_type": "markdown",
   "metadata": {},
   "source": [
    "**4. Do you observe that some Sv,c compartments converged to zero while others converged to a positive value? Why do you think that is?**\n",
    "\n",
    "Yes, we did observe some compartments converging to positive values other then zero. We believe that is because specific βv,c values have a large affect on the overall model, especially because it is the reciprocal of the typical time until an infected person recovers, making it play a large part on the time series."
   ]
  },
  {
   "cell_type": "code",
   "execution_count": 15,
   "metadata": {},
   "outputs": [
    {
     "data": {
      "text/html": [
       "<div>\n",
       "<style scoped>\n",
       "    .dataframe tbody tr th:only-of-type {\n",
       "        vertical-align: middle;\n",
       "    }\n",
       "\n",
       "    .dataframe tbody tr th {\n",
       "        vertical-align: top;\n",
       "    }\n",
       "\n",
       "    .dataframe thead th {\n",
       "        text-align: right;\n",
       "    }\n",
       "</style>\n",
       "<table border=\"1\" class=\"dataframe\">\n",
       "  <thead>\n",
       "    <tr style=\"text-align: right;\">\n",
       "      <th></th>\n",
       "      <th>0</th>\n",
       "      <th>1</th>\n",
       "      <th>2</th>\n",
       "      <th>3</th>\n",
       "    </tr>\n",
       "  </thead>\n",
       "  <tbody>\n",
       "    <tr>\n",
       "      <th>0</th>\n",
       "      <td>0.999439</td>\n",
       "      <td>0.786178</td>\n",
       "      <td>0.517303</td>\n",
       "      <td>0.932486</td>\n",
       "    </tr>\n",
       "    <tr>\n",
       "      <th>1</th>\n",
       "      <td>0.991946</td>\n",
       "      <td>0.461123</td>\n",
       "      <td>0.191534</td>\n",
       "      <td>0.861872</td>\n",
       "    </tr>\n",
       "    <tr>\n",
       "      <th>2</th>\n",
       "      <td>0.983686</td>\n",
       "      <td>0.425776</td>\n",
       "      <td>0.144351</td>\n",
       "      <td>0.808080</td>\n",
       "    </tr>\n",
       "    <tr>\n",
       "      <th>3</th>\n",
       "      <td>0.974922</td>\n",
       "      <td>0.234599</td>\n",
       "      <td>0.040308</td>\n",
       "      <td>0.744724</td>\n",
       "    </tr>\n",
       "  </tbody>\n",
       "</table>\n",
       "</div>"
      ],
      "text/plain": [
       "          0         1         2         3\n",
       "0  0.999439  0.786178  0.517303  0.932486\n",
       "1  0.991946  0.461123  0.191534  0.861872\n",
       "2  0.983686  0.425776  0.144351  0.808080\n",
       "3  0.974922  0.234599  0.040308  0.744724"
      ]
     },
     "execution_count": 15,
     "metadata": {},
     "output_type": "execute_result"
    }
   ],
   "source": [
    "## Print the percentages of population that never got infected for all compartments (i.e. all values\n",
    "## of v and c)\n",
    "\n",
    "OriginalSvcPopulations = pd.DataFrame(Svc_0) * (N - I_0)\n",
    "SvcFinalDay = sim[1][119]\n",
    "PercentNotInfectedvc = SvcFinalDay / OriginalSvcPopulations\n",
    "PercentNotInfectedvc"
   ]
  },
  {
   "cell_type": "code",
   "execution_count": 16,
   "metadata": {},
   "outputs": [],
   "source": [
    "## Redo but multiply all Beta values by 1/4. How does this change plots?\n",
    "\n",
    "BvcRedo = Bvc * (1/4)\n",
    "\n",
    "Svc = pd.DataFrame(Svc_0) * (N - I_0)\n",
    "Ic = Ic_0\n",
    "I = I_0\n",
    "S = Svc.sum().sum()\n",
    "R = 0\n",
    "simRedo = simulation(t, Svc, Ic, N, BvcRedo, gamma, Lc,I_0)"
   ]
  },
  {
   "cell_type": "code",
   "execution_count": 17,
   "metadata": {},
   "outputs": [
    {
     "data": {
      "image/png": "[encoded data removed]",
      "text/plain": [
       "<Figure size 432x288 with 1 Axes>"
      ]
     },
     "metadata": {
      "needs_background": "light"
     },
     "output_type": "display_data"
    }
   ],
   "source": [
    "import matplotlib.pyplot as plt\n",
    "fig,ax=plt.subplots(sharex=True)\n",
    "for a in range(0,120,8):\n",
    "    for b in range(0,4):\n",
    "        ax.scatter(a,simRedo[1][a][b][0],c='black',s=10)\n",
    "        ax.scatter(a,simRedo[1][a][b][1],c='red',s=10)\n",
    "        ax.scatter(a,simRedo[1][a][b][2],c='blue',s=10)\n",
    "        ax.scatter(a,simRedo[1][a][b][3],c='green',s=10)\n",
    "plt.title('Suseptible people over time by Vulnerability and Comorbidity Groups')\n",
    "plt.ylabel('Number of People')\n",
    "plt.xlabel('Day')\n",
    "\n",
    "plt.show()"
   ]
  },
  {
   "cell_type": "code",
   "execution_count": 18,
   "metadata": {},
   "outputs": [
    {
     "data": {
      "image/png": "[encoded data removed]",
      "text/plain": [
       "<Figure size 432x288 with 1 Axes>"
      ]
     },
     "metadata": {
      "needs_background": "light"
     },
     "output_type": "display_data"
    }
   ],
   "source": [
    "fig,ax=plt.subplots(sharex=True)\n",
    "for a in range(0,120,8):\n",
    "    ax.scatter(a,simRedo[2][a][0],c='black',s=10)\n",
    "    ax.scatter(a,simRedo[2][a][1],c='red',s=10)\n",
    "    ax.scatter(a,simRedo[2][a][2],c='blue',s=10)\n",
    "    ax.scatter(a,simRedo[2][a][3],c='yellow',s=10) \n",
    "plt.ylim(0, 1000)\n",
    "\n",
    "plt.title('Infected People Over Time by Comorbidity Group')\n",
    "plt.ylabel('Number of People')\n",
    "plt.xlabel('Day')\n",
    "\n",
    "plt.show()"
   ]
  },
  {
   "cell_type": "code",
   "execution_count": 19,
   "metadata": {
    "scrolled": true
   },
   "outputs": [
    {
     "data": {
      "image/png": "[encoded data removed]",
      "text/plain": [
       "<Figure size 432x288 with 1 Axes>"
      ]
     },
     "metadata": {
      "needs_background": "light"
     },
     "output_type": "display_data"
    }
   ],
   "source": [
    "fig,ax=plt.subplots(sharex=True)\n",
    "SIRRedo=simRedo[0]\n",
    "for a in range(0,120,8):\n",
    "    ax.scatter(a,SIR[a][0],c='black',s=10)\n",
    "    ax.scatter(a,SIR[a][1],c='red',s=10)\n",
    "    ax.scatter(a,SIR[a][2],c='blue',s=10)\n",
    "    ax.scatter(a,simRedo[3][a],c='yellow',s=10)\n",
    "    \n",
    "plt.title('Suseptable, Infected, Recovered, and Viral Load Over Time')\n",
    "plt.ylabel('Number of People')\n",
    "plt.xlabel('Day')\n",
    "plt.show()"
   ]
  },
  {
   "cell_type": "markdown",
   "metadata": {},
   "source": [
    "What happened to the S, I, R plots? Did the “curve” flatten compared to the previous case?\n",
    "\n",
    "The plots changed drastically dy reducing the beta rate. Since the disease was being spread at a much slower rate, all v,c groups declined in cases over time, and the curve most definetly 'flattened.'"
   ]
  },
  {
   "cell_type": "code",
   "execution_count": 20,
   "metadata": {},
   "outputs": [],
   "source": [
    "## Print the percentages of population that never got infected withthese βv,c values.\n",
    "\n",
    "OriginalSvcPopulations = pd.DataFrame(Svc_0) * (N - I_0)\n",
    "SvcFinalDay = simRedo[1][119]\n",
    "PercentNotInfectedvcRedo = SvcFinalDay / OriginalSvcPopulations"
   ]
  },
  {
   "cell_type": "code",
   "execution_count": 21,
   "metadata": {},
   "outputs": [
    {
     "data": {
      "text/html": [
       "<div>\n",
       "<style scoped>\n",
       "    .dataframe tbody tr th:only-of-type {\n",
       "        vertical-align: middle;\n",
       "    }\n",
       "\n",
       "    .dataframe tbody tr th {\n",
       "        vertical-align: top;\n",
       "    }\n",
       "\n",
       "    .dataframe thead th {\n",
       "        text-align: right;\n",
       "    }\n",
       "</style>\n",
       "<table border=\"1\" class=\"dataframe\">\n",
       "  <thead>\n",
       "    <tr style=\"text-align: right;\">\n",
       "      <th></th>\n",
       "      <th>0</th>\n",
       "      <th>1</th>\n",
       "      <th>2</th>\n",
       "      <th>3</th>\n",
       "    </tr>\n",
       "  </thead>\n",
       "  <tbody>\n",
       "    <tr>\n",
       "      <th>0</th>\n",
       "      <td>0.999439</td>\n",
       "      <td>0.786178</td>\n",
       "      <td>0.517303</td>\n",
       "      <td>0.932486</td>\n",
       "    </tr>\n",
       "    <tr>\n",
       "      <th>1</th>\n",
       "      <td>0.991946</td>\n",
       "      <td>0.461123</td>\n",
       "      <td>0.191534</td>\n",
       "      <td>0.861872</td>\n",
       "    </tr>\n",
       "    <tr>\n",
       "      <th>2</th>\n",
       "      <td>0.983686</td>\n",
       "      <td>0.425776</td>\n",
       "      <td>0.144351</td>\n",
       "      <td>0.808080</td>\n",
       "    </tr>\n",
       "    <tr>\n",
       "      <th>3</th>\n",
       "      <td>0.974922</td>\n",
       "      <td>0.234599</td>\n",
       "      <td>0.040308</td>\n",
       "      <td>0.744724</td>\n",
       "    </tr>\n",
       "  </tbody>\n",
       "</table>\n",
       "</div>"
      ],
      "text/plain": [
       "          0         1         2         3\n",
       "0  0.999439  0.786178  0.517303  0.932486\n",
       "1  0.991946  0.461123  0.191534  0.861872\n",
       "2  0.983686  0.425776  0.144351  0.808080\n",
       "3  0.974922  0.234599  0.040308  0.744724"
      ]
     },
     "execution_count": 21,
     "metadata": {},
     "output_type": "execute_result"
    }
   ],
   "source": [
    "PercentNotInfectedvc ## Many less people in each group were infected at a lower beta value"
   ]
  },
  {
   "cell_type": "code",
   "execution_count": 114,
   "metadata": {},
   "outputs": [
    {
     "data": {
      "text/plain": [
       "array([[0.1 , 0.15, 0.2 , 0.25],\n",
       "       [0.2 , 0.25, 0.3 , 0.4 ],\n",
       "       [0.35, 0.45, 0.5 , 0.6 ],\n",
       "       [0.4 , 0.5 , 0.6 , 0.8 ]])"
      ]
     },
     "execution_count": 114,
     "metadata": {},
     "output_type": "execute_result"
    }
   ],
   "source": [
    "part2 = np.load(\"part1b.npz\")\n",
    "part2.files\n",
    "Ic_0 = part2[\"Ic_0\"]\n",
    "N = part2[\"N\"]\n",
    "gamma = part2[\"gamma\"]\n",
    "Lc = part2[\"Lc\"]\n",
    "L_validation = part2[\"L_validation\"]\n",
    "L_test = part2[\"L_test\"]\n",
    "betas_validation = part2[\"betas_validation\"]\n",
    "pmfs = [[0.5, 0.3, 0.1, 0.1],[0.4, 0.3, 0.2, 0.1],[0.3, 0.3, 0.3, 0.2],[0.1, 0.2, 0.3, 0.4]]\n",
    "SVC0 = []\n",
    "for item in pmfs:\n",
    "    for i in range(5):\n",
    "        SVC0.append(item)\n",
    "SVC0 = np.array(SVC0)\n",
    "SVC = (SVC0 * N) - Ic_0\n",
    "Lc = [Lc]*20\n",
    "I_0 = Ic_0.sum()\n",
    "Ic_0[0]\n",
    "part2[\"betas_validation\"]"
   ]
  },
  {
   "cell_type": "code",
   "execution_count": 113,
   "metadata": {},
   "outputs": [],
   "source": [
    "#grid search\n",
    "from sklearn.metrics import mean_squared_error\n",
    "\n",
    "beta_grid= np.linspace(0,1,20)\n",
    "#print(beta_grid)\n",
    "mmse=np.inf\n",
    "beta_mmse=np.nan\n",
    "t=20\n",
    "\n",
    "betaMMSE = []\n",
    "\n",
    "for beta in beta_grid:\n",
    "    local_mmse = np.inf\n",
    "    for i in range(20): \n",
    "        Ic_vc = Ic_0[i]    \n",
    "        SVC_vc = SVC[i]\n",
    "        Lc_vc = Lc[i].sum()\n",
    "        simTrial=simulation(t, SVC_vc, Ic_vc, N, beta, gamma, Lc_vc, I_0)\n",
    "        mse = mean_squared_error(L_validation[i], simTrial[3])\n",
    "        local_mmse = mse if mse < local_mmse else local_mmse\n",
    "        (mmse, optimal_beta) = (local_mmse, beta) if (local_mmse < mmse) else (mmse,optimal_beta)\n"
   ]
  },
  {
   "cell_type": "code",
   "execution_count": 112,
   "metadata": {},
   "outputs": [
    {
     "data": {
      "text/plain": [
       "array([82, 31, 64, 86])"
      ]
     },
     "execution_count": 112,
     "metadata": {},
     "output_type": "execute_result"
    }
   ],
   "source": [
    "Ic_vc = Ic_0[1]    \n",
    "SVC_vc = SVC[1]\n",
    "Lc_vc = Lc[1]\n",
    "\n",
    "Ic_0[1] "
   ]
  },
  {
   "cell_type": "code",
   "execution_count": 98,
   "metadata": {},
   "outputs": [
    {
     "data": {
      "text/plain": [
       "[167.8,\n",
       " 155.81428571428572,\n",
       " 144.684693877551,\n",
       " 134.35007288629737,\n",
       " 124.7536391087047,\n",
       " 115.84266488665436,\n",
       " 107.56818882332192,\n",
       " 99.88474676451321,\n",
       " 92.7501219956194,\n",
       " 86.12511328164659,\n",
       " 79.97331947581469,\n",
       " 74.26093951325649,\n",
       " 68.95658669088104,\n",
       " 64.03111621296097,\n",
       " 59.457465054892324,\n",
       " 55.21050326525716,\n",
       " 51.26689588916736,\n",
       " 47.60497475422683,\n",
       " 44.2046194146392,\n",
       " 41.04714659930783]"
      ]
     },
     "execution_count": 98,
     "metadata": {},
     "output_type": "execute_result"
    }
   ],
   "source": [
    "Ic_vc = Ic_0[1]    \n",
    "SVC_vc = SVC[1]\n",
    "Lc_vc = Lc[1]\n",
    "        \n",
    "simTrial=simulation(t, SVC_vc, Ic_vc, N, beta, gamma, Lc_vc, I_0)\n",
    "\n",
    "simTrial[3]\n",
    "        "
   ]
  },
  {
   "cell_type": "code",
   "execution_count": 100,
   "metadata": {},
   "outputs": [
    {
     "data": {
      "text/plain": [
       "array([168.20103748, 175.31698233, 184.41546073, 191.23318015,\n",
       "       200.38958258, 212.84378649, 222.09570163, 237.44506788,\n",
       "       251.13497681, 263.20329764, 281.12505942, 299.02683147,\n",
       "       312.07088043, 336.08191882, 353.17466265, 372.3214408 ,\n",
       "       404.21116271, 424.09816716, 450.52039605, 482.72819186])"
      ]
     },
     "execution_count": 100,
     "metadata": {},
     "output_type": "execute_result"
    }
   ],
   "source": [
    "L_validation[1]"
   ]
  },
  {
   "cell_type": "code",
   "execution_count": 96,
   "metadata": {},
   "outputs": [
    {
     "data": {
      "text/plain": [
       "array([0.        , 0.05263158, 0.10526316, 0.15789474, 0.21052632,\n",
       "       0.26315789, 0.31578947, 0.36842105, 0.42105263, 0.47368421,\n",
       "       0.52631579, 0.57894737, 0.63157895, 0.68421053, 0.73684211,\n",
       "       0.78947368, 0.84210526, 0.89473684, 0.94736842, 1.        ])"
      ]
     },
     "execution_count": 96,
     "metadata": {},
     "output_type": "execute_result"
    }
   ],
   "source": []
  },
  {
   "cell_type": "code",
   "execution_count": null,
   "metadata": {},
   "outputs": [],
   "source": [
    "(L_prediction - L_validation).sum()/N"
   ]
  }
 ],
 "metadata": {
  "kernelspec": {
   "display_name": "Python 3",
   "language": "python",
   "name": "python3"
  },
  "language_info": {
   "codemirror_mode": {
    "name": "ipython",
    "version": 3
   },
   "file_extension": ".py",
   "mimetype": "text/x-python",
   "name": "python",
   "nbconvert_exporter": "python",
   "pygments_lexer": "ipython3",
   "version": "3.8.3"
  }
 },
 "nbformat": 4,
 "nbformat_minor": 4
}
