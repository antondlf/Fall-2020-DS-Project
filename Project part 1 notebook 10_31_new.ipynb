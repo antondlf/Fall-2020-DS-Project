{
 "cells": [
  {
   "cell_type": "markdown",
   "metadata": {},
   "source": [
    "Monitoring COVID-19 Infections through Wastewater Surveillance\n",
    "CMPSC 190DD/197A Project, Fall 2020\n",
    "Nick Bachelder, Anton de la Fuente, Zoe Holzer "
   ]
  },
  {
   "cell_type": "markdown",
   "metadata": {},
   "source": [
    "PART A: \n",
    "1. Using the model dynamics described in the previous section, and all the given and chosen parameters, simulate the behavior of the disease for 120 days for this single leaf node."
   ]
  },
  {
   "cell_type": "code",
   "execution_count": 69,
   "metadata": {},
   "outputs": [],
   "source": [
    "import numpy as np\n",
    "part1 = np.load(\"part1a.npz\")\n",
    "part1.files\n",
    "Ic_0 = part1[\"Ic_0\"]\n",
    "N = part1[\"N\"]\n",
    "gamma = part1[\"gamma\"]\n",
    "Lc = part1[\"Lc\"]\n",
    "Svc_0 = part1[\"Svc_0_pmf\"]"
   ]
  },
  {
   "cell_type": "code",
   "execution_count": 70,
   "metadata": {
    "scrolled": true
   },
   "outputs": [],
   "source": [
    "import pandas as pd\n",
    "S_0 = N-(Ic_0.sum())\n",
    "I_0 = Ic_0.sum()\n",
    "R_0 = 0\n",
    "data = pd.DataFrame(Svc_0)"
   ]
  },
  {
   "cell_type": "code",
   "execution_count": 71,
   "metadata": {},
   "outputs": [],
   "source": [
    "import random \n",
    "from random import Random\n",
    "random.seed(a=None, version=2)\n",
    "B0c = []\n",
    "B1c = []\n",
    "B2c = []\n",
    "B3c = []\n",
    "for i in range(4):\n",
    "    B0c.append(random.uniform(0, 0.25))\n",
    "    B1c.append(random.uniform(0.25, 0.5))\n",
    "    B2c.append(random.uniform(0.5, 0.75))\n",
    "    B3c.append(random.uniform(0.75, 1.0))\n",
    "    Bvc = np.array([B0c, B1c, B2c, B3c])\n",
    "for i in range(4):\n",
    "    Bvc[i].sort()\n",
    "Bvc = pd.DataFrame(Bvc)"
   ]
  },
  {
   "cell_type": "code",
   "execution_count": 72,
   "metadata": {},
   "outputs": [],
   "source": [
    "def S_rate(Svc, Ic, N, Bvc, gamma):\n",
    "    \"\"\"Calculate the rate of change of suceptible group split by vulnerability and comorbidity, return a\n",
    "    tuple where the first element is split on both categories, and the second element only split by comorbidity\"\"\"\n",
    "    #This makes sure that once population hits 0 it doesn't affect the differential\n",
    "    Svc[Svc < 0] = 0\n",
    "    dSvcdt = ((Bvc * Svc * Ic)*-1)/N\n",
    "    return dSvcdt"
   ]
  },
  {
   "cell_type": "code",
   "execution_count": 73,
   "metadata": {},
   "outputs": [],
   "source": [
    "def I_rate(dSvcdt, Ic, gamma):\n",
    "    \"\"\"This function takes in the rate of change of S, sums along the vulnerability axis, and subtracts \n",
    "    Ic*gamma\"\"\"\n",
    "    Ic[Ic < 0]= 0\n",
    "    dIcdt = -dSvcdt.sum() - gamma*Ic\n",
    "    return dIcdt"
   ]
  },
  {
   "cell_type": "code",
   "execution_count": 74,
   "metadata": {},
   "outputs": [],
   "source": [
    "def R_rate(Ic, gamma):\n",
    "    Ic[Ic < 0]= 0\n",
    "    dRdt = gamma * Ic.sum()\n",
    "    return dRdt"
   ]
  },
  {
   "cell_type": "code",
   "execution_count": 75,
   "metadata": {},
   "outputs": [],
   "source": [
    "def SIR_rates(Svc, Ic, N, Bvc, gamma):\n",
    "    dSvcdt = S_rate(Svc, Ic, N, Bvc, gamma)\n",
    "    dIcdt = I_rate(dSvcdt, Ic, gamma)\n",
    "    dRdt = R_rate(Ic, gamma)\n",
    "    return dSvcdt, dIcdt, dRdt"
   ]
  },
  {
   "cell_type": "code",
   "execution_count": 76,
   "metadata": {},
   "outputs": [],
   "source": [
    "def L_rate(Ic, Lc, N):\n",
    "    Lrate= (Ic*Lc).sum()\n",
    "    return Lrate"
   ]
  },
  {
   "cell_type": "code",
   "execution_count": 77,
   "metadata": {},
   "outputs": [],
   "source": [
    "def simulation(t, Svc, Ic, N, Bvc, gamma, Lc, I_0):\n",
    "    I = I_0\n",
    "    R = 0\n",
    "    S = Svc.sum().sum()\n",
    "    SvcOverTime=[]\n",
    "    IcOvertime=[]\n",
    "    LOverTime=[]\n",
    "    simulation = [[S, I, R]]\n",
    "    for i in range(t):\n",
    "        rates = SIR_rates(Svc, Ic, N, Bvc, gamma)\n",
    "        Lrate= L_rate(Ic, Lc, N)\n",
    "        Svc = Svc + rates[0]\n",
    "        S = Svc.sum().sum()\n",
    "        Ic = Ic + rates[1]\n",
    "        I = Ic.sum()\n",
    "        R = R + rates[2]\n",
    "        L=Lrate.sum()\n",
    "        simulation.append([S, I, R])\n",
    "        SvcOverTime.insert(i,Svc)\n",
    "        IcOvertime.insert(i,Ic)\n",
    "        LOverTime.insert(i,L)\n",
    "    results = pd.DataFrame(simulation, columns = [\"S\", \"I\", \"R\"])\n",
    "    return results, SvcOverTime, IcOvertime, LOverTime"
   ]
  },
  {
   "cell_type": "code",
   "execution_count": 78,
   "metadata": {
    "scrolled": true
   },
   "outputs": [],
   "source": [
    "#The Svc data multiplied by the population to get raw population values split in both dimensions\n",
    "t=120\n",
    "Svc = pd.DataFrame(Svc_0) * (N - I_0)\n",
    "Ic = Ic_0\n",
    "sim = simulation(t, Svc, Ic, N, Bvc, gamma, Lc,I_0)"
   ]
  },
  {
   "cell_type": "markdown",
   "metadata": {},
   "source": [
    "2. Plot Sv,c and Ic values over time. (You can plot all Sv,c on the same plot. Same for Ic.). Also plot the overall S, I, R and L values."
   ]
  },
  {
   "cell_type": "code",
   "execution_count": 79,
   "metadata": {},
   "outputs": [
    {
     "data": {
      "image/png": "[encoded data removed]",
      "text/plain": [
       "<Figure size 432x288 with 1 Axes>"
      ]
     },
     "metadata": {
      "needs_background": "light"
     },
     "output_type": "display_data"
    }
   ],
   "source": [
    "import matplotlib.pyplot as plt\n",
    "fig,ax=plt.subplots(sharex=True)\n",
    "for a in range(0,120,8):\n",
    "    for b in range(0,4):\n",
    "        ax.scatter(a,sim[1][a][b][0],c='black',s=10)\n",
    "        ax.scatter(a,sim[1][a][b][1],c='red',s=10)\n",
    "        ax.scatter(a,sim[1][a][b][2],c='blue',s=10)\n",
    "        ax.scatter(a,sim[1][a][b][3],c='green',s=10)\n",
    "plt.title('Suseptable people over time by Vulnerability and Comorbidity Groups')\n",
    "plt.ylabel('Number of People')\n",
    "plt.xlabel('Day')\n",
    "plt.show()"
   ]
  },
  {
   "cell_type": "code",
   "execution_count": 80,
   "metadata": {},
   "outputs": [
    {
     "data": {
      "image/png": "[encoded data removed]",
      "text/plain": [
       "<Figure size 432x288 with 1 Axes>"
      ]
     },
     "metadata": {
      "needs_background": "light"
     },
     "output_type": "display_data"
    }
   ],
   "source": [
    "fig,ax=plt.subplots(sharex=True)\n",
    "for a in range(0,120,8):\n",
    "    ax.scatter(a,sim[2][a][0],c='black',s=10)\n",
    "    ax.scatter(a,sim[2][a][1],c='red',s=10)\n",
    "    ax.scatter(a,sim[2][a][2],c='blue',s=10)\n",
    "    ax.scatter(a,sim[2][a][3],c='yellow',s=10) \n",
    "plt.title('Infected People Over Time by Comorbidity Group')\n",
    "plt.ylabel('Number of People')\n",
    "plt.xlabel('Day')\n",
    "plt.show()"
   ]
  },
  {
   "cell_type": "code",
   "execution_count": 81,
   "metadata": {},
   "outputs": [
    {
     "data": {
      "image/png": "[encoded data removed]",
      "text/plain": [
       "<Figure size 432x288 with 1 Axes>"
      ]
     },
     "metadata": {
      "needs_background": "light"
     },
     "output_type": "display_data"
    }
   ],
   "source": [
    "fig,ax=plt.subplots(sharex=True)\n",
    "SIR=np.array(sim[0])\n",
    "for a in range(0,120,8):\n",
    "    ax.scatter(a,SIR[a][0],c='black',s=10)\n",
    "    ax.scatter(a,SIR[a][1],c='red',s=10)\n",
    "    ax.scatter(a,SIR[a][2],c='blue',s=10)\n",
    "    ax.scatter(a,sim[3][a],c='yellow',s=10)\n",
    "plt.title('Suseptable, Infected, Recovered, and Viral Load Over Time')\n",
    "plt.ylabel('Number of People')\n",
    "plt.xlabel('Day')\n",
    "plt.show()"
   ]
  },
  {
   "cell_type": "markdown",
   "metadata": {},
   "source": [
    "**3. Do the shapes of S, I, R look similar to what you expected? Which of these plots is the “curve” people refer to when they say “flatten the curve”?**\n",
    "\n",
    "The shapes of the model look about right except that we were not expecting the huge difference in scale between S and I or R after 120 days. The overall shape however is what we expected based off of what we learned in class and off of over COVID models currently available. Moreover, it is clear that the comorbidity groups largely impact the infected population over time, which makes perfect sense. When people say 'flatten the curve,' they are refering to the infected population curve (in blue on the last plot)."
   ]
  },
  {
   "cell_type": "markdown",
   "metadata": {},
   "source": [
    "**4. Do you observe that some Sv,c compartments converged to zero while others converged to a positive value? Why do you think that is?**\n",
    "\n",
    "Yes, we did observe some compartments converging to positive values other then zero. We believe that is because specific βv,c values have a large affect on the overall model, especially because it is the reciprocal of the typical time until an infected person recovers, making it play a large part on the time series."
   ]
  },
  {
   "cell_type": "code",
   "execution_count": 82,
   "metadata": {},
   "outputs": [
    {
     "data": {
      "text/html": [
       "<div>\n",
       "<style scoped>\n",
       "    .dataframe tbody tr th:only-of-type {\n",
       "        vertical-align: middle;\n",
       "    }\n",
       "\n",
       "    .dataframe tbody tr th {\n",
       "        vertical-align: top;\n",
       "    }\n",
       "\n",
       "    .dataframe thead th {\n",
       "        text-align: right;\n",
       "    }\n",
       "</style>\n",
       "<table border=\"1\" class=\"dataframe\">\n",
       "  <thead>\n",
       "    <tr style=\"text-align: right;\">\n",
       "      <th></th>\n",
       "      <th>0</th>\n",
       "      <th>1</th>\n",
       "      <th>2</th>\n",
       "      <th>3</th>\n",
       "    </tr>\n",
       "  </thead>\n",
       "  <tbody>\n",
       "    <tr>\n",
       "      <th>0</th>\n",
       "      <td>0.997734</td>\n",
       "      <td>0.754609</td>\n",
       "      <td>0.409435</td>\n",
       "      <td>0.921790</td>\n",
       "    </tr>\n",
       "    <tr>\n",
       "      <th>1</th>\n",
       "      <td>0.977971</td>\n",
       "      <td>0.470857</td>\n",
       "      <td>0.174924</td>\n",
       "      <td>0.848047</td>\n",
       "    </tr>\n",
       "    <tr>\n",
       "      <th>2</th>\n",
       "      <td>0.967487</td>\n",
       "      <td>0.360157</td>\n",
       "      <td>0.084476</td>\n",
       "      <td>0.777671</td>\n",
       "    </tr>\n",
       "    <tr>\n",
       "      <th>3</th>\n",
       "      <td>0.957327</td>\n",
       "      <td>0.242724</td>\n",
       "      <td>0.030676</td>\n",
       "      <td>0.724218</td>\n",
       "    </tr>\n",
       "  </tbody>\n",
       "</table>\n",
       "</div>"
      ],
      "text/plain": [
       "          0         1         2         3\n",
       "0  0.997734  0.754609  0.409435  0.921790\n",
       "1  0.977971  0.470857  0.174924  0.848047\n",
       "2  0.967487  0.360157  0.084476  0.777671\n",
       "3  0.957327  0.242724  0.030676  0.724218"
      ]
     },
     "execution_count": 82,
     "metadata": {},
     "output_type": "execute_result"
    }
   ],
   "source": [
    "## Print the percentages of population that never got infected for all compartments (i.e. all values\n",
    "## of v and c)\n",
    "\n",
    "OriginalSvcPopulations = pd.DataFrame(Svc_0) * (N - I_0)\n",
    "SvcFinalDay = sim[1][119]\n",
    "PercentNotInfectedvc = SvcFinalDay / OriginalSvcPopulations\n",
    "PercentNotInfectedvc"
   ]
  },
  {
   "cell_type": "code",
   "execution_count": 83,
   "metadata": {},
   "outputs": [],
   "source": [
    "## Redo but multiply all Beta values by 1/4. How does this change plots?\n",
    "\n",
    "BvcRedo = Bvc * (1/4)\n",
    "\n",
    "Svc = pd.DataFrame(Svc_0) * (N - I_0)\n",
    "Ic = Ic_0\n",
    "I = I_0\n",
    "S = Svc.sum().sum()\n",
    "R = 0\n",
    "simRedo = simulation(t, Svc, Ic, N, BvcRedo, gamma, Lc,I_0)"
   ]
  },
  {
   "cell_type": "code",
   "execution_count": 84,
   "metadata": {},
   "outputs": [
    {
     "data": {
      "image/png": "[encoded data removed]",
      "text/plain": [
       "<Figure size 432x288 with 1 Axes>"
      ]
     },
     "metadata": {
      "needs_background": "light"
     },
     "output_type": "display_data"
    }
   ],
   "source": [
    "import matplotlib.pyplot as plt\n",
    "fig,ax=plt.subplots(sharex=True)\n",
    "for a in range(0,120,8):\n",
    "    for b in range(0,4):\n",
    "        ax.scatter(a,simRedo[1][a][b][0],c='black',s=10)\n",
    "        ax.scatter(a,simRedo[1][a][b][1],c='red',s=10)\n",
    "        ax.scatter(a,simRedo[1][a][b][2],c='blue',s=10)\n",
    "        ax.scatter(a,simRedo[1][a][b][3],c='green',s=10)\n",
    "plt.title('Suseptible people over time by Vulnerability and Comorbidity Groups')\n",
    "plt.ylabel('Number of People')\n",
    "plt.xlabel('Day')\n",
    "\n",
    "plt.show()"
   ]
  },
  {
   "cell_type": "code",
   "execution_count": 85,
   "metadata": {},
   "outputs": [
    {
     "data": {
      "image/png": "[encoded data removed]",
      "text/plain": [
       "<Figure size 432x288 with 1 Axes>"
      ]
     },
     "metadata": {
      "needs_background": "light"
     },
     "output_type": "display_data"
    }
   ],
   "source": [
    "fig,ax=plt.subplots(sharex=True)\n",
    "for a in range(0,120,8):\n",
    "    ax.scatter(a,simRedo[2][a][0],c='black',s=10)\n",
    "    ax.scatter(a,simRedo[2][a][1],c='red',s=10)\n",
    "    ax.scatter(a,simRedo[2][a][2],c='blue',s=10)\n",
    "    ax.scatter(a,simRedo[2][a][3],c='yellow',s=10) \n",
    "plt.ylim(0, 1000)\n",
    "\n",
    "plt.title('Infected People Over Time by Comorbidity Group')\n",
    "plt.ylabel('Number of People')\n",
    "plt.xlabel('Day')\n",
    "\n",
    "plt.show()"
   ]
  },
  {
   "cell_type": "code",
   "execution_count": 86,
   "metadata": {
    "scrolled": true
   },
   "outputs": [
    {
     "data": {
      "image/png": "[encoded data removed]",
      "text/plain": [
       "<Figure size 432x288 with 1 Axes>"
      ]
     },
     "metadata": {
      "needs_background": "light"
     },
     "output_type": "display_data"
    }
   ],
   "source": [
    "fig,ax=plt.subplots(sharex=True)\n",
    "SIRRedo=simRedo[0]\n",
    "for a in range(0,120,8):\n",
    "    ax.scatter(a,SIR[a][0],c='black',s=10)\n",
    "    ax.scatter(a,SIR[a][1],c='red',s=10)\n",
    "    ax.scatter(a,SIR[a][2],c='blue',s=10)\n",
    "    ax.scatter(a,simRedo[3][a],c='yellow',s=10)\n",
    "    \n",
    "plt.title('Suseptable, Infected, Recovered, and Viral Load Over Time')\n",
    "plt.ylabel('Number of People')\n",
    "plt.xlabel('Day')\n",
    "plt.show()"
   ]
  },
  {
   "cell_type": "markdown",
   "metadata": {},
   "source": [
    "What happened to the S, I, R plots? Did the “curve” flatten compared to the previous case?\n",
    "\n",
    "The plots changed drastically dy reducing the beta rate. Since the disease was being spread at a much slower rate, all v,c groups declined in cases over time, and the curve most definetly 'flattened.'"
   ]
  },
  {
   "cell_type": "code",
   "execution_count": 87,
   "metadata": {},
   "outputs": [],
   "source": [
    "## Print the percentages of population that never got infected withthese βv,c values.\n",
    "\n",
    "OriginalSvcPopulations = pd.DataFrame(Svc_0) * (N - I_0)\n",
    "SvcFinalDay = simRedo[1][119]\n",
    "PercentNotInfectedvcRedo = SvcFinalDay / OriginalSvcPopulations"
   ]
  },
  {
   "cell_type": "code",
   "execution_count": 88,
   "metadata": {},
   "outputs": [
    {
     "data": {
      "text/html": [
       "<div>\n",
       "<style scoped>\n",
       "    .dataframe tbody tr th:only-of-type {\n",
       "        vertical-align: middle;\n",
       "    }\n",
       "\n",
       "    .dataframe tbody tr th {\n",
       "        vertical-align: top;\n",
       "    }\n",
       "\n",
       "    .dataframe thead th {\n",
       "        text-align: right;\n",
       "    }\n",
       "</style>\n",
       "<table border=\"1\" class=\"dataframe\">\n",
       "  <thead>\n",
       "    <tr style=\"text-align: right;\">\n",
       "      <th></th>\n",
       "      <th>0</th>\n",
       "      <th>1</th>\n",
       "      <th>2</th>\n",
       "      <th>3</th>\n",
       "    </tr>\n",
       "  </thead>\n",
       "  <tbody>\n",
       "    <tr>\n",
       "      <th>0</th>\n",
       "      <td>0.997734</td>\n",
       "      <td>0.754609</td>\n",
       "      <td>0.409435</td>\n",
       "      <td>0.921790</td>\n",
       "    </tr>\n",
       "    <tr>\n",
       "      <th>1</th>\n",
       "      <td>0.977971</td>\n",
       "      <td>0.470857</td>\n",
       "      <td>0.174924</td>\n",
       "      <td>0.848047</td>\n",
       "    </tr>\n",
       "    <tr>\n",
       "      <th>2</th>\n",
       "      <td>0.967487</td>\n",
       "      <td>0.360157</td>\n",
       "      <td>0.084476</td>\n",
       "      <td>0.777671</td>\n",
       "    </tr>\n",
       "    <tr>\n",
       "      <th>3</th>\n",
       "      <td>0.957327</td>\n",
       "      <td>0.242724</td>\n",
       "      <td>0.030676</td>\n",
       "      <td>0.724218</td>\n",
       "    </tr>\n",
       "  </tbody>\n",
       "</table>\n",
       "</div>"
      ],
      "text/plain": [
       "          0         1         2         3\n",
       "0  0.997734  0.754609  0.409435  0.921790\n",
       "1  0.977971  0.470857  0.174924  0.848047\n",
       "2  0.967487  0.360157  0.084476  0.777671\n",
       "3  0.957327  0.242724  0.030676  0.724218"
      ]
     },
     "execution_count": 88,
     "metadata": {},
     "output_type": "execute_result"
    }
   ],
   "source": [
    "PercentNotInfectedvc ## Many less people in each group were infected at a lower beta value"
   ]
  },
  {
   "cell_type": "code",
   "execution_count": 89,
   "metadata": {},
   "outputs": [
    {
     "name": "stdout",
     "output_type": "stream",
     "text": [
      "          0        1        2        3\n",
      "0   24873.5  14924.1   4974.7   4974.7\n",
      "1   24873.5  14924.1   4974.7   4974.7\n",
      "2   24873.5  14924.1   4974.7   4974.7\n",
      "3   24873.5  14924.1   4974.7   4974.7\n",
      "4   24873.5  14924.1   4974.7   4974.7\n",
      "5   19898.8  14924.1   9949.4   4974.7\n",
      "6   19898.8  14924.1   9949.4   4974.7\n",
      "7   19898.8  14924.1   9949.4   4974.7\n",
      "8   19898.8  14924.1   9949.4   4974.7\n",
      "9   19898.8  14924.1   9949.4   4974.7\n",
      "10  14924.1  14924.1   9949.4   9949.4\n",
      "11  14924.1  14924.1   9949.4   9949.4\n",
      "12  14924.1  14924.1   9949.4   9949.4\n",
      "13  14924.1  14924.1   9949.4   9949.4\n",
      "14  14924.1  14924.1   9949.4   9949.4\n",
      "15   4974.7   9949.4  14924.1  19898.8\n",
      "16   4974.7   9949.4  14924.1  19898.8\n",
      "17   4974.7   9949.4  14924.1  19898.8\n",
      "18   4974.7   9949.4  14924.1  19898.8\n",
      "19   4974.7   9949.4  14924.1  19898.8\n"
     ]
    }
   ],
   "source": [
    "part2 = np.load(\"part1b.npz\")\n",
    "part2.files\n",
    "Ic_0 = part2[\"Ic_0\"]\n",
    "N = part2[\"N\"]\n",
    "gamma = part2[\"gamma\"]\n",
    "Lc = part2[\"Lc\"]\n",
    "L_validation = part2[\"L_validation\"]\n",
    "L_test = part2[\"L_test\"]\n",
    "betas_validation = part2[\"betas_validation\"]\n",
    "pmfs = [[0.5, 0.3, 0.1, 0.1],[0.4, 0.3, 0.2, 0.1],[0.3,0.3,0.2,0.2],[0.1, 0.2, 0.3, 0.4]]\n",
    "SVC0 = []\n",
    "for item in pmfs:\n",
    "    for i in range(5):\n",
    "        SVC0.append(item)\n",
    "SVC0 = np.array(SVC0)\n",
    "Svc = pd.DataFrame(SVC0) * (N - I_0)\n",
    "Lc = [Lc]*20\n",
    "I_0 = Ic_0.sum()"
   ]
  },
  {
   "cell_type": "code",
   "execution_count": 90,
   "metadata": {},
   "outputs": [
    {
     "name": "stdout",
     "output_type": "stream",
     "text": [
      "53454.401611459114\n",
      "2058932.5167782377\n",
      "1173614453.2055416\n",
      "19097399303.56286\n",
      "40772250501.52341\n",
      "56444256425.990906\n",
      "73297173191.66269\n",
      "79163296833.50862\n",
      "90968671160.51129\n",
      "91763653192.55716\n",
      "90325564526.3909\n",
      "113296814504.42644\n",
      "116566083402.40378\n",
      "113638824722.91196\n",
      "145874966634.2507\n",
      "154175760490.14172\n",
      "158528845807.1231\n",
      "188096826292.69464\n",
      "173248174796.60587\n",
      "183648721735.57507\n"
     ]
    }
   ],
   "source": [
    "#grid search\n",
    "from sklearn.metrics import mean_squared_error\n",
    "beta_grid= np.linspace(0,1,20)\n",
    "#something is to large in our simulation\n",
    "mmse=np.inf\n",
    "beta_mmse=np.nan\n",
    "t=20\n",
    "i=0\n",
    "betaMMSE = []\n",
    "for beta in beta_grid:\n",
    "    local_mmse = np.inf\n",
    "    Ic_vc = Ic_0[i]    \n",
    "    Lc_vc = Lc[i]\n",
    "    simTrial=simulation(t, Svc, Ic_vc, N, beta, gamma, Lc_vc, I_0)\n",
    "    mse = mean_squared_error(L_validation[i], simTrial[3])\n",
    "    print(mse)\n",
    "    local_mmse = mse if mse < local_mmse else local_mmse\n",
    "    (mmse, optimal_beta) = (local_mmse, beta) if (local_mmse < mmse) else (mmse,optimal_beta)\n",
    "    i=i+1"
   ]
  }
 ],
 "metadata": {
  "kernelspec": {
   "display_name": "Python 3",
   "language": "python",
   "name": "python3"
  },
  "language_info": {
   "codemirror_mode": {
    "name": "ipython",
    "version": 3
   },
   "file_extension": ".py",
   "mimetype": "text/x-python",
   "name": "python",
   "nbconvert_exporter": "python",
   "pygments_lexer": "ipython3",
   "version": "3.8.5"
  }
 },
 "nbformat": 4,
 "nbformat_minor": 4
}
