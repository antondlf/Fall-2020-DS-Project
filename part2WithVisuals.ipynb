{
 "cells": [
  {
   "cell_type": "markdown",
   "metadata": {},
   "source": [
    "# Project Part 2 Solutions"
   ]
  },
  {
   "cell_type": "markdown",
   "metadata": {},
   "source": [
    "## (a)"
   ]
  },
  {
   "cell_type": "code",
   "execution_count": 1,
   "metadata": {},
   "outputs": [],
   "source": [
    "import numpy as np\n",
    "\n",
    "file=np.load(\"part2.npz\")\n",
    "beta_old=file['beta_old']\n",
    "N=file['N']\n",
    "Svc_0_PMF=file['Svc_0_PMF']\n",
    "Lc=file['Lc']\n",
    "Ic_0=file['Ic_0']\n",
    "gamma=file['gamma']\n",
    "L_observed=file['L_observed']\n",
    "nb_nodes = Svc_0_PMF.shape[0]"
   ]
  },
  {
   "cell_type": "code",
   "execution_count": 2,
   "metadata": {},
   "outputs": [],
   "source": [
    "def SIR(t, Z, N, betas, gamma):\n",
    "    (S_vec, I_vec, R) = (Z[:16].reshape(4, 4), Z[16:20], Z[-1])\n",
    "    I = I_vec.sum()\n",
    "    dSdt = -betas*S_vec*I/N \n",
    "    dIdt = -dSdt.sum(axis=0)-gamma*I_vec\n",
    "    dRdt = np.array([gamma*I])\n",
    "    return np.concatenate((dSdt.flatten(), dIdt, dRdt))"
   ]
  },
  {
   "cell_type": "code",
   "execution_count": 3,
   "metadata": {},
   "outputs": [],
   "source": [
    "from scipy.integrate import solve_ivp\n",
    "from scipy.optimize import fmin\n",
    "from sklearn.metrics import mean_squared_error\n",
    "\n",
    "Svc_0_PMF /= Svc_0_PMF.sum(axis=(1, 2), keepdims=True)\n",
    "Svc_0 = (N-Ic_0.sum(axis=1))[:, np.newaxis, np.newaxis]*Svc_0_PMF\n",
    "Svc_0 = Svc_0.round().astype(int)\n",
    "R0 = np.zeros((nb_nodes)).astype(int)\n",
    "\n",
    "t = np.linspace(0, 199, 200)\n",
    "\n",
    "S = np.zeros((nb_nodes, 4, 4, len(t)))\n",
    "I = np.zeros((nb_nodes, 4, len(t)))\n",
    "R = np.zeros((nb_nodes, len(t)))\n",
    "L = np.zeros((nb_nodes, len(t)))\n",
    "\n",
    "for N_node, node_index in zip(N, range(nb_nodes)):\n",
    "\n",
    "    initial_conditions = np.concatenate(\n",
    "        (Svc_0[node_index].flatten(), Ic_0[node_index], [R0[node_index]]))\n",
    "\n",
    "    soln = solve_ivp(\n",
    "        SIR, (t[0], t[9]), initial_conditions, args=(N_node, beta_old, gamma), t_eval=t[:10])\n",
    "\n",
    "    S[node_index, :, :, :10] = soln.y[:16].reshape(4, 4, -1)\n",
    "    I[node_index, :, :10] = soln.y[16:20]\n",
    "    R[node_index, :10] = soln.y[20]\n",
    "    L[node_index, :10] = Lc@soln.y[16:20]"
   ]
  },
  {
   "cell_type": "code",
   "execution_count": 4,
   "metadata": {},
   "outputs": [
    {
     "data": {
      "text/plain": [
       "array([0.22669983, 0.39484253, 0.22185059, 0.73707123, 0.70143738,\n",
       "       0.20029602, 0.35754395, 0.35007172, 0.3601532 , 0.16713867,\n",
       "       0.27568665, 0.32045898, 0.31580811, 0.20931396, 0.12352142,\n",
       "       0.22246094, 0.18051758, 0.56386108, 0.59924927, 0.14249268,\n",
       "       0.26811523, 0.27178955, 0.49281006, 0.26390381, 0.33642883,\n",
       "       0.15171814, 0.3757782 , 0.21018066, 0.44144897, 0.68422394,\n",
       "       0.29797363, 0.3010498 , 0.39297028, 0.16387329, 0.61907349,\n",
       "       0.66160202, 0.3225708 , 0.15137634, 0.28189697, 0.90992126,\n",
       "       0.41170807, 0.43126221, 0.43154907, 0.17045288, 0.24889221,\n",
       "       0.41756592, 0.71300049, 0.330896  , 0.23173828, 0.20965576,\n",
       "       0.13822021, 0.20452881, 0.33418884, 0.26639404, 0.14807129,\n",
       "       0.66747131, 0.17644043, 0.53582764, 0.27561264, 0.56835938,\n",
       "       0.36387939, 0.27543945, 0.34067383, 0.42473755, 0.24645996,\n",
       "       0.52313232, 0.20018311, 0.38779907, 0.46865234, 0.1552803 ,\n",
       "       0.14443359, 0.33525391, 0.2932373 , 0.44838867, 0.41690369,\n",
       "       0.30296936, 0.56982422, 0.66409302, 0.37408447, 0.20103149,\n",
       "       0.32358704, 0.5162674 , 0.72009888, 0.35155029, 0.28358765,\n",
       "       0.28780823, 0.25011292, 0.54241028, 0.98475342, 0.51790771,\n",
       "       0.16503143, 0.33059082, 0.25706787, 0.22650146, 0.45488892,\n",
       "       0.19622192, 0.14606934, 0.89589844, 0.23728027, 0.69208984])"
      ]
     },
     "execution_count": 4,
     "metadata": {},
     "output_type": "execute_result"
    }
   ],
   "source": [
    "alpha_predicted = np.zeros((nb_nodes))\n",
    "\n",
    "\n",
    "initial_conditions = [] ### Resetablish initial conditions for each node as 10th day values\n",
    "\n",
    "for node_index in range(nb_nodes):\n",
    "    initial_conditions.append(np.concatenate(\n",
    "        (S[node_index, :, :, 9].flatten(), I[node_index, :, 9], [R[node_index, 9]])))\n",
    "\n",
    "t = np.linspace(0, 199, 200)\n",
    "\n",
    "def loss_func(alpha, t, init): #what is beta_old, some variables missing\n",
    "    soln = solve_ivp(\n",
    "        SIR, (t[10], t[29]), initial_conditions[node_index], args=(N_node, (alpha*beta_old), gamma), t_eval=t[10:30])\n",
    "    \n",
    "    predicted = Lc@soln.y[16:20] ### Infected or dead people (N-S)\n",
    "    observed = L_observed[node_index][10:30]\n",
    "    mse = (1/(t[29]-t[10]))*np.square(observed - predicted).sum()\n",
    "    return mse\n",
    "\n",
    "\n",
    "for N_node, node_index in zip(N, range(nb_nodes)):\n",
    "    alpha_predicted[node_index] = fmin(loss_func, 0.5, disp=False, args = (t, initial_conditions))\n",
    "        \n",
    "alpha_predicted"
   ]
  },
  {
   "cell_type": "markdown",
   "metadata": {},
   "source": [
    "## (b)"
   ]
  },
  {
   "cell_type": "code",
   "execution_count": 5,
   "metadata": {},
   "outputs": [],
   "source": [
    "### Resetablish initial conditions for each node as 30th day values by repeating simulation above and \n",
    "### recording SIR values\n",
    "\n",
    "\n",
    "for N_node, node_index in zip(N, range(nb_nodes)):\n",
    "    soln = solve_ivp(\n",
    "        SIR, (t[10], t[29]), initial_conditions[node_index], args=(N_node, (alpha_predicted[node_index]*beta_old), gamma), t_eval=t[10:30])\n",
    "\n",
    "    S[node_index, :, :, 10:30] = soln.y[:16].reshape(4, 4, -1)\n",
    "    I[node_index, :, 10:30] = soln.y[16:20]\n",
    "    R[node_index, 10:30] = soln.y[20]\n",
    "    L[node_index, 10:30] = Lc@soln.y[16:20]\n",
    "    \n",
    "initial_conditions = []\n",
    "for node_index in range(nb_nodes):\n",
    "    initial_conditions.append(np.concatenate(\n",
    "        (S[node_index, :, :, 29].flatten(), I[node_index, :, 29], [R[node_index, 29]])))"
   ]
  },
  {
   "cell_type": "code",
   "execution_count": 6,
   "metadata": {},
   "outputs": [],
   "source": [
    "def g(money):\n",
    "    alpha = 1/np.log2(2*10**(-3)*money+2)\n",
    "    return alpha\n",
    "\n",
    "def g_inv(alpha):\n",
    "    money = (2**(1/alpha)-2)/(2*10**(-3))\n",
    "    return money\n",
    "import matplotlib.pyplot as plt \n",
    "\n",
    "def scatter_plot(alpha_afterNPI):\n",
    "    plt.figure()\n",
    "    colors=(beta_old[np.newaxis,:,:]*Svc_0_PMF).mean(axis=(1,2))\n",
    "    plt.scatter(alpha_predicted, alpha_afterNPI, s=N/500, c=colors, cmap='jet', alpha=0.5)\n",
    "    plt.xlabel(r\"$\\alpha_{own}$\")\n",
    "    plt.ylabel(r\"$\\alpha_{after\\ NPI}$\")\n",
    "\n",
    "def total_recovered_difference(alpha_afterNPI):\n",
    "    predict_beforeNPI = solve_ivp(\n",
    "        SIR, (t[30], t[199]), initial_conditions[node_index], args=(N_node, alpha_predicted[node_index]*beta_old, gamma), t_eval=t[30:200])\n",
    "    \n",
    "    predict_afterNPI = solve_ivp(\n",
    "        SIR, (t[30], t[199]), initial_conditions[node_index], args=(N_node, alpha_afterNPI[node_index]*beta_old, gamma), t_eval=t[30:200])\n",
    "    \n",
    "    total_d_i_day200_beforeNPI = N_node - predict_beforeNPI.y[:16].reshape(4, 4, -1).sum().sum() ### Total dead, recovered, and infected (N-S)\n",
    "    total_d_i_day200_afterNPI = N_node - predict_afterNPI.y[:16].reshape(4, 4, -1).sum().sum()\n",
    "\n",
    "    difference = total_d_i_day200_beforeNPI - total_d_i_day200_afterNPI \n",
    "    \n",
    "    return np.array(difference)"
   ]
  },
  {
   "cell_type": "markdown",
   "metadata": {},
   "source": [
    "### Policy #1"
   ]
  },
  {
   "cell_type": "markdown",
   "metadata": {},
   "source": [
    "i."
   ]
  },
  {
   "cell_type": "code",
   "execution_count": 130,
   "metadata": {},
   "outputs": [
    {
     "data": {
      "text/plain": [
       "array([0.18631644, 0.21328619, 0.18457962, 0.22243177, 0.22203708,\n",
       "       0.17556498, 0.21043002, 0.20974009, 0.21066044, 0.15675392,\n",
       "       0.19936105, 0.20649084, 0.20589211, 0.17960966, 0.12198757,\n",
       "       0.18480365, 0.16513614, 0.2197998 , 0.22051829, 0.13840924,\n",
       "       0.19778451, 0.19856595, 0.21787124, 0.19684887, 0.20835408,\n",
       "       0.14570633, 0.21193712, 0.17997688, 0.21585681, 0.2218256 ,\n",
       "       0.20332071, 0.20379807, 0.21316269, 0.15453822, 0.22086963,\n",
       "       0.22152382, 0.20675386, 0.14544489, 0.2005605 , 0.22377786,\n",
       "       0.21432112, 0.2153675 , 0.21538177, 0.15893429, 0.1931298 ,\n",
       "       0.21465056, 0.22217119, 0.20774027, 0.18802031, 0.17975491,\n",
       "       0.13486726, 0.17751522, 0.20810941, 0.1974074 , 0.14288097,\n",
       "       0.2216049 , 0.1626993 , 0.21912921, 0.19934626, 0.21989843,\n",
       "       0.21098056, 0.19931161, 0.20880402, 0.21503488, 0.19246525,\n",
       "       0.21878993, 0.17551166, 0.21281184, 0.21700738, 0.14838893,\n",
       "       0.13998515, 0.20822638, 0.20255539, 0.21617075, 0.21461404,\n",
       "       0.20408841, 0.21993005, 0.22155848, 0.21180675, 0.17591059,\n",
       "       0.20687853, 0.21859602, 0.22225055, 0.20988027, 0.20087337,\n",
       "       0.20163022, 0.19345643, 0.21929591, 0.22417272, 0.21864306,\n",
       "       0.15533173, 0.20770548, 0.19523325, 0.1862473 , 0.21645158,\n",
       "       0.17359787, 0.14129673, 0.22369411, 0.18978293, 0.22192407])"
      ]
     },
     "execution_count": 130,
     "metadata": {},
     "output_type": "execute_result"
    }
   ],
   "source": [
    "### Spend the same on each node\n",
    "spending_for_each_node = 1000000/nb_nodes\n",
    "\n",
    "### Find post spending alpha values for each node\n",
    "\n",
    "alpha_afterNPI = np.zeros((nb_nodes))\n",
    "\n",
    "for node_index in range(nb_nodes):\n",
    "    current_cost = g_inv(alpha_predicted[node_index])\n",
    "    new_alpha = g(current_cost + spending_for_each_node)\n",
    "    alpha_afterNPI[node_index] = new_alpha\n",
    "    \n",
    "alpha_afterNPI"
   ]
  },
  {
   "cell_type": "code",
   "execution_count": 8,
   "metadata": {
    "scrolled": true
   },
   "outputs": [
    {
     "data": {
      "image/png": "[encoded data removed]",
      "text/plain": [
       "<Figure size 432x288 with 1 Axes>"
      ]
     },
     "metadata": {
      "needs_background": "light"
     },
     "output_type": "display_data"
    }
   ],
   "source": [
    "import matplotlib.pyplot as plt\n",
    "\n",
    "scatter_plot(alpha_afterNPI_1)"
   ]
  },
  {
   "cell_type": "markdown",
   "metadata": {},
   "source": [
    "i.\n",
    "\n",
    "With this policy all alpha values get reduced significantly, with the most effect on nodes with the highest alpha values. This is interesting because it indicates that money spent is more effective on nodes with higher initial alpha values. There do not appear to be any straighforward trends relating to the beta values or populations of each node. This indicates that this policy would not be effective in combatting any issue relating to either of those values."
   ]
  },
  {
   "cell_type": "markdown",
   "metadata": {},
   "source": [
    "ii."
   ]
  },
  {
   "cell_type": "code",
   "execution_count": 9,
   "metadata": {},
   "outputs": [
    {
     "name": "stdout",
     "output_type": "stream",
     "text": [
      "The NPI funding for policy 1 prevented 45652464 people from becoming sick and/or dying.\n"
     ]
    }
   ],
   "source": [
    "### Find difference in total dead and infected people\n",
    "\n",
    "infected_or_dead = []\n",
    "for N_node, node_index in zip(N, range(nb_nodes)):\n",
    "    infected_or_dead.append(total_recovered_difference(alpha_afterNPI))\n",
    "    \n",
    "totaldifference = np.array(infected_or_dead).sum().astype(int)\n",
    "\n",
    "print('The NPI funding for policy 1 prevented {} people from becoming sick and/or dying.'.format(totaldifference))"
   ]
  },
  {
   "cell_type": "markdown",
   "metadata": {},
   "source": [
    "### Policy #2"
   ]
  },
  {
   "cell_type": "markdown",
   "metadata": {},
   "source": [
    "i. "
   ]
  },
  {
   "cell_type": "code",
   "execution_count": 10,
   "metadata": {},
   "outputs": [
    {
     "data": {
      "text/plain": [
       "array([0.1876412 , 0.18658945, 0.18448618, 0.21104937, 0.19812434,\n",
       "       0.18051695, 0.2025425 , 0.18815374, 0.22723512, 0.15496233,\n",
       "       0.20519397, 0.20849776, 0.20131423, 0.18727112, 0.12138877,\n",
       "       0.18918282, 0.17100541, 0.2103851 , 0.20599412, 0.14059695,\n",
       "       0.20590467, 0.20917908, 0.19900549, 0.23126379, 0.20887315,\n",
       "       0.14538564, 0.18291944, 0.18761193, 0.25857206, 0.19230632,\n",
       "       0.19610401, 0.22183753, 0.20080195, 0.15728604, 0.20891606,\n",
       "       0.18211517, 0.23343467, 0.14809433, 0.21105383, 0.24630211,\n",
       "       0.19779822, 0.27155538, 0.20858147, 0.16483192, 0.17829431,\n",
       "       0.2165835 , 0.23726224, 0.18501624, 0.16867959, 0.19323164,\n",
       "       0.13515235, 0.17249228, 0.19065238, 0.19626268, 0.14517787,\n",
       "       0.23621844, 0.16619592, 0.22455411, 0.16880456, 0.23439417,\n",
       "       0.23331301, 0.20851994, 0.24447098, 0.23635373, 0.20622481,\n",
       "       0.19469868, 0.17078897, 0.22920071, 0.18787737, 0.14676672,\n",
       "       0.13720497, 0.18410828, 0.21413971, 0.28473294, 0.20306682,\n",
       "       0.18839095, 0.2361542 , 0.23455545, 0.21384342, 0.1782226 ,\n",
       "       0.23423196, 0.20897132, 0.24897414, 0.23163559, 0.19039915,\n",
       "       0.19682413, 0.2007592 , 0.25794915, 0.26440576, 0.20348528,\n",
       "       0.15534616, 0.25564859, 0.19556555, 0.17902224, 0.2428507 ,\n",
       "       0.18057516, 0.14240791, 0.32851125, 0.1856834 , 0.23687389])"
      ]
     },
     "execution_count": 10,
     "metadata": {},
     "output_type": "execute_result"
    }
   ],
   "source": [
    "### Spend money proportional to population\n",
    "spending_for_each_node = np.zeros((nb_nodes)) ## array of spending for each node (len = 100)\n",
    "\n",
    "for N_node, node_index in zip(N, range(nb_nodes)):\n",
    "    spending_for_each_node[node_index] = 1000000*(N_node/N.sum())\n",
    "\n",
    "### Find post spending alpha values for each node\n",
    "\n",
    "alpha_afterNPI_1 = np.zeros((nb_nodes))\n",
    "\n",
    "for node_index in range(nb_nodes):\n",
    "    current_cost = g_inv(alpha_predicted[node_index])\n",
    "    new_alpha = g(current_cost + spending_for_each_node[node_index])\n",
    "    alpha_afterNPI_1[node_index] = new_alpha\n",
    "    \n",
    "alpha_afterNPI_1"
   ]
  },
  {
   "cell_type": "code",
   "execution_count": 11,
   "metadata": {},
   "outputs": [
    {
     "data": {
      "image/png": "[encoded data removed]",
      "text/plain": [
       "<Figure size 432x288 with 1 Axes>"
      ]
     },
     "metadata": {
      "needs_background": "light"
     },
     "output_type": "display_data"
    }
   ],
   "source": [
    "scatter_plot(alpha_afterNPI_1)"
   ]
  },
  {
   "cell_type": "markdown",
   "metadata": {},
   "source": [
    "i.\n",
    "\n",
    "\n",
    "Here money was alocated in amounts proportional to the population of each node. As expected the lowest alpha values are associated with the nodes that have highest populations, with a slight increase in the new alpha values as initial alpha values increase. This is expected, since we observed above that higher alpha values require more money to decrease and we are spending more on high population nodes than low population nodes. The curve follows a similar trend to the Alpha own occuring with Policy 1, however adjusting for the individual population sizes causes the curve to vary significantly and with higher reguard to there individual features."
   ]
  },
  {
   "cell_type": "markdown",
   "metadata": {},
   "source": [
    "ii."
   ]
  },
  {
   "cell_type": "code",
   "execution_count": 12,
   "metadata": {},
   "outputs": [
    {
     "name": "stdout",
     "output_type": "stream",
     "text": [
      "The NPI funding for policy 2 prevented 47811820 people from becoming sick and/or dying.\n"
     ]
    }
   ],
   "source": [
    "### Find difference in total dead and infected people\n",
    "\n",
    "infected_or_dead = []\n",
    "for N_node, node_index in zip(N, range(nb_nodes)):\n",
    "    infected_or_dead.append(total_recovered_difference(alpha_afterNPI_1))\n",
    "    \n",
    "totaldifference = np.array(infected_or_dead).sum().astype(int)\n",
    "\n",
    "print('The NPI funding for policy 2 prevented {} people from becoming sick and/or dying.'.format(totaldifference))"
   ]
  },
  {
   "cell_type": "markdown",
   "metadata": {},
   "source": [
    "### Policy #3"
   ]
  },
  {
   "cell_type": "markdown",
   "metadata": {},
   "source": [
    "i."
   ]
  },
  {
   "cell_type": "code",
   "execution_count": 13,
   "metadata": {},
   "outputs": [
    {
     "name": "stdout",
     "output_type": "stream",
     "text": [
      "The alpha change that can be accomplished for all nodes within the budget is 0.019732650756835942.\n"
     ]
    }
   ],
   "source": [
    "### Spend money for each node to make change in alpha equal for all nodes\n",
    "\n",
    "spending_for_each_node = np.zeros((nb_nodes)) ## array of spending for each node (len = 100)\n",
    "\n",
    "def budget(alpha_change):\n",
    "    new_alphas = np.zeros((nb_nodes))\n",
    "    current_costs = np.zeros((nb_nodes))\n",
    "    new_alpha_total_cost = np.zeros((nb_nodes))\n",
    "    moneyspent = np.zeros((nb_nodes))\n",
    "    for node_index in range(nb_nodes):\n",
    "        current_costs[node_index] = g_inv(alpha_predicted[node_index])\n",
    "        new_alphas[node_index] = alpha_predicted[node_index] - alpha_change\n",
    "        new_alpha_total_cost[node_index] = g_inv(new_alphas[node_index])\n",
    "        moneyspent[node_index] = new_alpha_total_cost[node_index] - current_costs[node_index]\n",
    "    moneyspent = np.array(moneyspent)\n",
    "    return np.square(moneyspent.sum() - 1000000)\n",
    "        \n",
    "\n",
    "alpha_change = fmin(budget, 0, disp=False)\n",
    "\n",
    "print('The alpha change that can be accomplished for all nodes within the budget is {}.'.format(alpha_change[0]))"
   ]
  },
  {
   "cell_type": "code",
   "execution_count": 14,
   "metadata": {},
   "outputs": [
    {
     "data": {
      "text/plain": [
       "array([0.20696718, 0.37510988, 0.20211794, 0.71733858, 0.68170473,\n",
       "       0.18056337, 0.33781129, 0.33033907, 0.34042055, 0.14740602,\n",
       "       0.25595399, 0.30072633, 0.29607545, 0.18958131, 0.10378877,\n",
       "       0.20272829, 0.16078493, 0.54412843, 0.57951662, 0.12276003,\n",
       "       0.24838258, 0.2520569 , 0.47307741, 0.24417116, 0.31669618,\n",
       "       0.13198549, 0.35604555, 0.19044801, 0.42171632, 0.66449129,\n",
       "       0.27824098, 0.28131715, 0.37323763, 0.14414064, 0.59934084,\n",
       "       0.64186937, 0.30283815, 0.13164369, 0.26216432, 0.89018861,\n",
       "       0.39197542, 0.41152956, 0.41181642, 0.15072023, 0.22915956,\n",
       "       0.39783327, 0.69326784, 0.31116335, 0.21200563, 0.18992311,\n",
       "       0.11848756, 0.18479616, 0.31445619, 0.24666139, 0.12833864,\n",
       "       0.64773866, 0.15670778, 0.51609499, 0.25587999, 0.54862672,\n",
       "       0.34414674, 0.2557068 , 0.32094118, 0.4050049 , 0.22672731,\n",
       "       0.50339967, 0.18045045, 0.36806642, 0.44891969, 0.13554765,\n",
       "       0.12470094, 0.31552126, 0.27350465, 0.42865602, 0.39717104,\n",
       "       0.28323671, 0.55009157, 0.64436037, 0.35435182, 0.18129884,\n",
       "       0.30385439, 0.49653474, 0.70036623, 0.33181764, 0.263855  ,\n",
       "       0.26807558, 0.23038026, 0.52267763, 0.96502077, 0.49817506,\n",
       "       0.14529878, 0.31085817, 0.23733522, 0.20676881, 0.43515627,\n",
       "       0.17648927, 0.12633669, 0.87616579, 0.21754762, 0.67235719])"
      ]
     },
     "execution_count": 14,
     "metadata": {},
     "output_type": "execute_result"
    }
   ],
   "source": [
    "new_alphas = np.zeros((nb_nodes))\n",
    "current_costs = np.zeros((nb_nodes))\n",
    "new_alpha_total_cost = np.zeros((nb_nodes))\n",
    "moneyspent = np.zeros((nb_nodes))\n",
    "for node_index in range(nb_nodes):\n",
    "        current_costs[node_index] = g_inv(alpha_predicted[node_index])\n",
    "        new_alphas[node_index] = alpha_predicted[node_index] - 0.019732650756835942\n",
    "        new_alpha_total_cost[node_index] = g_inv(new_alphas[node_index])\n",
    "        moneyspent[node_index] = new_alpha_total_cost[node_index] - current_costs[node_index]\n",
    "moneyspent\n",
    "\n",
    "new_alphas"
   ]
  },
  {
   "cell_type": "code",
   "execution_count": 15,
   "metadata": {},
   "outputs": [
    {
     "data": {
      "image/png": "[encoded data removed]",
      "text/plain": [
       "<Figure size 432x288 with 1 Axes>"
      ]
     },
     "metadata": {
      "needs_background": "light"
     },
     "output_type": "display_data"
    }
   ],
   "source": [
    "scatter_plot(new_alphas)\n"
   ]
  },
  {
   "cell_type": "markdown",
   "metadata": {},
   "source": [
    "i.\n",
    "\n",
    "\n",
    "Because this policy targeted change in alpha, the results are exactly as expected. Since every alpha is reduced by the same amount the plot is of the form alpha_after_NPI = alpha_own + b, where b represents the change in alpha. There is no clear trend seen here with relation to initial beta values. Population values also don't seem to follow any particular trend, although most of the high population nodes appear to be located towards the mean alpha values. "
   ]
  },
  {
   "cell_type": "markdown",
   "metadata": {},
   "source": [
    "ii."
   ]
  },
  {
   "cell_type": "code",
   "execution_count": 16,
   "metadata": {},
   "outputs": [
    {
     "name": "stdout",
     "output_type": "stream",
     "text": [
      "The NPI funding for policy 3 prevented 5839504 people from becoming sick and/or dying.\n"
     ]
    }
   ],
   "source": [
    "### Find difference in total dead and infected people\n",
    "\n",
    "infected_or_dead = []\n",
    "for N_node, node_index in zip(N, range(nb_nodes)):\n",
    "    infected_or_dead.append(total_recovered_difference(new_alphas))\n",
    "    \n",
    "totaldifference = np.array(infected_or_dead).sum().astype(int)\n",
    "\n",
    "print('The NPI funding for policy 3 prevented {} people from becoming sick and/or dying.'.format(totaldifference))"
   ]
  },
  {
   "cell_type": "markdown",
   "metadata": {},
   "source": [
    "### Policy #4"
   ]
  },
  {
   "cell_type": "markdown",
   "metadata": {},
   "source": [
    "i.\n",
    "\n",
    "For this policy we find the an alpha value that we can get all nodes under within our budget. We optimize for this value. This implies that nodes that are already under that alpha value get no budget."
   ]
  },
  {
   "cell_type": "code",
   "execution_count": 17,
   "metadata": {},
   "outputs": [
    {
     "name": "stdout",
     "output_type": "stream",
     "text": [
      "The optimal alpha value to get all nodes to within the budget is 0.19708767190575607.\n"
     ]
    }
   ],
   "source": [
    "### Spend money for each node to make all alphas equal\n",
    "\n",
    "spending_for_each_node = np.zeros((nb_nodes)) ## array of spending for each node (len = 100)\n",
    "\n",
    "def alphasequal(alpha):\n",
    "    spending_for_each_node = np.zeros((nb_nodes))\n",
    "    current_costs = np.zeros((nb_nodes))\n",
    "    totalmoney = g_inv(alpha)\n",
    "    for node_index in range(nb_nodes):\n",
    "        current_costs[node_index] = g_inv(alpha_predicted[node_index])\n",
    "        budget_proposal = totalmoney - current_costs[node_index]\n",
    "        spending_for_each_node[node_index] = budget_proposal if budget_proposal > 0 else 0\n",
    "    return np.square(spending_for_each_node.sum() - 1000000)\n",
    "        \n",
    "        \n",
    "alpha_for_all = fmin(alphasequal, .15, disp=False)  \n",
    "alpha_for_all[0]\n",
    "\n",
    "print('The optimal alpha value to get all nodes to within the budget is {}.'.format(alpha_for_all[0]))"
   ]
  },
  {
   "cell_type": "code",
   "execution_count": 18,
   "metadata": {},
   "outputs": [],
   "source": [
    "def alphasequal_budget(alpha):\n",
    "    spending_for_each_node = np.zeros((nb_nodes))\n",
    "    current_costs = np.zeros((nb_nodes))\n",
    "    totalmoney = g_inv(alpha)\n",
    "    for node_index in range(nb_nodes):\n",
    "        current_costs[node_index] = g_inv(alpha_predicted[node_index])\n",
    "        budget_proposal = totalmoney - current_costs[node_index]\n",
    "        spending_for_each_node[node_index] = budget_proposal if budget_proposal > 0 else 0\n",
    "    return spending_for_each_node"
   ]
  },
  {
   "cell_type": "code",
   "execution_count": 19,
   "metadata": {},
   "outputs": [
    {
     "data": {
      "text/plain": [
       "array([0.19708767, 0.19708767, 0.19708767, 0.19708767, 0.19708767,\n",
       "       0.19708767, 0.19708767, 0.19708767, 0.19708767, 0.16713867,\n",
       "       0.19708767, 0.19708767, 0.19708767, 0.19708767, 0.12352142,\n",
       "       0.19708767, 0.18051758, 0.19708767, 0.19708767, 0.14249268,\n",
       "       0.19708767, 0.19708767, 0.19708767, 0.19708767, 0.19708767,\n",
       "       0.15171814, 0.19708767, 0.19708767, 0.19708767, 0.19708767,\n",
       "       0.19708767, 0.19708767, 0.19708767, 0.16387329, 0.19708767,\n",
       "       0.19708767, 0.19708767, 0.15137634, 0.19708767, 0.19708767,\n",
       "       0.19708767, 0.19708767, 0.19708767, 0.17045288, 0.19708767,\n",
       "       0.19708767, 0.19708767, 0.19708767, 0.19708767, 0.19708767,\n",
       "       0.13822021, 0.19708767, 0.19708767, 0.19708767, 0.14807129,\n",
       "       0.19708767, 0.17644043, 0.19708767, 0.19708767, 0.19708767,\n",
       "       0.19708767, 0.19708767, 0.19708767, 0.19708767, 0.19708767,\n",
       "       0.19708767, 0.19708767, 0.19708767, 0.19708767, 0.1552803 ,\n",
       "       0.14443359, 0.19708767, 0.19708767, 0.19708767, 0.19708767,\n",
       "       0.19708767, 0.19708767, 0.19708767, 0.19708767, 0.19708767,\n",
       "       0.19708767, 0.19708767, 0.19708767, 0.19708767, 0.19708767,\n",
       "       0.19708767, 0.19708767, 0.19708767, 0.19708767, 0.19708767,\n",
       "       0.16503143, 0.19708767, 0.19708767, 0.19708767, 0.19708767,\n",
       "       0.19622192, 0.14606934, 0.19708767, 0.19708767, 0.19708767])"
      ]
     },
     "execution_count": 19,
     "metadata": {},
     "output_type": "execute_result"
    }
   ],
   "source": [
    "### Find post spending alpha values for each node\n",
    "\n",
    "alpha_afterNPI_4 = np.zeros((nb_nodes))\n",
    "\n",
    "for node_index in range(nb_nodes):\n",
    "    total_spending = g_inv(alpha_predicted[node_index]) + alphasequal_budget(alpha_for_all)[node_index]\n",
    "    alpha_afterNPI_4[node_index] = g(total_spending)\n",
    "    \n",
    "alpha_afterNPI_4"
   ]
  },
  {
   "cell_type": "code",
   "execution_count": 20,
   "metadata": {},
   "outputs": [
    {
     "data": {
      "image/png": "[encoded data removed]",
      "text/plain": [
       "<Figure size 432x288 with 1 Axes>"
      ]
     },
     "metadata": {
      "needs_background": "light"
     },
     "output_type": "display_data"
    }
   ],
   "source": [
    "scatter_plot(alpha_afterNPI_4)"
   ]
  },
  {
   "cell_type": "markdown",
   "metadata": {},
   "source": [
    "i.\n",
    "\n",
    "All alpha values are reduced to the same number in under this policy. There is no particular trend in this policy other than that all nodes that had an alpha value greater than 0.196 sit at that value after the budget is spent. Other nodes stay the same. There are no trends in terms of population or initial beta other than the ones that may have already been present."
   ]
  },
  {
   "cell_type": "markdown",
   "metadata": {},
   "source": [
    "ii."
   ]
  },
  {
   "cell_type": "code",
   "execution_count": 21,
   "metadata": {},
   "outputs": [
    {
     "name": "stdout",
     "output_type": "stream",
     "text": [
      "The NPI funding for policy 3 prevented 47508727 people from becoming sick and/or dying.\n"
     ]
    }
   ],
   "source": [
    "infected_or_dead = []\n",
    "for N_node, node_index in zip(N, range(nb_nodes)):\n",
    "    infected_or_dead.append(total_recovered_difference(alpha_afterNPI_4))\n",
    "    \n",
    "totaldifference = np.array(infected_or_dead).sum().astype(int)\n",
    "\n",
    "print('The NPI funding for policy 3 prevented {} people from becoming sick and/or dying.'.format(totaldifference))"
   ]
  },
  {
   "cell_type": "markdown",
   "metadata": {},
   "source": [
    "## (c)"
   ]
  },
  {
   "cell_type": "code",
   "execution_count": 123,
   "metadata": {},
   "outputs": [],
   "source": [
    "def visualization(alphas):\n",
    "    from sklearn.linear_model import LinearRegression\n",
    "    betaOld=np.array([beta_old.sum()]*100).reshape(-1, 1)\n",
    "    newList=[]\n",
    "    for alpha in alphas:\n",
    "        new=beta_old*alpha\n",
    "        newList.append(new.sum())\n",
    "    betaNew=np.array(newList)\n",
    "    betaReg = LinearRegression().fit(betaOld, betaNew)\n",
    "    slope=float(betaReg.coef_)\n",
    "    yInt=betaReg.intercept_\n",
    "    print(\"Slope is \", slope, \"and y intercept is \", yInt)\n",
    "    X=np.linspace(0,100,100)\n",
    "    Y=slope*X+yInt\n",
    "    plt.plot(X, Y, color='black', linewidth=3, label='Linear Regression')\n",
    "    x1,x2,y1,y2 = plt.axis()\n",
    "    plt.axis((x1,x2,1,6.6))\n",
    "    plt.plot(range(0,100), betaOld, linewidth=3, color='blue', label='Old Beta')\n",
    "    plt.scatter(range(0,100), betaNew, color='orange', label='New Beta')\n",
    "    plt.xlabel('Node Number')\n",
    "    plt.ylabel('Beta')\n",
    "    plt.title('Change in Beta per Node')\n",
    "    plt.legend()"
   ]
  },
  {
   "cell_type": "markdown",
   "metadata": {},
   "source": [
    "### Policy 1\n",
    "I do not think that the policy \"Spend the same amount of money for each node.\" is fair because some node groups may already have access to better resources, while some may have none. The groups that either are without resources or who have high viral load denisties due to necessary circumstances such as essential work will be affected significantly more then populations who either do not need to travel in person or who already have good social support networks set up, and therefor may need more recourses allocated. Some nodes also may be much larger then others and therefor need more recourses. This policy would be more fair if we had less knowledge about each node prior."
   ]
  },
  {
   "cell_type": "code",
   "execution_count": 131,
   "metadata": {},
   "outputs": [
    {
     "name": "stdout",
     "output_type": "stream",
     "text": [
      "Slope is  0.007860149099693582 and y intercept is  1.2235711884880358\n"
     ]
    },
    {
     "data": {
      "image/png": "[encoded data removed]",
      "text/plain": [
       "<Figure size 432x288 with 1 Axes>"
      ]
     },
     "metadata": {
      "needs_background": "light"
     },
     "output_type": "display_data"
    }
   ],
   "source": [
    "# compare initial to changed betas\n",
    "visualization(alpha_afterNPI)"
   ]
  },
  {
   "cell_type": "markdown",
   "metadata": {},
   "source": [
    "### Policy 2\n",
    "This policy is the most effective.\n",
    "We do not think that the policy \"Spend the budget proportional to each node’s population.\" is fair because similar reasons as in Policy 1. This policy is an improvement because it takes into account that a larger amount of people may possibly have an increased beta value due to an increase in interactions and vulnerabuility, however once again it does not account for how many recourses were preexisting in certain communities or how often a group may be having in person interactions depending on their occupation. Beta values are not at all taken into account. As shown in the visualization, "
   ]
  },
  {
   "cell_type": "code",
   "execution_count": 120,
   "metadata": {},
   "outputs": [
    {
     "name": "stdout",
     "output_type": "stream",
     "text": [
      "Slope is  0.020008371507766833 and y intercept is  1.1708527352309097\n"
     ]
    },
    {
     "data": {
      "image/png": "[encoded data removed]",
      "text/plain": [
       "<Figure size 432x288 with 1 Axes>"
      ]
     },
     "metadata": {
      "needs_background": "light"
     },
     "output_type": "display_data"
    }
   ],
   "source": [
    "# compare initial to changed betas\n",
    "visualization(alpha_afterNPI_1)"
   ]
  },
  {
   "cell_type": "markdown",
   "metadata": {},
   "source": [
    "### Policy 3\n",
    "We do not think that the policy \"Spend the budget such that the change in α induced by the NPI is the same for all nodes.\" is fair because while it ensures that each node group gets the same amount of support in terms of reducing beta, mathematically it does not work out because node groups with smaller initial beta values will end up getting a very large amount of support as an attempt to average the amount of change, making that average change to small to help most nodes with larger beta values effectivly. As shown in the visualization, the reduction in beta appears to be quite random."
   ]
  },
  {
   "cell_type": "code",
   "execution_count": 121,
   "metadata": {},
   "outputs": [
    {
     "name": "stdout",
     "output_type": "stream",
     "text": [
      "Slope is  -0.00794373782851479 and y intercept is  2.2909307647708976\n"
     ]
    },
    {
     "data": {
      "image/png": "[encoded data removed]",
      "text/plain": [
       "<Figure size 432x288 with 1 Axes>"
      ]
     },
     "metadata": {
      "needs_background": "light"
     },
     "output_type": "display_data"
    }
   ],
   "source": [
    "# compare initial to changed betas\n",
    "visualization(new_alphas)"
   ]
  },
  {
   "cell_type": "markdown",
   "metadata": {},
   "source": [
    "### Policy 4\n",
    "I think that the policy that we chose, \"Spend the budget such that alpha is nearly equal for each node.\""
   ]
  },
  {
   "cell_type": "code",
   "execution_count": 122,
   "metadata": {},
   "outputs": [
    {
     "name": "stdout",
     "output_type": "stream",
     "text": [
      "Slope is  -0.016616162586084823 and y intercept is  1.3375906945950524\n"
     ]
    },
    {
     "data": {
      "image/png": "[encoded data removed]",
      "text/plain": [
       "<Figure size 432x288 with 1 Axes>"
      ]
     },
     "metadata": {
      "needs_background": "light"
     },
     "output_type": "display_data"
    }
   ],
   "source": [
    "# compare initial to changed betas\n",
    "visualization(alpha_afterNPI_4)"
   ]
  },
  {
   "cell_type": "code",
   "execution_count": 24,
   "metadata": {},
   "outputs": [],
   "source": [
    "# regressions, lower coefficients and intercepts better"
   ]
  },
  {
   "cell_type": "markdown",
   "metadata": {},
   "source": [
    "Measure based off: lives saved, final beta\n",
    "The question is what is\n",
    "the metric by which you measure two individuals’ similarity. "
   ]
  },
  {
   "cell_type": "code",
   "execution_count": null,
   "metadata": {},
   "outputs": [],
   "source": []
  }
 ],
 "metadata": {
  "kernelspec": {
   "display_name": "Python 3",
   "language": "python",
   "name": "python3"
  },
  "language_info": {
   "codemirror_mode": {
    "name": "ipython",
    "version": 3
   },
   "file_extension": ".py",
   "mimetype": "text/x-python",
   "name": "python",
   "nbconvert_exporter": "python",
   "pygments_lexer": "ipython3",
   "version": "3.8.5"
  }
 },
 "nbformat": 4,
 "nbformat_minor": 2
}
